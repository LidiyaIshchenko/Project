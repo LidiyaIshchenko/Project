{
 "cells": [
  {
   "cell_type": "markdown",
   "metadata": {
    "toc": true
   },
   "source": [
    "<h1>Содержание<span class=\"tocSkip\"></span></h1>\n",
    "<div class=\"toc\"><ul class=\"toc-item\"><li><span><a href=\"#Подготовка-данных\" data-toc-modified-id=\"Подготовка-данных-1\"><span class=\"toc-item-num\">1&nbsp;&nbsp;</span>Подготовка данных</a></span></li><li><span><a href=\"#Исследование-задачи\" data-toc-modified-id=\"Исследование-задачи-2\"><span class=\"toc-item-num\">2&nbsp;&nbsp;</span>Исследование задачи</a></span><ul class=\"toc-item\"><li><span><a href=\"#Исследование-факторов\" data-toc-modified-id=\"Исследование-факторов-2.1\"><span class=\"toc-item-num\">2.1&nbsp;&nbsp;</span>Исследование факторов</a></span><ul class=\"toc-item\"><li><span><a href=\"#Страна-проживания\" data-toc-modified-id=\"Страна-проживания-2.1.1\"><span class=\"toc-item-num\">2.1.1&nbsp;&nbsp;</span>Страна проживания</a></span></li><li><span><a href=\"#Пол-клиента\" data-toc-modified-id=\"Пол-клиента-2.1.2\"><span class=\"toc-item-num\">2.1.2&nbsp;&nbsp;</span>Пол клиента</a></span></li><li><span><a href=\"#Наличие-кредитной-карты\" data-toc-modified-id=\"Наличие-кредитной-карты-2.1.3\"><span class=\"toc-item-num\">2.1.3&nbsp;&nbsp;</span>Наличие кредитной карты</a></span></li><li><span><a href=\"#Активность-клиента\" data-toc-modified-id=\"Активность-клиента-2.1.4\"><span class=\"toc-item-num\">2.1.4&nbsp;&nbsp;</span>Активность клиента</a></span></li><li><span><a href=\"#Количество-используемых-продуктов\" data-toc-modified-id=\"Количество-используемых-продуктов-2.1.5\"><span class=\"toc-item-num\">2.1.5&nbsp;&nbsp;</span>Количество используемых продуктов</a></span></li><li><span><a href=\"#Возраст\" data-toc-modified-id=\"Возраст-2.1.6\"><span class=\"toc-item-num\">2.1.6&nbsp;&nbsp;</span>Возраст</a></span></li><li><span><a href=\"#Кредитный-рейтинг\" data-toc-modified-id=\"Кредитный-рейтинг-2.1.7\"><span class=\"toc-item-num\">2.1.7&nbsp;&nbsp;</span>Кредитный рейтинг</a></span></li><li><span><a href=\"#Баланс-на-счете\" data-toc-modified-id=\"Баланс-на-счете-2.1.8\"><span class=\"toc-item-num\">2.1.8&nbsp;&nbsp;</span>Баланс на счете</a></span></li><li><span><a href=\"#Заработная-плата\" data-toc-modified-id=\"Заработная-плата-2.1.9\"><span class=\"toc-item-num\">2.1.9&nbsp;&nbsp;</span>Заработная плата</a></span></li><li><span><a href=\"#Продолжительность-отношений-с-банком\" data-toc-modified-id=\"Продолжительность-отношений-с-банком-2.1.10\"><span class=\"toc-item-num\">2.1.10&nbsp;&nbsp;</span>Продолжительность отношений с банком</a></span></li></ul></li><li><span><a href=\"#Общий-вывод-по-результатам-исследования-факторов.\" data-toc-modified-id=\"Общий-вывод-по-результатам-исследования-факторов.-2.2\"><span class=\"toc-item-num\">2.2&nbsp;&nbsp;</span>Общий вывод по результатам исследования факторов.</a></span></li><li><span><a href=\"#Кодирование-переменных\" data-toc-modified-id=\"Кодирование-переменных-2.3\"><span class=\"toc-item-num\">2.3&nbsp;&nbsp;</span>Кодирование переменных</a></span></li><li><span><a href=\"#Модель-Random-Forest\" data-toc-modified-id=\"Модель-Random-Forest-2.4\"><span class=\"toc-item-num\">2.4&nbsp;&nbsp;</span>Модель Random Forest</a></span></li><li><span><a href=\"#Модель-Логистической-регресси\" data-toc-modified-id=\"Модель-Логистической-регресси-2.5\"><span class=\"toc-item-num\">2.5&nbsp;&nbsp;</span>Модель Логистической регресси</a></span></li><li><span><a href=\"#Общий-вывод-по-результатам-исследования-задачи\" data-toc-modified-id=\"Общий-вывод-по-результатам-исследования-задачи-2.6\"><span class=\"toc-item-num\">2.6&nbsp;&nbsp;</span>Общий вывод по результатам исследования задачи</a></span></li></ul></li><li><span><a href=\"#Борьба-с-дисбалансом\" data-toc-modified-id=\"Борьба-с-дисбалансом-3\"><span class=\"toc-item-num\">3&nbsp;&nbsp;</span>Борьба с дисбалансом</a></span><ul class=\"toc-item\"><li><span><a href=\"#Взвешивание-классов\" data-toc-modified-id=\"Взвешивание-классов-3.1\"><span class=\"toc-item-num\">3.1&nbsp;&nbsp;</span>Взвешивание классов</a></span><ul class=\"toc-item\"><li><span><a href=\"#Обобщение-результатов-и-вывод\" data-toc-modified-id=\"Обобщение-результатов-и-вывод-3.1.1\"><span class=\"toc-item-num\">3.1.1&nbsp;&nbsp;</span>Обобщение результатов и вывод</a></span></li></ul></li><li><span><a href=\"#Random-Under-Sampler-(Under-sampling)\" data-toc-modified-id=\"Random-Under-Sampler-(Under-sampling)-3.2\"><span class=\"toc-item-num\">3.2&nbsp;&nbsp;</span>Random Under Sampler (Under sampling)</a></span><ul class=\"toc-item\"><li><span><a href=\"#Уменьшение-обучающей-выборки\" data-toc-modified-id=\"Уменьшение-обучающей-выборки-3.2.1\"><span class=\"toc-item-num\">3.2.1&nbsp;&nbsp;</span>Уменьшение обучающей выборки</a></span></li><li><span><a href=\"#Обобщение-результатов-и-вывод\" data-toc-modified-id=\"Обобщение-результатов-и-вывод-3.2.2\"><span class=\"toc-item-num\">3.2.2&nbsp;&nbsp;</span>Обобщение результатов и вывод</a></span></li></ul></li><li><span><a href=\"#Downsampling\" data-toc-modified-id=\"Downsampling-3.3\"><span class=\"toc-item-num\">3.3&nbsp;&nbsp;</span>Downsampling</a></span><ul class=\"toc-item\"><li><span><a href=\"#Уменьшение-обучающей-выборки\" data-toc-modified-id=\"Уменьшение-обучающей-выборки-3.3.1\"><span class=\"toc-item-num\">3.3.1&nbsp;&nbsp;</span>Уменьшение обучающей выборки</a></span></li><li><span><a href=\"#Обучение-и-тестирование-логистической-регрессии\" data-toc-modified-id=\"Обучение-и-тестирование-логистической-регрессии-3.3.2\"><span class=\"toc-item-num\">3.3.2&nbsp;&nbsp;</span>Обучение и тестирование логистической регрессии</a></span></li><li><span><a href=\"#Обучение-и-тестирование-случайного-леса\" data-toc-modified-id=\"Обучение-и-тестирование-случайного-леса-3.3.3\"><span class=\"toc-item-num\">3.3.3&nbsp;&nbsp;</span>Обучение и тестирование случайного леса</a></span></li><li><span><a href=\"#Обобщение-результатов-и-вывод\" data-toc-modified-id=\"Обобщение-результатов-и-вывод-3.3.4\"><span class=\"toc-item-num\">3.3.4&nbsp;&nbsp;</span>Обобщение результатов и вывод</a></span></li></ul></li><li><span><a href=\"#Upsampling\" data-toc-modified-id=\"Upsampling-3.4\"><span class=\"toc-item-num\">3.4&nbsp;&nbsp;</span>Upsampling</a></span><ul class=\"toc-item\"><li><span><a href=\"#Увеличение-обучающей-выборки\" data-toc-modified-id=\"Увеличение-обучающей-выборки-3.4.1\"><span class=\"toc-item-num\">3.4.1&nbsp;&nbsp;</span>Увеличение обучающей выборки</a></span></li><li><span><a href=\"#Обучение-и-тестирование-логистической-регрессии\" data-toc-modified-id=\"Обучение-и-тестирование-логистической-регрессии-3.4.2\"><span class=\"toc-item-num\">3.4.2&nbsp;&nbsp;</span>Обучение и тестирование логистической регрессии</a></span></li><li><span><a href=\"#Обучение-и-тестирование-случайного-леса\" data-toc-modified-id=\"Обучение-и-тестирование-случайного-леса-3.4.3\"><span class=\"toc-item-num\">3.4.3&nbsp;&nbsp;</span>Обучение и тестирование случайного леса</a></span></li><li><span><a href=\"#Обобщение-результатов-и-вывод\" data-toc-modified-id=\"Обобщение-результатов-и-вывод-3.4.4\"><span class=\"toc-item-num\">3.4.4&nbsp;&nbsp;</span>Обобщение результатов и вывод</a></span></li></ul></li><li><span><a href=\"#Общий-вывод-по-результатам-борьбы-с-дисбалансом\" data-toc-modified-id=\"Общий-вывод-по-результатам-борьбы-с-дисбалансом-3.5\"><span class=\"toc-item-num\">3.5&nbsp;&nbsp;</span>Общий вывод по результатам борьбы с дисбалансом</a></span></li></ul></li><li><span><a href=\"#Тестирование-модели\" data-toc-modified-id=\"Тестирование-модели-4\"><span class=\"toc-item-num\">4&nbsp;&nbsp;</span>Тестирование модели</a></span></li><li><span><a href=\"#Общий-вывод\" data-toc-modified-id=\"Общий-вывод-5\"><span class=\"toc-item-num\">5&nbsp;&nbsp;</span>Общий вывод</a></span></li><li><span><a href=\"#Чек-лист-готовности-проекта\" data-toc-modified-id=\"Чек-лист-готовности-проекта-6\"><span class=\"toc-item-num\">6&nbsp;&nbsp;</span>Чек-лист готовности проекта</a></span></li></ul></div>"
   ]
  },
  {
   "cell_type": "markdown",
   "metadata": {},
   "source": [
    "<h1>Описание проекта<span class=\"tocSkip\"></span></h1>"
   ]
  },
  {
   "cell_type": "markdown",
   "metadata": {},
   "source": [
    "Из «Бета-Банка» стали уходить клиенты. Каждый месяц. Немного, но заметно. Банковские маркетологи посчитали: сохранять текущих клиентов дешевле, чем привлекать новых. \n",
    "Нужно спрогнозировать, уйдёт клиент из банка в ближайшее время или нет. Вам предоставлены исторические данные о поведении клиентов и расторжении договоров с банком.  \n",
    "Постройте модель с предельно большим значением F1-меры. Чтобы сдать проект успешно, нужно довести метрику до 0.59. Проверьте F1-меру на тестовой выборке самостоятельно.\n",
    "Дополнительно измеряйте AUC-ROC, сравнивайте её значение с F1-мерой.\n",
    "Инструкция по выполнению проекта  \n",
    "Загрузите и подготовьте данные. \n",
    "Поясните порядок действий.   \n",
    "Исследуйте баланс классов, обучите модель без учёта дисбаланса. Кратко опишите выводы.   \n",
    "Улучшите качество модели, учитывая дисбаланс классов. Обучите разные модели и найдите лучшую. Кратко опишите выводы. \n",
    "Проведите финальное тестирование. \n",
    "Описание данных  \n",
    "Данные находятся в файле /datasets/Churn.csv (англ. «отток клиентов»). Скачать датасет  \n",
    "Признаки \n",
    "RowNumber — индекс строки в данных \n",
    "CustomerId — уникальный идентификатор клиента \n",
    "Surname — фамилия \n",
    "CreditScore — кредитный рейтинг \n",
    "Geography — страна проживания \n",
    "Gender — пол \n",
    "Age — возраст \n",
    "Tenure — сколько лет человек является клиентом банка \n",
    "Balance — баланс на счёте \n",
    "NumOfProducts — количество продуктов банка, используемых клиентом \n",
    "HasCrCard — наличие кредитной карты \n",
    "IsActiveMember — активность клиента \n",
    "EstimatedSalary — предполагаемая зарплата \n",
    "Целевой признак  \n",
    "Exited — факт ухода клиента "
   ]
  },
  {
   "cell_type": "markdown",
   "metadata": {},
   "source": [
    "# Отток клиентов"
   ]
  },
  {
   "cell_type": "markdown",
   "metadata": {},
   "source": [
    "Из «Бета-Банка» стали уходить клиенты. Каждый месяц. Немного, но заметно. Банковские маркетологи посчитали: сохранять текущих клиентов дешевле, чем привлекать новых.\n",
    "\n",
    "Нужно спрогнозировать, уйдёт клиент из банка в ближайшее время или нет. Вам предоставлены исторические данные о поведении клиентов и расторжении договоров с банком. \n",
    "\n",
    "Постройте модель с предельно большим значением *F1*-меры. Чтобы сдать проект успешно, нужно довести метрику до 0.59. Проверьте *F1*-меру на тестовой выборке самостоятельно.\n",
    "\n",
    "Дополнительно измеряйте *AUC-ROC*, сравнивайте её значение с *F1*-мерой.\n",
    "\n",
    "Источник данных: [https://www.kaggle.com/barelydedicated/bank-customer-churn-modeling](https://www.kaggle.com/barelydedicated/bank-customer-churn-modeling)"
   ]
  },
  {
   "cell_type": "markdown",
   "metadata": {},
   "source": [
    "## Подготовка данных"
   ]
  },
  {
   "cell_type": "code",
   "execution_count": 1,
   "metadata": {},
   "outputs": [
    {
     "name": "stdout",
     "output_type": "stream",
     "text": [
      "Collecting imblearn\n",
      "  Downloading imblearn-0.0-py2.py3-none-any.whl (1.9 kB)\n",
      "Collecting imbalanced-learn\n",
      "  Downloading imbalanced_learn-0.11.0-py3-none-any.whl (235 kB)\n",
      "\u001b[K     |████████████████████████████████| 235 kB 2.1 MB/s eta 0:00:01\n",
      "\u001b[?25hRequirement already satisfied: scipy>=1.5.0 in /opt/conda/lib/python3.9/site-packages (from imbalanced-learn->imblearn) (1.9.1)\n",
      "Collecting joblib>=1.1.1\n",
      "  Downloading joblib-1.3.2-py3-none-any.whl (302 kB)\n",
      "\u001b[K     |████████████████████████████████| 302 kB 31.0 MB/s eta 0:00:01\n",
      "\u001b[?25hCollecting scikit-learn>=1.0.2\n",
      "  Downloading scikit_learn-1.3.0-cp39-cp39-manylinux_2_17_x86_64.manylinux2014_x86_64.whl (10.9 MB)\n",
      "\u001b[K     |████████████████████████████████| 10.9 MB 75.6 MB/s eta 0:00:01\n",
      "\u001b[?25hRequirement already satisfied: numpy>=1.17.3 in /opt/conda/lib/python3.9/site-packages (from imbalanced-learn->imblearn) (1.21.1)\n",
      "Requirement already satisfied: threadpoolctl>=2.0.0 in /opt/conda/lib/python3.9/site-packages (from imbalanced-learn->imblearn) (3.1.0)\n",
      "Installing collected packages: joblib, scikit-learn, imbalanced-learn, imblearn\n",
      "  Attempting uninstall: joblib\n",
      "    Found existing installation: joblib 1.1.0\n",
      "    Uninstalling joblib-1.1.0:\n",
      "      Successfully uninstalled joblib-1.1.0\n",
      "  Attempting uninstall: scikit-learn\n",
      "    Found existing installation: scikit-learn 0.24.1\n",
      "    Uninstalling scikit-learn-0.24.1:\n",
      "      Successfully uninstalled scikit-learn-0.24.1\n",
      "Successfully installed imbalanced-learn-0.11.0 imblearn-0.0 joblib-1.3.2 scikit-learn-1.3.0\n"
     ]
    }
   ],
   "source": [
    "!pip install imblearn"
   ]
  },
  {
   "cell_type": "code",
   "execution_count": 2,
   "metadata": {},
   "outputs": [],
   "source": [
    "import pandas as pd\n",
    "import seaborn as sns\n",
    "import matplotlib.pyplot as plt \n",
    "import numpy as np\n",
    "from scipy import stats as st\n",
    "\n",
    "from sklearn.preprocessing import OrdinalEncoder, StandardScaler, MinMaxScaler\n",
    "from sklearn.linear_model import LogisticRegression\n",
    "from sklearn.model_selection import train_test_split, GridSearchCV, RandomizedSearchCV\n",
    "\n",
    "from sklearn.tree import DecisionTreeClassifier\n",
    "from sklearn.ensemble import RandomForestClassifier\n",
    "from sklearn.metrics import roc_auc_score, f1_score, roc_curve, confusion_matrix, precision_score, recall_score\n",
    "from sklearn.dummy import DummyClassifier\n",
    "from sklearn.utils import shuffle\n",
    "from sklearn.metrics import accuracy_score\n",
    "from sklearn.model_selection import cross_val_predict\n",
    "\n",
    "from imblearn.over_sampling import SMOTE, ADASYN\n",
    "from imblearn.under_sampling import RandomUnderSampler \n",
    "import warnings"
   ]
  },
  {
   "cell_type": "code",
   "execution_count": 3,
   "metadata": {},
   "outputs": [],
   "source": [
    "try:\n",
    "    data = pd.read_csv('/datasets/Churn.csv')\n",
    "except:\n",
    "    print('Не удалось прочитать файл')"
   ]
  },
  {
   "cell_type": "markdown",
   "metadata": {},
   "source": [
    "Посмотрим на первые 5 строк исходного датафрейма"
   ]
  },
  {
   "cell_type": "code",
   "execution_count": 4,
   "metadata": {
    "scrolled": true
   },
   "outputs": [
    {
     "data": {
      "text/html": [
       "<div>\n",
       "<style scoped>\n",
       "    .dataframe tbody tr th:only-of-type {\n",
       "        vertical-align: middle;\n",
       "    }\n",
       "\n",
       "    .dataframe tbody tr th {\n",
       "        vertical-align: top;\n",
       "    }\n",
       "\n",
       "    .dataframe thead th {\n",
       "        text-align: right;\n",
       "    }\n",
       "</style>\n",
       "<table border=\"1\" class=\"dataframe\">\n",
       "  <thead>\n",
       "    <tr style=\"text-align: right;\">\n",
       "      <th></th>\n",
       "      <th>RowNumber</th>\n",
       "      <th>CustomerId</th>\n",
       "      <th>Surname</th>\n",
       "      <th>CreditScore</th>\n",
       "      <th>Geography</th>\n",
       "      <th>Gender</th>\n",
       "      <th>Age</th>\n",
       "      <th>Tenure</th>\n",
       "      <th>Balance</th>\n",
       "      <th>NumOfProducts</th>\n",
       "      <th>HasCrCard</th>\n",
       "      <th>IsActiveMember</th>\n",
       "      <th>EstimatedSalary</th>\n",
       "      <th>Exited</th>\n",
       "    </tr>\n",
       "  </thead>\n",
       "  <tbody>\n",
       "    <tr>\n",
       "      <th>0</th>\n",
       "      <td>1</td>\n",
       "      <td>15634602</td>\n",
       "      <td>Hargrave</td>\n",
       "      <td>619</td>\n",
       "      <td>France</td>\n",
       "      <td>Female</td>\n",
       "      <td>42</td>\n",
       "      <td>2.0</td>\n",
       "      <td>0.00</td>\n",
       "      <td>1</td>\n",
       "      <td>1</td>\n",
       "      <td>1</td>\n",
       "      <td>101348.88</td>\n",
       "      <td>1</td>\n",
       "    </tr>\n",
       "    <tr>\n",
       "      <th>1</th>\n",
       "      <td>2</td>\n",
       "      <td>15647311</td>\n",
       "      <td>Hill</td>\n",
       "      <td>608</td>\n",
       "      <td>Spain</td>\n",
       "      <td>Female</td>\n",
       "      <td>41</td>\n",
       "      <td>1.0</td>\n",
       "      <td>83807.86</td>\n",
       "      <td>1</td>\n",
       "      <td>0</td>\n",
       "      <td>1</td>\n",
       "      <td>112542.58</td>\n",
       "      <td>0</td>\n",
       "    </tr>\n",
       "    <tr>\n",
       "      <th>2</th>\n",
       "      <td>3</td>\n",
       "      <td>15619304</td>\n",
       "      <td>Onio</td>\n",
       "      <td>502</td>\n",
       "      <td>France</td>\n",
       "      <td>Female</td>\n",
       "      <td>42</td>\n",
       "      <td>8.0</td>\n",
       "      <td>159660.80</td>\n",
       "      <td>3</td>\n",
       "      <td>1</td>\n",
       "      <td>0</td>\n",
       "      <td>113931.57</td>\n",
       "      <td>1</td>\n",
       "    </tr>\n",
       "    <tr>\n",
       "      <th>3</th>\n",
       "      <td>4</td>\n",
       "      <td>15701354</td>\n",
       "      <td>Boni</td>\n",
       "      <td>699</td>\n",
       "      <td>France</td>\n",
       "      <td>Female</td>\n",
       "      <td>39</td>\n",
       "      <td>1.0</td>\n",
       "      <td>0.00</td>\n",
       "      <td>2</td>\n",
       "      <td>0</td>\n",
       "      <td>0</td>\n",
       "      <td>93826.63</td>\n",
       "      <td>0</td>\n",
       "    </tr>\n",
       "    <tr>\n",
       "      <th>4</th>\n",
       "      <td>5</td>\n",
       "      <td>15737888</td>\n",
       "      <td>Mitchell</td>\n",
       "      <td>850</td>\n",
       "      <td>Spain</td>\n",
       "      <td>Female</td>\n",
       "      <td>43</td>\n",
       "      <td>2.0</td>\n",
       "      <td>125510.82</td>\n",
       "      <td>1</td>\n",
       "      <td>1</td>\n",
       "      <td>1</td>\n",
       "      <td>79084.10</td>\n",
       "      <td>0</td>\n",
       "    </tr>\n",
       "  </tbody>\n",
       "</table>\n",
       "</div>"
      ],
      "text/plain": [
       "   RowNumber  CustomerId   Surname  CreditScore Geography  Gender  Age  \\\n",
       "0          1    15634602  Hargrave          619    France  Female   42   \n",
       "1          2    15647311      Hill          608     Spain  Female   41   \n",
       "2          3    15619304      Onio          502    France  Female   42   \n",
       "3          4    15701354      Boni          699    France  Female   39   \n",
       "4          5    15737888  Mitchell          850     Spain  Female   43   \n",
       "\n",
       "   Tenure    Balance  NumOfProducts  HasCrCard  IsActiveMember  \\\n",
       "0     2.0       0.00              1          1               1   \n",
       "1     1.0   83807.86              1          0               1   \n",
       "2     8.0  159660.80              3          1               0   \n",
       "3     1.0       0.00              2          0               0   \n",
       "4     2.0  125510.82              1          1               1   \n",
       "\n",
       "   EstimatedSalary  Exited  \n",
       "0        101348.88       1  \n",
       "1        112542.58       0  \n",
       "2        113931.57       1  \n",
       "3         93826.63       0  \n",
       "4         79084.10       0  "
      ]
     },
     "execution_count": 4,
     "metadata": {},
     "output_type": "execute_result"
    }
   ],
   "source": [
    "data.head()"
   ]
  },
  {
   "cell_type": "code",
   "execution_count": 5,
   "metadata": {
    "scrolled": false
   },
   "outputs": [
    {
     "name": "stdout",
     "output_type": "stream",
     "text": [
      "<class 'pandas.core.frame.DataFrame'>\n",
      "RangeIndex: 10000 entries, 0 to 9999\n",
      "Data columns (total 14 columns):\n",
      " #   Column           Non-Null Count  Dtype  \n",
      "---  ------           --------------  -----  \n",
      " 0   RowNumber        10000 non-null  int64  \n",
      " 1   CustomerId       10000 non-null  int64  \n",
      " 2   Surname          10000 non-null  object \n",
      " 3   CreditScore      10000 non-null  int64  \n",
      " 4   Geography        10000 non-null  object \n",
      " 5   Gender           10000 non-null  object \n",
      " 6   Age              10000 non-null  int64  \n",
      " 7   Tenure           9091 non-null   float64\n",
      " 8   Balance          10000 non-null  float64\n",
      " 9   NumOfProducts    10000 non-null  int64  \n",
      " 10  HasCrCard        10000 non-null  int64  \n",
      " 11  IsActiveMember   10000 non-null  int64  \n",
      " 12  EstimatedSalary  10000 non-null  float64\n",
      " 13  Exited           10000 non-null  int64  \n",
      "dtypes: float64(3), int64(8), object(3)\n",
      "memory usage: 1.1+ MB\n"
     ]
    }
   ],
   "source": [
    "data.info()"
   ]
  },
  {
   "cell_type": "markdown",
   "metadata": {},
   "source": [
    "В данных наблюдается пропуск по столбцу Tenure (продолжительность взаимоотношений клиента с банком в годах). Природа пропуска в данных не ясна, возможно это сбой системы, а может быть пропуск означает, что отношения с банком длились менее 1 года. Посмотрим какие значения вообще содержатся в этом столбце."
   ]
  },
  {
   "cell_type": "code",
   "execution_count": 6,
   "metadata": {},
   "outputs": [
    {
     "data": {
      "text/plain": [
       "1.0     952\n",
       "2.0     950\n",
       "8.0     933\n",
       "3.0     928\n",
       "5.0     927\n",
       "7.0     925\n",
       "4.0     885\n",
       "9.0     882\n",
       "6.0     881\n",
       "10.0    446\n",
       "0.0     382\n",
       "Name: Tenure, dtype: int64"
      ]
     },
     "execution_count": 6,
     "metadata": {},
     "output_type": "execute_result"
    }
   ],
   "source": [
    "data['Tenure'].value_counts()"
   ]
  },
  {
   "cell_type": "markdown",
   "metadata": {},
   "source": [
    "Предположение о том, что пропуск означает, что отношения с банком длились менее 1 года не подтвердилось, так как в данных уже есть значение 0.\n",
    "\n",
    "В целом пропусков порядка 10%, что не там много и можно удалить строки с пропусками, но на текущем этапе не будем просто удалять их или заполнять пропуски исходя из следующих предпосылок:\n",
    "\n",
    "- восстановить пропуски будет весьма затруднительно, так как природа пропусков не ясна \n",
    "- заполнять средним или медианой не совсем правильный подход, так как этот показатель весьма индивидуален - если клиент А поддерживал отношения с банком на протяжении 5 лет это не означает, что клиент В будет также поддерживать отношения в течении 5 лет.  \n",
    "На следующих этапах попробуем установить: \n",
    "\n",
    "1) взаимосвязь с другими признаками (возможно будет наблюдаться корреляция),   \n",
    "2) на сколько этот показатель вообще будет влиять на факт ухода клиента из банка. "
   ]
  },
  {
   "cell_type": "markdown",
   "metadata": {},
   "source": [
    "Проверим на налиие явных дубликатов"
   ]
  },
  {
   "cell_type": "code",
   "execution_count": 7,
   "metadata": {},
   "outputs": [
    {
     "data": {
      "text/plain": [
       "0"
      ]
     },
     "execution_count": 7,
     "metadata": {},
     "output_type": "execute_result"
    }
   ],
   "source": [
    "data.duplicated().sum()"
   ]
  },
  {
   "cell_type": "markdown",
   "metadata": {},
   "source": [
    "Удалим из датафрейма столбцы, котоыре не несут осбой информативной ценности и для исследования не потребуются: \n",
    "- RowNumber — индекс строки в данных \n",
    "- CustomerId — уникальный идентификатор клиента  \n",
    "- Surname — фамилия "
   ]
  },
  {
   "cell_type": "code",
   "execution_count": 8,
   "metadata": {},
   "outputs": [],
   "source": [
    "data=data.drop(['RowNumber', 'CustomerId', 'Surname'], axis=1)"
   ]
  },
  {
   "cell_type": "code",
   "execution_count": 9,
   "metadata": {},
   "outputs": [
    {
     "data": {
      "text/html": [
       "<div>\n",
       "<style scoped>\n",
       "    .dataframe tbody tr th:only-of-type {\n",
       "        vertical-align: middle;\n",
       "    }\n",
       "\n",
       "    .dataframe tbody tr th {\n",
       "        vertical-align: top;\n",
       "    }\n",
       "\n",
       "    .dataframe thead th {\n",
       "        text-align: right;\n",
       "    }\n",
       "</style>\n",
       "<table border=\"1\" class=\"dataframe\">\n",
       "  <thead>\n",
       "    <tr style=\"text-align: right;\">\n",
       "      <th></th>\n",
       "      <th>CreditScore</th>\n",
       "      <th>Geography</th>\n",
       "      <th>Gender</th>\n",
       "      <th>Age</th>\n",
       "      <th>Tenure</th>\n",
       "      <th>Balance</th>\n",
       "      <th>NumOfProducts</th>\n",
       "      <th>HasCrCard</th>\n",
       "      <th>IsActiveMember</th>\n",
       "      <th>EstimatedSalary</th>\n",
       "      <th>Exited</th>\n",
       "    </tr>\n",
       "  </thead>\n",
       "  <tbody>\n",
       "    <tr>\n",
       "      <th>0</th>\n",
       "      <td>619</td>\n",
       "      <td>France</td>\n",
       "      <td>Female</td>\n",
       "      <td>42</td>\n",
       "      <td>2.0</td>\n",
       "      <td>0.00</td>\n",
       "      <td>1</td>\n",
       "      <td>1</td>\n",
       "      <td>1</td>\n",
       "      <td>101348.88</td>\n",
       "      <td>1</td>\n",
       "    </tr>\n",
       "    <tr>\n",
       "      <th>1</th>\n",
       "      <td>608</td>\n",
       "      <td>Spain</td>\n",
       "      <td>Female</td>\n",
       "      <td>41</td>\n",
       "      <td>1.0</td>\n",
       "      <td>83807.86</td>\n",
       "      <td>1</td>\n",
       "      <td>0</td>\n",
       "      <td>1</td>\n",
       "      <td>112542.58</td>\n",
       "      <td>0</td>\n",
       "    </tr>\n",
       "    <tr>\n",
       "      <th>2</th>\n",
       "      <td>502</td>\n",
       "      <td>France</td>\n",
       "      <td>Female</td>\n",
       "      <td>42</td>\n",
       "      <td>8.0</td>\n",
       "      <td>159660.80</td>\n",
       "      <td>3</td>\n",
       "      <td>1</td>\n",
       "      <td>0</td>\n",
       "      <td>113931.57</td>\n",
       "      <td>1</td>\n",
       "    </tr>\n",
       "    <tr>\n",
       "      <th>3</th>\n",
       "      <td>699</td>\n",
       "      <td>France</td>\n",
       "      <td>Female</td>\n",
       "      <td>39</td>\n",
       "      <td>1.0</td>\n",
       "      <td>0.00</td>\n",
       "      <td>2</td>\n",
       "      <td>0</td>\n",
       "      <td>0</td>\n",
       "      <td>93826.63</td>\n",
       "      <td>0</td>\n",
       "    </tr>\n",
       "    <tr>\n",
       "      <th>4</th>\n",
       "      <td>850</td>\n",
       "      <td>Spain</td>\n",
       "      <td>Female</td>\n",
       "      <td>43</td>\n",
       "      <td>2.0</td>\n",
       "      <td>125510.82</td>\n",
       "      <td>1</td>\n",
       "      <td>1</td>\n",
       "      <td>1</td>\n",
       "      <td>79084.10</td>\n",
       "      <td>0</td>\n",
       "    </tr>\n",
       "  </tbody>\n",
       "</table>\n",
       "</div>"
      ],
      "text/plain": [
       "   CreditScore Geography  Gender  Age  Tenure    Balance  NumOfProducts  \\\n",
       "0          619    France  Female   42     2.0       0.00              1   \n",
       "1          608     Spain  Female   41     1.0   83807.86              1   \n",
       "2          502    France  Female   42     8.0  159660.80              3   \n",
       "3          699    France  Female   39     1.0       0.00              2   \n",
       "4          850     Spain  Female   43     2.0  125510.82              1   \n",
       "\n",
       "   HasCrCard  IsActiveMember  EstimatedSalary  Exited  \n",
       "0          1               1        101348.88       1  \n",
       "1          0               1        112542.58       0  \n",
       "2          1               0        113931.57       1  \n",
       "3          0               0         93826.63       0  \n",
       "4          1               1         79084.10       0  "
      ]
     },
     "execution_count": 9,
     "metadata": {},
     "output_type": "execute_result"
    }
   ],
   "source": [
    "data.head()"
   ]
  },
  {
   "cell_type": "code",
   "execution_count": 10,
   "metadata": {
    "scrolled": false
   },
   "outputs": [
    {
     "data": {
      "text/html": [
       "<div>\n",
       "<style scoped>\n",
       "    .dataframe tbody tr th:only-of-type {\n",
       "        vertical-align: middle;\n",
       "    }\n",
       "\n",
       "    .dataframe tbody tr th {\n",
       "        vertical-align: top;\n",
       "    }\n",
       "\n",
       "    .dataframe thead th {\n",
       "        text-align: right;\n",
       "    }\n",
       "</style>\n",
       "<table border=\"1\" class=\"dataframe\">\n",
       "  <thead>\n",
       "    <tr style=\"text-align: right;\">\n",
       "      <th></th>\n",
       "      <th>CreditScore</th>\n",
       "      <th>Age</th>\n",
       "      <th>Tenure</th>\n",
       "      <th>Balance</th>\n",
       "      <th>NumOfProducts</th>\n",
       "      <th>HasCrCard</th>\n",
       "      <th>IsActiveMember</th>\n",
       "      <th>EstimatedSalary</th>\n",
       "      <th>Exited</th>\n",
       "    </tr>\n",
       "  </thead>\n",
       "  <tbody>\n",
       "    <tr>\n",
       "      <th>count</th>\n",
       "      <td>10000.000000</td>\n",
       "      <td>10000.000000</td>\n",
       "      <td>9091.000000</td>\n",
       "      <td>10000.000000</td>\n",
       "      <td>10000.000000</td>\n",
       "      <td>10000.00000</td>\n",
       "      <td>10000.000000</td>\n",
       "      <td>10000.000000</td>\n",
       "      <td>10000.000000</td>\n",
       "    </tr>\n",
       "    <tr>\n",
       "      <th>mean</th>\n",
       "      <td>650.528800</td>\n",
       "      <td>38.921800</td>\n",
       "      <td>4.997690</td>\n",
       "      <td>76485.889288</td>\n",
       "      <td>1.530200</td>\n",
       "      <td>0.70550</td>\n",
       "      <td>0.515100</td>\n",
       "      <td>100090.239881</td>\n",
       "      <td>0.203700</td>\n",
       "    </tr>\n",
       "    <tr>\n",
       "      <th>std</th>\n",
       "      <td>96.653299</td>\n",
       "      <td>10.487806</td>\n",
       "      <td>2.894723</td>\n",
       "      <td>62397.405202</td>\n",
       "      <td>0.581654</td>\n",
       "      <td>0.45584</td>\n",
       "      <td>0.499797</td>\n",
       "      <td>57510.492818</td>\n",
       "      <td>0.402769</td>\n",
       "    </tr>\n",
       "    <tr>\n",
       "      <th>min</th>\n",
       "      <td>350.000000</td>\n",
       "      <td>18.000000</td>\n",
       "      <td>0.000000</td>\n",
       "      <td>0.000000</td>\n",
       "      <td>1.000000</td>\n",
       "      <td>0.00000</td>\n",
       "      <td>0.000000</td>\n",
       "      <td>11.580000</td>\n",
       "      <td>0.000000</td>\n",
       "    </tr>\n",
       "    <tr>\n",
       "      <th>25%</th>\n",
       "      <td>584.000000</td>\n",
       "      <td>32.000000</td>\n",
       "      <td>2.000000</td>\n",
       "      <td>0.000000</td>\n",
       "      <td>1.000000</td>\n",
       "      <td>0.00000</td>\n",
       "      <td>0.000000</td>\n",
       "      <td>51002.110000</td>\n",
       "      <td>0.000000</td>\n",
       "    </tr>\n",
       "    <tr>\n",
       "      <th>50%</th>\n",
       "      <td>652.000000</td>\n",
       "      <td>37.000000</td>\n",
       "      <td>5.000000</td>\n",
       "      <td>97198.540000</td>\n",
       "      <td>1.000000</td>\n",
       "      <td>1.00000</td>\n",
       "      <td>1.000000</td>\n",
       "      <td>100193.915000</td>\n",
       "      <td>0.000000</td>\n",
       "    </tr>\n",
       "    <tr>\n",
       "      <th>75%</th>\n",
       "      <td>718.000000</td>\n",
       "      <td>44.000000</td>\n",
       "      <td>7.000000</td>\n",
       "      <td>127644.240000</td>\n",
       "      <td>2.000000</td>\n",
       "      <td>1.00000</td>\n",
       "      <td>1.000000</td>\n",
       "      <td>149388.247500</td>\n",
       "      <td>0.000000</td>\n",
       "    </tr>\n",
       "    <tr>\n",
       "      <th>max</th>\n",
       "      <td>850.000000</td>\n",
       "      <td>92.000000</td>\n",
       "      <td>10.000000</td>\n",
       "      <td>250898.090000</td>\n",
       "      <td>4.000000</td>\n",
       "      <td>1.00000</td>\n",
       "      <td>1.000000</td>\n",
       "      <td>199992.480000</td>\n",
       "      <td>1.000000</td>\n",
       "    </tr>\n",
       "  </tbody>\n",
       "</table>\n",
       "</div>"
      ],
      "text/plain": [
       "        CreditScore           Age       Tenure        Balance  NumOfProducts  \\\n",
       "count  10000.000000  10000.000000  9091.000000   10000.000000   10000.000000   \n",
       "mean     650.528800     38.921800     4.997690   76485.889288       1.530200   \n",
       "std       96.653299     10.487806     2.894723   62397.405202       0.581654   \n",
       "min      350.000000     18.000000     0.000000       0.000000       1.000000   \n",
       "25%      584.000000     32.000000     2.000000       0.000000       1.000000   \n",
       "50%      652.000000     37.000000     5.000000   97198.540000       1.000000   \n",
       "75%      718.000000     44.000000     7.000000  127644.240000       2.000000   \n",
       "max      850.000000     92.000000    10.000000  250898.090000       4.000000   \n",
       "\n",
       "         HasCrCard  IsActiveMember  EstimatedSalary        Exited  \n",
       "count  10000.00000    10000.000000     10000.000000  10000.000000  \n",
       "mean       0.70550        0.515100    100090.239881      0.203700  \n",
       "std        0.45584        0.499797     57510.492818      0.402769  \n",
       "min        0.00000        0.000000        11.580000      0.000000  \n",
       "25%        0.00000        0.000000     51002.110000      0.000000  \n",
       "50%        1.00000        1.000000    100193.915000      0.000000  \n",
       "75%        1.00000        1.000000    149388.247500      0.000000  \n",
       "max        1.00000        1.000000    199992.480000      1.000000  "
      ]
     },
     "execution_count": 10,
     "metadata": {},
     "output_type": "execute_result"
    }
   ],
   "source": [
    "data.describe()"
   ]
  },
  {
   "cell_type": "markdown",
   "metadata": {},
   "source": [
    "На первый взгляд аномалий из серии \"возраст клиента 200 лет\" или \"баланс 10 млрд\" нет."
   ]
  },
  {
   "cell_type": "markdown",
   "metadata": {},
   "source": [
    "**Вывод:**\n",
    "- исходная выборка состоит из 10 тыс. строк, которая содержит информацию о географии, возрасте, рейтинге и других показателях о клиентах, а также факт ухода клиента из банка;\n",
    "- в данных присутствует порядка 10% пропусков для столбца с информаций о продолжительности отношении между клиентов и банком - принято решение на текущем этапе не удалять и не заполнять пропуски, а вернуться к этому вопросу позже при анализе этого показателя;\n",
    "- из исходного датарфейма были удалены 3 столбца, которые содержат информацию о уникальном номере клиента, фамилии и порядковым номером - эти столбцы не пригодятся для исследования\n",
    "- при первом \"пристреле\" на предмет присутствия в данных аномалий и явно выбивающиеся значения таких не установлено.\n",
    "\n",
    "Теперь можно приступить к исследованию данных и задачи в целом."
   ]
  },
  {
   "cell_type": "markdown",
   "metadata": {},
   "source": [
    "## Исследование задачи"
   ]
  },
  {
   "cell_type": "code",
   "execution_count": 11,
   "metadata": {
    "scrolled": true
   },
   "outputs": [
    {
     "data": {
      "text/plain": [
       "0    0.7963\n",
       "1    0.2037\n",
       "Name: Exited, dtype: float64"
      ]
     },
     "execution_count": 11,
     "metadata": {},
     "output_type": "execute_result"
    }
   ],
   "source": [
    "data['Exited'].value_counts(normalize=True)"
   ]
  },
  {
   "cell_type": "markdown",
   "metadata": {},
   "source": [
    "В исходной выборке наблюдается сильный дисбаланс в пользу клиентов, оставшихся в банке (около 80%). Нужно взять это на заметку и поработать с дисбалансом на последующих этапах."
   ]
  },
  {
   "cell_type": "markdown",
   "metadata": {},
   "source": [
    "### Исследование факторов"
   ]
  },
  {
   "cell_type": "markdown",
   "metadata": {},
   "source": [
    "#### Страна проживания"
   ]
  },
  {
   "cell_type": "markdown",
   "metadata": {},
   "source": [
    "Есть ли зависимость между уходом из банка и страной проживания клиента? Для этого выведем долю ушедших и оставшихся клиентов в разрезе стран и попробуем сформировать мнение на этот счет."
   ]
  },
  {
   "cell_type": "code",
   "execution_count": 12,
   "metadata": {},
   "outputs": [
    {
     "data": {
      "text/plain": [
       "Geography  Exited\n",
       "France     0         0.838452\n",
       "           1         0.161548\n",
       "Germany    0         0.675568\n",
       "           1         0.324432\n",
       "Spain      0         0.833266\n",
       "           1         0.166734\n",
       "Name: Exited, dtype: float64"
      ]
     },
     "execution_count": 12,
     "metadata": {},
     "output_type": "execute_result"
    }
   ],
   "source": [
    "data.groupby('Geography')['Exited'].value_counts(normalize=True)"
   ]
  },
  {
   "cell_type": "markdown",
   "metadata": {},
   "source": [
    "Исходя из данных в таблице выше можно сделать вывод, что чаще всего что во Франции и Испании примерно одинковая доля ушедших клиентов, а вот в Германии в 2 раза выше. Посмотрим аналогичный срез для пола клиентов."
   ]
  },
  {
   "cell_type": "markdown",
   "metadata": {},
   "source": [
    "#### Пол клиента"
   ]
  },
  {
   "cell_type": "code",
   "execution_count": 13,
   "metadata": {},
   "outputs": [
    {
     "data": {
      "text/plain": [
       "Gender  Exited\n",
       "Female  0         0.749285\n",
       "        1         0.250715\n",
       "Male    0         0.835441\n",
       "        1         0.164559\n",
       "Name: Exited, dtype: float64"
      ]
     },
     "execution_count": 13,
     "metadata": {},
     "output_type": "execute_result"
    }
   ],
   "source": [
    "data.groupby('Gender')['Exited'].value_counts(normalize=True)"
   ]
  },
  {
   "cell_type": "markdown",
   "metadata": {},
   "source": [
    "Женщины чаще уходят из банка чем мужниы (примерно на 9%).  \n",
    "\n",
    "Посмотрим на долю ушедших и оставшихся клиентов котоыре имеют кредитные карты."
   ]
  },
  {
   "cell_type": "markdown",
   "metadata": {},
   "source": [
    "#### Наличие кредитной карты"
   ]
  },
  {
   "cell_type": "code",
   "execution_count": 14,
   "metadata": {},
   "outputs": [
    {
     "data": {
      "text/plain": [
       "HasCrCard  Exited\n",
       "0          0         0.791851\n",
       "           1         0.208149\n",
       "1          0         0.798157\n",
       "           1         0.201843\n",
       "Name: Exited, dtype: float64"
      ]
     },
     "execution_count": 14,
     "metadata": {},
     "output_type": "execute_result"
    }
   ],
   "source": [
    "data.groupby('HasCrCard')['Exited'].value_counts(normalize=True)"
   ]
  },
  {
   "cell_type": "markdown",
   "metadata": {},
   "source": [
    "Примерно одинаковая доля клиентов ушедших и оставшихся имеют кредитные карты. Вероятнее всего этот фактор никак не повлияет на вероятность ухода клиента из банка. Также можно предположить, что информация о наличии кредитной карыт содержится в факторе по количеству продуктов клиента.\n",
    "\n",
    "Посмотрим аналогичный срез по активности клиентов."
   ]
  },
  {
   "cell_type": "markdown",
   "metadata": {},
   "source": [
    "#### Активность клиента"
   ]
  },
  {
   "cell_type": "code",
   "execution_count": 15,
   "metadata": {},
   "outputs": [
    {
     "data": {
      "text/plain": [
       "IsActiveMember  Exited\n",
       "0               0         0.731491\n",
       "                1         0.268509\n",
       "1               0         0.857309\n",
       "                1         0.142691\n",
       "Name: Exited, dtype: float64"
      ]
     },
     "execution_count": 15,
     "metadata": {},
     "output_type": "execute_result"
    }
   ],
   "source": [
    "data.groupby('IsActiveMember')['Exited'].value_counts(normalize=True)"
   ]
  },
  {
   "cell_type": "markdown",
   "metadata": {},
   "source": [
    "Видно, что активные клиенты уходят из банка реже, что собственно предстказуемо, но учитывая несбалансированность классов однозначные выводы делать не стоит."
   ]
  },
  {
   "cell_type": "markdown",
   "metadata": {},
   "source": [
    "#### Количество используемых продуктов"
   ]
  },
  {
   "cell_type": "code",
   "execution_count": 16,
   "metadata": {},
   "outputs": [
    {
     "data": {
      "text/plain": [
       "NumOfProducts  Exited\n",
       "1              0         0.722856\n",
       "               1         0.277144\n",
       "2              0         0.924183\n",
       "               1         0.075817\n",
       "3              1         0.827068\n",
       "               0         0.172932\n",
       "4              1         1.000000\n",
       "Name: Exited, dtype: float64"
      ]
     },
     "execution_count": 16,
     "metadata": {},
     "output_type": "execute_result"
    }
   ],
   "source": [
    "data.groupby('NumOfProducts')['Exited'].value_counts(normalize=True)"
   ]
  },
  {
   "cell_type": "markdown",
   "metadata": {},
   "source": [
    "Исхояд из данных в таблице выше можно предположить, что клиенты имеющие 2 продукта более надежны, чем те у кого их 1,3 или 4."
   ]
  },
  {
   "cell_type": "markdown",
   "metadata": {},
   "source": [
    "#### Возраст"
   ]
  },
  {
   "cell_type": "markdown",
   "metadata": {},
   "source": [
    "Исследуем зависимость возраста клиента с фактом ухода из банка. "
   ]
  },
  {
   "cell_type": "code",
   "execution_count": 17,
   "metadata": {},
   "outputs": [
    {
     "data": {
      "image/png": "[encoded data removed]",
      "text/plain": [
       "<Figure size 1296x432 with 1 Axes>"
      ]
     },
     "metadata": {},
     "output_type": "display_data"
    },
    {
     "data": {
      "image/png": "[encoded data removed]",
      "text/plain": [
       "<Figure size 1296x432 with 1 Axes>"
      ]
     },
     "metadata": {},
     "output_type": "display_data"
    }
   ],
   "source": [
    "sns.set_style(\"white\")\n",
    "fig, ax = plt.subplots(figsize=(18,6))\n",
    "sns.histplot(data=data, x='Age',hue='Exited', kde=True,bins=100, edgecolor='black', ax=ax)\n",
    "plt.title('Распределение возраста клиентов', fontsize='14')\n",
    "plt.xlabel('Возраст', fontsize='12')\n",
    "plt.ylabel('Колличество клиентов', fontsize='12')\n",
    "plt.show()\n",
    "\n",
    "fig, ax = plt.subplots(figsize=(18,6))\n",
    "sns.boxplot(data=data, x='Exited',y='Age', ax=ax)\n",
    "plt.title('Даиграмма размаха возраста клиентов', fontsize='14')\n",
    "plt.xlabel('Факт ухода из банка: 0 - клиент остался, 1 - клиент ушел', fontsize='12')\n",
    "plt.ylabel('Возраст', fontsize='12')\n",
    "plt.show()"
   ]
  },
  {
   "cell_type": "markdown",
   "metadata": {},
   "source": [
    "Анализируя графики выше можно сделать следующие выводы:\n",
    "- распределения возрастов для двух групп близко к нормальному (при исключении значений, выбивающихся за границами усов диаграммы размаха). Как видно, в данных присутствуют довольно возрастные клиенты (возраст более 80 лет), но таких клиентов мало. За выбросы их принимать не следует, так как вполне возможно, что люди на пенсии продолжают пользоваться продуктами банка (страховки, вклады и т.д.).\n",
    "- для клиентов, оставшихся в банке нормальный возраст (лежащий в границах ящика с усами) до 55 лет, для клиентов ушедших из банка до 75 лет.\n",
    "- в целом видно, что клиенты, которые уходят из банка более старшего возраста, чем те, которые остаются. Медиана у клиентов, которые остались в банке примерно 35 лет, а у клиентов покинувших банк 45 лет."
   ]
  },
  {
   "cell_type": "markdown",
   "metadata": {},
   "source": [
    "#### Кредитный рейтинг"
   ]
  },
  {
   "cell_type": "markdown",
   "metadata": {},
   "source": [
    "Теперь проведем исследование кредитного рейтинга. Возможно, чем ниже кредитный рейтинг тем выше вероятность ухода клиента из банка."
   ]
  },
  {
   "cell_type": "code",
   "execution_count": 18,
   "metadata": {},
   "outputs": [
    {
     "data": {
      "image/png": "[encoded data removed]",
      "text/plain": [
       "<Figure size 1296x432 with 1 Axes>"
      ]
     },
     "metadata": {},
     "output_type": "display_data"
    },
    {
     "data": {
      "image/png": "[encoded data removed]",
      "text/plain": [
       "<Figure size 1296x432 with 1 Axes>"
      ]
     },
     "metadata": {},
     "output_type": "display_data"
    }
   ],
   "source": [
    "sns.set_style(\"white\")\n",
    "fig, ax = plt.subplots(figsize=(18,6))\n",
    "sns.histplot(data=data, x='CreditScore',hue='Exited', kde=True,bins=100, edgecolor='black', ax=ax)\n",
    "plt.title('Распределение кредитного рейтинга клиентов', fontsize='14')\n",
    "plt.xlabel('Кредитный рейтинг', fontsize='12')\n",
    "plt.ylabel('Колличество клиентов', fontsize='12')\n",
    "plt.show()\n",
    "\n",
    "fig, ax = plt.subplots(figsize=(18,6))\n",
    "sns.boxplot(data=data, x='Exited',y='CreditScore', ax=ax)\n",
    "plt.title('Даиграмма размаха кредитного рейтинга клиентов', fontsize='14')\n",
    "plt.xlabel('Факт ухода из банка: 0 - клиент остался, 1 - клиент ушел', fontsize='12')\n",
    "plt.ylabel('Кредитный рейтинг', fontsize='12')\n",
    "plt.show()"
   ]
  },
  {
   "cell_type": "markdown",
   "metadata": {},
   "source": [
    "Медианы на диаграмме разамаха находятся примерно на одинаковом уровне. Возможно средний рейтинг в двух группах не так отличается, и не влияет на решение остаться в банке."
   ]
  },
  {
   "cell_type": "markdown",
   "metadata": {},
   "source": [
    "#### Баланс на счете"
   ]
  },
  {
   "cell_type": "code",
   "execution_count": 19,
   "metadata": {},
   "outputs": [
    {
     "data": {
      "image/png": "[encoded data removed]",
      "text/plain": [
       "<Figure size 1296x432 with 1 Axes>"
      ]
     },
     "metadata": {},
     "output_type": "display_data"
    },
    {
     "data": {
      "image/png": "[encoded data removed]",
      "text/plain": [
       "<Figure size 1296x432 with 1 Axes>"
      ]
     },
     "metadata": {},
     "output_type": "display_data"
    }
   ],
   "source": [
    "sns.set_style(\"white\")\n",
    "fig, ax = plt.subplots(figsize=(18,6))\n",
    "sns.histplot(data=data, x='Balance',hue='Exited', kde=True,bins=50, edgecolor='black', ax=ax)\n",
    "plt.title('Распределение баланса клиентов', fontsize='14')\n",
    "plt.xlabel('Баланс на счетах', fontsize='12')\n",
    "plt.ylabel('Колличество клиентов', fontsize='12')\n",
    "plt.show()\n",
    "\n",
    "fig, ax = plt.subplots(figsize=(18,6))\n",
    "sns.boxplot(data=data, x='Exited',y='Balance', ax=ax)\n",
    "plt.title('Даиграмма размаха баланса на счетах клиентов', fontsize='14')\n",
    "plt.xlabel('Факт ухода из банка: 0 - клиент остался, 1 - клиент ушел', fontsize='12')\n",
    "plt.ylabel('Баланс', fontsize='12')\n",
    "plt.show()"
   ]
  },
  {
   "cell_type": "markdown",
   "metadata": {},
   "source": [
    "Большая часть клиентов не имеет остатков на счетах, что видно на диаграмме распределения клиентов по балансу (ярко выраженный пик). В целом в данных нет выбивающихся значений, лежащих за границами усов диаграммы размаха. \n",
    "Баланс у клиентов котоыре покидают банк выше, чем у клиентов, которые остаются в банке."
   ]
  },
  {
   "cell_type": "markdown",
   "metadata": {},
   "source": [
    "#### Заработная плата"
   ]
  },
  {
   "cell_type": "markdown",
   "metadata": {},
   "source": [
    "Следующим шагом посмотрим на уровень зарплаты по группам клиентов."
   ]
  },
  {
   "cell_type": "code",
   "execution_count": 20,
   "metadata": {},
   "outputs": [
    {
     "data": {
      "image/png": "[encoded data removed]",
      "text/plain": [
       "<Figure size 1296x432 with 1 Axes>"
      ]
     },
     "metadata": {},
     "output_type": "display_data"
    },
    {
     "data": {
      "image/png": "[encoded data removed]",
      "text/plain": [
       "<Figure size 1296x432 with 1 Axes>"
      ]
     },
     "metadata": {},
     "output_type": "display_data"
    }
   ],
   "source": [
    "sns.set_style(\"white\")\n",
    "fig, ax = plt.subplots(figsize=(18,6))\n",
    "sns.histplot(data=data, x='EstimatedSalary',hue='Exited', kde=True,bins=100, edgecolor='black', ax=ax)\n",
    "plt.title('Распределение зарплаты клиентов', fontsize='14')\n",
    "plt.xlabel('Зарплата', fontsize='12')\n",
    "plt.ylabel('Колличество клиентов', fontsize='12')\n",
    "plt.show()\n",
    "\n",
    "fig, ax = plt.subplots(figsize=(18,6))\n",
    "sns.boxplot(data=data, x='Exited',y='EstimatedSalary', ax=ax)\n",
    "plt.title('Даиграмма размаха зарплаты клиентов', fontsize='14')\n",
    "plt.xlabel('Факт ухода из банка: 0 - клиент остался, 1 - клиент ушел', fontsize='12')\n",
    "plt.ylabel('Зарплата', fontsize='12')\n",
    "plt.show()"
   ]
  },
  {
   "cell_type": "markdown",
   "metadata": {},
   "source": [
    "Распредления схожу между группами, выбросов нет. Заработная плата особо не влияет на факт ухода клиента из банка."
   ]
  },
  {
   "cell_type": "markdown",
   "metadata": {},
   "source": [
    "#### Продолжительность отношений с банком"
   ]
  },
  {
   "cell_type": "markdown",
   "metadata": {},
   "source": [
    "Исследуем последний фактор - продолжительность отношений клиента и банка в годах."
   ]
  },
  {
   "cell_type": "code",
   "execution_count": 21,
   "metadata": {},
   "outputs": [
    {
     "data": {
      "image/png": "[encoded data removed]",
      "text/plain": [
       "<Figure size 1296x432 with 1 Axes>"
      ]
     },
     "metadata": {},
     "output_type": "display_data"
    }
   ],
   "source": [
    "sns.set_style(\"white\")\n",
    "fig, ax = plt.subplots(figsize=(18,6))\n",
    "sns.histplot(data=data, x='Tenure',hue='Exited', kde=True,bins=10, edgecolor='black', ax=ax)\n",
    "plt.title('Распределение клиентов по продолжительности отношений в банком')\n",
    "plt.xlabel('Продолжительность отношений между клиентом и банком в годах')\n",
    "plt.ylabel('Колличество клиентов')\n",
    "plt.show()"
   ]
  },
  {
   "cell_type": "markdown",
   "metadata": {},
   "source": [
    "Визуально можно заметить, что соотношение ушедших и оставшихся клиентов по годам примерно одинаковое. Попробуем вывести в табличном виде и посмотреть на данные."
   ]
  },
  {
   "cell_type": "code",
   "execution_count": 22,
   "metadata": {},
   "outputs": [
    {
     "data": {
      "text/plain": [
       "Tenure  Exited\n",
       "0.0     0         0.764398\n",
       "        1         0.235602\n",
       "1.0     0         0.776261\n",
       "        1         0.223739\n",
       "2.0     0         0.805263\n",
       "        1         0.194737\n",
       "3.0     0         0.786638\n",
       "        1         0.213362\n",
       "4.0     0         0.792090\n",
       "        1         0.207910\n",
       "5.0     0         0.798274\n",
       "        1         0.201726\n",
       "6.0     0         0.799092\n",
       "        1         0.200908\n",
       "7.0     0         0.827027\n",
       "        1         0.172973\n",
       "8.0     0         0.813505\n",
       "        1         0.186495\n",
       "9.0     0         0.780045\n",
       "        1         0.219955\n",
       "10.0    0         0.793722\n",
       "        1         0.206278\n",
       "Name: Exited, dtype: float64"
      ]
     },
     "execution_count": 22,
     "metadata": {},
     "output_type": "execute_result"
    }
   ],
   "source": [
    "data.groupby('Tenure')['Exited'].value_counts(normalize=True)"
   ]
  },
  {
   "cell_type": "markdown",
   "metadata": {},
   "source": [
    "Доля ухода в зависимости от продолжительности отношений с банком примерна одинаковая. Можно предположить, что этот фактор не влияет на вероятность ухода из банка."
   ]
  },
  {
   "cell_type": "markdown",
   "metadata": {},
   "source": [
    "### Общий вывод по результатам исследования факторов."
   ]
  },
  {
   "cell_type": "markdown",
   "metadata": {},
   "source": [
    "Посмотрим корреялционные зависимости между показателями и сформируем вывод по результатам исследования факторов."
   ]
  },
  {
   "cell_type": "code",
   "execution_count": 23,
   "metadata": {},
   "outputs": [
    {
     "data": {
      "image/png": "[encoded data removed]",
      "text/plain": [
       "<Figure size 1152x576 with 2 Axes>"
      ]
     },
     "metadata": {},
     "output_type": "display_data"
    }
   ],
   "source": [
    "sns.set(rc={'figure.figsize':(16,8)})\n",
    "sns.heatmap(data.corr(), cmap=\"YlGnBu\", annot=True, cbar=True).set_title('xxx')\n",
    "plt.show()"
   ]
  },
  {
   "cell_type": "markdown",
   "metadata": {},
   "source": [
    "<div class=\"alert alert-success\">\n",
    "<b>ОТЛИЧНО! 👍</b>\n",
    "\n",
    "Смотришь скоррелированность признаков - отлично! Об этом чуть ниже подробней напишу....\n",
    "</div>"
   ]
  },
  {
   "cell_type": "markdown",
   "metadata": {},
   "source": [
    "В целом зависимостей между факторами нет - исключение между:\n",
    "- возрастом и фактом ухода из банка (низкий уровень корреляции на уровне 0.29);\n",
    "- балансом и количеством продуктов (низкий уровень отрицательной корреляции на уровне 0.3)\n",
    "- балансом и фактом ухода (низкий уровень корреляции на уровне 0.12)"
   ]
  },
  {
   "cell_type": "markdown",
   "metadata": {},
   "source": [
    "**В результате исследования факторов можно сделать следующие выводы:**\n",
    "- клиенты из Германии в 2 раза чаще уходят из банка, чем клиенты из других стран;\n",
    "- женщины чаще покидают банк, чем мужчины;\n",
    "- примерно одинаковая доля клиентов ушедших и оставшихся имеют кредитные карты, вероятнее всего этот фактор не оказывает влияние на факт ухода клиента из банка;\n",
    "- активные клиенты уходят из банка реже;\n",
    "- клиенты, имеющие 2 продукта более надежны, чем те, у кого их 1,3 или 4 продукта;\n",
    "- возраст влияет на вероятность ухода клиента из банка, по результатам статистического теста установлено, что клиенты, которые уходят из Банка более старшего возраста, чем те, которые остаются;\n",
    "- по результатам статического теста установлено, что у клиентов, которые уходят из банка рейтинг ниже;\n",
    "- баланс на счетах у клиентов которые покидают банк выше, чем у клиентов, которые остаются в банке (установлено результатом статистического теста);\n",
    "- уровень заработной платы в 2 группах одинаковый и не влияет на факт ухода клиента (установлено результатом статистического теста);\n",
    "- анализируя фактор продолжительности отношений с банком было отмечено, что доля ухода в зависимости от продолжительности отношений с банком примерно одинаковая, как для ушедших клиентов, так и для оставшихся с банком;\n",
    "- среднего или высокого уровня корреляции между признаками не наблюдается."
   ]
  },
  {
   "cell_type": "markdown",
   "metadata": {},
   "source": [
    "### Кодирование переменных"
   ]
  },
  {
   "cell_type": "markdown",
   "metadata": {},
   "source": [
    "Принимая во внимание, что в столбце с продолжительностью отношений с банком есть пропуски (около 10% от всех данных) можно пойти одним из следующих путей: \n",
    "- удалить эти 10% из выборки;\n",
    "- убрать этот столбец из анализа. А учитывая, что по результатам статистического анализа этот факт не влияет на факт ухода клиента можно удалить этот столбец.\n",
    "- заполнить пропуски медианой, средним или нулем, что на мой взгляд не самый правильный подход, так как данный показатель весьма индивидуальный, также стоит обратить внимание, что у этого признака отсутствует корреляция (даже на слабом уровне) с другими признаками.\n",
    "\n",
    "Пойдем по пути удаления столбца."
   ]
  },
  {
   "cell_type": "code",
   "execution_count": 24,
   "metadata": {},
   "outputs": [],
   "source": [
    "#создадим копию датафрема до удаления столбцов.\n",
    "data_full = data.copy()"
   ]
  },
  {
   "cell_type": "code",
   "execution_count": 25,
   "metadata": {},
   "outputs": [],
   "source": [
    "#новый код\n",
    "data = data.drop(columns='Tenure')"
   ]
  },
  {
   "cell_type": "markdown",
   "metadata": {},
   "source": [
    "Выполним преобразование категориальных признаков к числовым методом. Учитывая, что по мимо случайного леса и дерева решений будет также тестироваться логистическая регрессия приметим метод One-Hot-Encoding (OHE)."
   ]
  },
  {
   "cell_type": "code",
   "execution_count": 26,
   "metadata": {},
   "outputs": [],
   "source": [
    "data_ohe = pd.get_dummies(data, drop_first=True) \n",
    "#data_full_ohe = pd.get_dummies(data_full, drop_first=True) "
   ]
  },
  {
   "cell_type": "code",
   "execution_count": 27,
   "metadata": {
    "scrolled": true
   },
   "outputs": [
    {
     "data": {
      "text/html": [
       "<div>\n",
       "<style scoped>\n",
       "    .dataframe tbody tr th:only-of-type {\n",
       "        vertical-align: middle;\n",
       "    }\n",
       "\n",
       "    .dataframe tbody tr th {\n",
       "        vertical-align: top;\n",
       "    }\n",
       "\n",
       "    .dataframe thead th {\n",
       "        text-align: right;\n",
       "    }\n",
       "</style>\n",
       "<table border=\"1\" class=\"dataframe\">\n",
       "  <thead>\n",
       "    <tr style=\"text-align: right;\">\n",
       "      <th></th>\n",
       "      <th>CreditScore</th>\n",
       "      <th>Age</th>\n",
       "      <th>Balance</th>\n",
       "      <th>NumOfProducts</th>\n",
       "      <th>HasCrCard</th>\n",
       "      <th>IsActiveMember</th>\n",
       "      <th>EstimatedSalary</th>\n",
       "      <th>Exited</th>\n",
       "      <th>Geography_Germany</th>\n",
       "      <th>Geography_Spain</th>\n",
       "      <th>Gender_Male</th>\n",
       "    </tr>\n",
       "  </thead>\n",
       "  <tbody>\n",
       "    <tr>\n",
       "      <th>0</th>\n",
       "      <td>619</td>\n",
       "      <td>42</td>\n",
       "      <td>0.00</td>\n",
       "      <td>1</td>\n",
       "      <td>1</td>\n",
       "      <td>1</td>\n",
       "      <td>101348.88</td>\n",
       "      <td>1</td>\n",
       "      <td>0</td>\n",
       "      <td>0</td>\n",
       "      <td>0</td>\n",
       "    </tr>\n",
       "    <tr>\n",
       "      <th>1</th>\n",
       "      <td>608</td>\n",
       "      <td>41</td>\n",
       "      <td>83807.86</td>\n",
       "      <td>1</td>\n",
       "      <td>0</td>\n",
       "      <td>1</td>\n",
       "      <td>112542.58</td>\n",
       "      <td>0</td>\n",
       "      <td>0</td>\n",
       "      <td>1</td>\n",
       "      <td>0</td>\n",
       "    </tr>\n",
       "    <tr>\n",
       "      <th>2</th>\n",
       "      <td>502</td>\n",
       "      <td>42</td>\n",
       "      <td>159660.80</td>\n",
       "      <td>3</td>\n",
       "      <td>1</td>\n",
       "      <td>0</td>\n",
       "      <td>113931.57</td>\n",
       "      <td>1</td>\n",
       "      <td>0</td>\n",
       "      <td>0</td>\n",
       "      <td>0</td>\n",
       "    </tr>\n",
       "    <tr>\n",
       "      <th>3</th>\n",
       "      <td>699</td>\n",
       "      <td>39</td>\n",
       "      <td>0.00</td>\n",
       "      <td>2</td>\n",
       "      <td>0</td>\n",
       "      <td>0</td>\n",
       "      <td>93826.63</td>\n",
       "      <td>0</td>\n",
       "      <td>0</td>\n",
       "      <td>0</td>\n",
       "      <td>0</td>\n",
       "    </tr>\n",
       "    <tr>\n",
       "      <th>4</th>\n",
       "      <td>850</td>\n",
       "      <td>43</td>\n",
       "      <td>125510.82</td>\n",
       "      <td>1</td>\n",
       "      <td>1</td>\n",
       "      <td>1</td>\n",
       "      <td>79084.10</td>\n",
       "      <td>0</td>\n",
       "      <td>0</td>\n",
       "      <td>1</td>\n",
       "      <td>0</td>\n",
       "    </tr>\n",
       "  </tbody>\n",
       "</table>\n",
       "</div>"
      ],
      "text/plain": [
       "   CreditScore  Age    Balance  NumOfProducts  HasCrCard  IsActiveMember  \\\n",
       "0          619   42       0.00              1          1               1   \n",
       "1          608   41   83807.86              1          0               1   \n",
       "2          502   42  159660.80              3          1               0   \n",
       "3          699   39       0.00              2          0               0   \n",
       "4          850   43  125510.82              1          1               1   \n",
       "\n",
       "   EstimatedSalary  Exited  Geography_Germany  Geography_Spain  Gender_Male  \n",
       "0        101348.88       1                  0                0            0  \n",
       "1        112542.58       0                  0                1            0  \n",
       "2        113931.57       1                  0                0            0  \n",
       "3         93826.63       0                  0                0            0  \n",
       "4         79084.10       0                  0                1            0  "
      ]
     },
     "execution_count": 27,
     "metadata": {},
     "output_type": "execute_result"
    }
   ],
   "source": [
    "data_ohe.head()"
   ]
  },
  {
   "cell_type": "markdown",
   "metadata": {},
   "source": [
    "Разделим исходную выборку на обучающую, валидационную и тестовую."
   ]
  },
  {
   "cell_type": "code",
   "execution_count": 28,
   "metadata": {},
   "outputs": [],
   "source": [
    "target = data_ohe['Exited'] \n",
    "features = data_ohe.drop('Exited', axis=1)"
   ]
  },
  {
   "cell_type": "code",
   "execution_count": 29,
   "metadata": {},
   "outputs": [],
   "source": [
    "features_train, features_splt, target_train, target_splt = train_test_split(\n",
    "    features, target, test_size=0.4, shuffle=True, random_state=12345)"
   ]
  },
  {
   "cell_type": "code",
   "execution_count": 30,
   "metadata": {},
   "outputs": [],
   "source": [
    "features_valid, features_test, target_valid, target_test = train_test_split(\n",
    "    features_splt, target_splt, test_size=0.5, shuffle=True, random_state=12345)"
   ]
  },
  {
   "cell_type": "code",
   "execution_count": 31,
   "metadata": {},
   "outputs": [
    {
     "name": "stdout",
     "output_type": "stream",
     "text": [
      "Размер обучающей выборки составялет 6000\n",
      "Размер валидационной выборки составялет 2000\n",
      "Размер тестовой выборки составялет 2000\n"
     ]
    }
   ],
   "source": [
    "print('Размер обучающей выборки составялет', features_train.shape[0]) \n",
    "print('Размер валидационной выборки составялет', features_valid.shape[0])\n",
    "print('Размер тестовой выборки составялет', features_test.shape[0])"
   ]
  },
  {
   "cell_type": "markdown",
   "metadata": {},
   "source": [
    "Всего 10 000 строк, в т.ч. 60% на обучающую, 20% на валидационную и 20% на тестовую выборку. "
   ]
  },
  {
   "cell_type": "markdown",
   "metadata": {},
   "source": [
    "Следующим шагом проведем стандартизацию (масштабирование) для столбцов CreditScore, Age, Balance, NumOfProducts и EstimatedSalary, так как по мимо случайного леса будем также обучать модель логистической регрессии. Для масштабирования признаков можно использовать один из стандартых методов StandardScaler или MinMaxScaler."
   ]
  },
  {
   "cell_type": "code",
   "execution_count": 32,
   "metadata": {},
   "outputs": [],
   "source": [
    "numeric = ['CreditScore','Age','Balance', 'NumOfProducts', 'EstimatedSalary'] \n",
    "scaler = StandardScaler()\n",
    "scaler.fit(features_train[numeric])\n",
    "\n",
    "features_train[numeric] = scaler.transform(features_train[numeric])\n",
    "features_valid[numeric] = scaler.transform(features_valid[numeric])\n",
    "features_test[numeric] = scaler.transform(features_test[numeric])"
   ]
  },
  {
   "cell_type": "code",
   "execution_count": 33,
   "metadata": {},
   "outputs": [
    {
     "data": {
      "text/html": [
       "<div>\n",
       "<style scoped>\n",
       "    .dataframe tbody tr th:only-of-type {\n",
       "        vertical-align: middle;\n",
       "    }\n",
       "\n",
       "    .dataframe tbody tr th {\n",
       "        vertical-align: top;\n",
       "    }\n",
       "\n",
       "    .dataframe thead th {\n",
       "        text-align: right;\n",
       "    }\n",
       "</style>\n",
       "<table border=\"1\" class=\"dataframe\">\n",
       "  <thead>\n",
       "    <tr style=\"text-align: right;\">\n",
       "      <th></th>\n",
       "      <th>CreditScore</th>\n",
       "      <th>Age</th>\n",
       "      <th>Balance</th>\n",
       "      <th>NumOfProducts</th>\n",
       "      <th>HasCrCard</th>\n",
       "      <th>IsActiveMember</th>\n",
       "      <th>EstimatedSalary</th>\n",
       "      <th>Geography_Germany</th>\n",
       "      <th>Geography_Spain</th>\n",
       "      <th>Gender_Male</th>\n",
       "    </tr>\n",
       "  </thead>\n",
       "  <tbody>\n",
       "    <tr>\n",
       "      <th>7479</th>\n",
       "      <td>-0.886751</td>\n",
       "      <td>-0.373192</td>\n",
       "      <td>1.232271</td>\n",
       "      <td>-0.891560</td>\n",
       "      <td>1</td>\n",
       "      <td>0</td>\n",
       "      <td>-0.187705</td>\n",
       "      <td>0</td>\n",
       "      <td>1</td>\n",
       "      <td>1</td>\n",
       "    </tr>\n",
       "    <tr>\n",
       "      <th>3411</th>\n",
       "      <td>0.608663</td>\n",
       "      <td>-0.183385</td>\n",
       "      <td>0.600563</td>\n",
       "      <td>-0.891560</td>\n",
       "      <td>0</td>\n",
       "      <td>0</td>\n",
       "      <td>-0.333945</td>\n",
       "      <td>0</td>\n",
       "      <td>0</td>\n",
       "      <td>0</td>\n",
       "    </tr>\n",
       "    <tr>\n",
       "      <th>6027</th>\n",
       "      <td>2.052152</td>\n",
       "      <td>0.480939</td>\n",
       "      <td>1.027098</td>\n",
       "      <td>0.830152</td>\n",
       "      <td>0</td>\n",
       "      <td>1</td>\n",
       "      <td>1.503095</td>\n",
       "      <td>1</td>\n",
       "      <td>0</td>\n",
       "      <td>1</td>\n",
       "    </tr>\n",
       "    <tr>\n",
       "      <th>1247</th>\n",
       "      <td>-1.457915</td>\n",
       "      <td>-1.417129</td>\n",
       "      <td>-1.233163</td>\n",
       "      <td>0.830152</td>\n",
       "      <td>1</td>\n",
       "      <td>0</td>\n",
       "      <td>-1.071061</td>\n",
       "      <td>0</td>\n",
       "      <td>0</td>\n",
       "      <td>1</td>\n",
       "    </tr>\n",
       "    <tr>\n",
       "      <th>3716</th>\n",
       "      <td>0.130961</td>\n",
       "      <td>-1.132419</td>\n",
       "      <td>1.140475</td>\n",
       "      <td>-0.891560</td>\n",
       "      <td>0</td>\n",
       "      <td>0</td>\n",
       "      <td>1.524268</td>\n",
       "      <td>1</td>\n",
       "      <td>0</td>\n",
       "      <td>0</td>\n",
       "    </tr>\n",
       "  </tbody>\n",
       "</table>\n",
       "</div>"
      ],
      "text/plain": [
       "      CreditScore       Age   Balance  NumOfProducts  HasCrCard  \\\n",
       "7479    -0.886751 -0.373192  1.232271      -0.891560          1   \n",
       "3411     0.608663 -0.183385  0.600563      -0.891560          0   \n",
       "6027     2.052152  0.480939  1.027098       0.830152          0   \n",
       "1247    -1.457915 -1.417129 -1.233163       0.830152          1   \n",
       "3716     0.130961 -1.132419  1.140475      -0.891560          0   \n",
       "\n",
       "      IsActiveMember  EstimatedSalary  Geography_Germany  Geography_Spain  \\\n",
       "7479               0        -0.187705                  0                1   \n",
       "3411               0        -0.333945                  0                0   \n",
       "6027               1         1.503095                  1                0   \n",
       "1247               0        -1.071061                  0                0   \n",
       "3716               0         1.524268                  1                0   \n",
       "\n",
       "      Gender_Male  \n",
       "7479            1  \n",
       "3411            0  \n",
       "6027            1  \n",
       "1247            1  \n",
       "3716            0  "
      ]
     },
     "metadata": {},
     "output_type": "display_data"
    },
    {
     "data": {
      "text/html": [
       "<div>\n",
       "<style scoped>\n",
       "    .dataframe tbody tr th:only-of-type {\n",
       "        vertical-align: middle;\n",
       "    }\n",
       "\n",
       "    .dataframe tbody tr th {\n",
       "        vertical-align: top;\n",
       "    }\n",
       "\n",
       "    .dataframe thead th {\n",
       "        text-align: right;\n",
       "    }\n",
       "</style>\n",
       "<table border=\"1\" class=\"dataframe\">\n",
       "  <thead>\n",
       "    <tr style=\"text-align: right;\">\n",
       "      <th></th>\n",
       "      <th>CreditScore</th>\n",
       "      <th>Age</th>\n",
       "      <th>Balance</th>\n",
       "      <th>NumOfProducts</th>\n",
       "      <th>HasCrCard</th>\n",
       "      <th>IsActiveMember</th>\n",
       "      <th>EstimatedSalary</th>\n",
       "      <th>Geography_Germany</th>\n",
       "      <th>Geography_Spain</th>\n",
       "      <th>Gender_Male</th>\n",
       "    </tr>\n",
       "  </thead>\n",
       "  <tbody>\n",
       "    <tr>\n",
       "      <th>8532</th>\n",
       "      <td>-0.699824</td>\n",
       "      <td>-0.373192</td>\n",
       "      <td>-1.233163</td>\n",
       "      <td>0.830152</td>\n",
       "      <td>1</td>\n",
       "      <td>0</td>\n",
       "      <td>-0.015173</td>\n",
       "      <td>0</td>\n",
       "      <td>0</td>\n",
       "      <td>0</td>\n",
       "    </tr>\n",
       "    <tr>\n",
       "      <th>5799</th>\n",
       "      <td>-0.284431</td>\n",
       "      <td>0.575842</td>\n",
       "      <td>-1.233163</td>\n",
       "      <td>-0.891560</td>\n",
       "      <td>1</td>\n",
       "      <td>1</td>\n",
       "      <td>1.471724</td>\n",
       "      <td>0</td>\n",
       "      <td>0</td>\n",
       "      <td>0</td>\n",
       "    </tr>\n",
       "    <tr>\n",
       "      <th>5511</th>\n",
       "      <td>0.151731</td>\n",
       "      <td>-0.657902</td>\n",
       "      <td>0.438711</td>\n",
       "      <td>-0.891560</td>\n",
       "      <td>1</td>\n",
       "      <td>0</td>\n",
       "      <td>-1.367107</td>\n",
       "      <td>1</td>\n",
       "      <td>0</td>\n",
       "      <td>1</td>\n",
       "    </tr>\n",
       "    <tr>\n",
       "      <th>7365</th>\n",
       "      <td>-0.876366</td>\n",
       "      <td>-0.278288</td>\n",
       "      <td>1.239884</td>\n",
       "      <td>-0.891560</td>\n",
       "      <td>1</td>\n",
       "      <td>1</td>\n",
       "      <td>-0.786517</td>\n",
       "      <td>0</td>\n",
       "      <td>1</td>\n",
       "      <td>0</td>\n",
       "    </tr>\n",
       "    <tr>\n",
       "      <th>7367</th>\n",
       "      <td>-0.481743</td>\n",
       "      <td>0.291132</td>\n",
       "      <td>-1.233163</td>\n",
       "      <td>0.830152</td>\n",
       "      <td>1</td>\n",
       "      <td>0</td>\n",
       "      <td>1.358533</td>\n",
       "      <td>0</td>\n",
       "      <td>1</td>\n",
       "      <td>1</td>\n",
       "    </tr>\n",
       "  </tbody>\n",
       "</table>\n",
       "</div>"
      ],
      "text/plain": [
       "      CreditScore       Age   Balance  NumOfProducts  HasCrCard  \\\n",
       "8532    -0.699824 -0.373192 -1.233163       0.830152          1   \n",
       "5799    -0.284431  0.575842 -1.233163      -0.891560          1   \n",
       "5511     0.151731 -0.657902  0.438711      -0.891560          1   \n",
       "7365    -0.876366 -0.278288  1.239884      -0.891560          1   \n",
       "7367    -0.481743  0.291132 -1.233163       0.830152          1   \n",
       "\n",
       "      IsActiveMember  EstimatedSalary  Geography_Germany  Geography_Spain  \\\n",
       "8532               0        -0.015173                  0                0   \n",
       "5799               1         1.471724                  0                0   \n",
       "5511               0        -1.367107                  1                0   \n",
       "7365               1        -0.786517                  0                1   \n",
       "7367               0         1.358533                  0                1   \n",
       "\n",
       "      Gender_Male  \n",
       "8532            0  \n",
       "5799            0  \n",
       "5511            1  \n",
       "7365            0  \n",
       "7367            1  "
      ]
     },
     "metadata": {},
     "output_type": "display_data"
    },
    {
     "data": {
      "text/html": [
       "<div>\n",
       "<style scoped>\n",
       "    .dataframe tbody tr th:only-of-type {\n",
       "        vertical-align: middle;\n",
       "    }\n",
       "\n",
       "    .dataframe tbody tr th {\n",
       "        vertical-align: top;\n",
       "    }\n",
       "\n",
       "    .dataframe thead th {\n",
       "        text-align: right;\n",
       "    }\n",
       "</style>\n",
       "<table border=\"1\" class=\"dataframe\">\n",
       "  <thead>\n",
       "    <tr style=\"text-align: right;\">\n",
       "      <th></th>\n",
       "      <th>CreditScore</th>\n",
       "      <th>Age</th>\n",
       "      <th>Balance</th>\n",
       "      <th>NumOfProducts</th>\n",
       "      <th>HasCrCard</th>\n",
       "      <th>IsActiveMember</th>\n",
       "      <th>EstimatedSalary</th>\n",
       "      <th>Geography_Germany</th>\n",
       "      <th>Geography_Spain</th>\n",
       "      <th>Gender_Male</th>\n",
       "    </tr>\n",
       "  </thead>\n",
       "  <tbody>\n",
       "    <tr>\n",
       "      <th>7041</th>\n",
       "      <td>-2.226392</td>\n",
       "      <td>-0.088482</td>\n",
       "      <td>-1.233163</td>\n",
       "      <td>0.830152</td>\n",
       "      <td>1</td>\n",
       "      <td>0</td>\n",
       "      <td>0.647083</td>\n",
       "      <td>0</td>\n",
       "      <td>0</td>\n",
       "      <td>1</td>\n",
       "    </tr>\n",
       "    <tr>\n",
       "      <th>5709</th>\n",
       "      <td>-0.087120</td>\n",
       "      <td>0.006422</td>\n",
       "      <td>-1.233163</td>\n",
       "      <td>-0.891560</td>\n",
       "      <td>1</td>\n",
       "      <td>0</td>\n",
       "      <td>-1.658410</td>\n",
       "      <td>0</td>\n",
       "      <td>0</td>\n",
       "      <td>0</td>\n",
       "    </tr>\n",
       "    <tr>\n",
       "      <th>7117</th>\n",
       "      <td>-0.917905</td>\n",
       "      <td>-0.752805</td>\n",
       "      <td>0.722307</td>\n",
       "      <td>-0.891560</td>\n",
       "      <td>1</td>\n",
       "      <td>1</td>\n",
       "      <td>-1.369334</td>\n",
       "      <td>0</td>\n",
       "      <td>1</td>\n",
       "      <td>1</td>\n",
       "    </tr>\n",
       "    <tr>\n",
       "      <th>7775</th>\n",
       "      <td>-0.253277</td>\n",
       "      <td>0.101325</td>\n",
       "      <td>-1.233163</td>\n",
       "      <td>0.830152</td>\n",
       "      <td>1</td>\n",
       "      <td>0</td>\n",
       "      <td>0.075086</td>\n",
       "      <td>0</td>\n",
       "      <td>1</td>\n",
       "      <td>1</td>\n",
       "    </tr>\n",
       "    <tr>\n",
       "      <th>8735</th>\n",
       "      <td>0.785204</td>\n",
       "      <td>-0.847708</td>\n",
       "      <td>0.615625</td>\n",
       "      <td>-0.891560</td>\n",
       "      <td>0</td>\n",
       "      <td>1</td>\n",
       "      <td>-1.070919</td>\n",
       "      <td>0</td>\n",
       "      <td>0</td>\n",
       "      <td>1</td>\n",
       "    </tr>\n",
       "  </tbody>\n",
       "</table>\n",
       "</div>"
      ],
      "text/plain": [
       "      CreditScore       Age   Balance  NumOfProducts  HasCrCard  \\\n",
       "7041    -2.226392 -0.088482 -1.233163       0.830152          1   \n",
       "5709    -0.087120  0.006422 -1.233163      -0.891560          1   \n",
       "7117    -0.917905 -0.752805  0.722307      -0.891560          1   \n",
       "7775    -0.253277  0.101325 -1.233163       0.830152          1   \n",
       "8735     0.785204 -0.847708  0.615625      -0.891560          0   \n",
       "\n",
       "      IsActiveMember  EstimatedSalary  Geography_Germany  Geography_Spain  \\\n",
       "7041               0         0.647083                  0                0   \n",
       "5709               0        -1.658410                  0                0   \n",
       "7117               1        -1.369334                  0                1   \n",
       "7775               0         0.075086                  0                1   \n",
       "8735               1        -1.070919                  0                0   \n",
       "\n",
       "      Gender_Male  \n",
       "7041            1  \n",
       "5709            0  \n",
       "7117            1  \n",
       "7775            1  \n",
       "8735            1  "
      ]
     },
     "metadata": {},
     "output_type": "display_data"
    }
   ],
   "source": [
    "display(features_train.head())\n",
    "display(features_valid.head())\n",
    "display(features_test.head())"
   ]
  },
  {
   "cell_type": "markdown",
   "metadata": {},
   "source": [
    "По результатам данного этапа:\n",
    "\n",
    "- принимая во внимание, что в столбце с продолжительностью отношений с банком есть пропуски (около 10% от всех данных) был выбран вариант не терять 10% данных, а удалить этот столбец  из анализа\n",
    "- категориальные признаки мыли закодированы техникой OHE\n",
    "- другие числовые признаки были масштабированы с применяем метода StandardScaler (будет применяться линейная модель)\n",
    "- исходная выборка была разделена на обучающую (60%), валидационную (20%) и тестовую (20%)."
   ]
  },
  {
   "cell_type": "markdown",
   "metadata": {},
   "source": [
    "Проведем обучение 2 базовых моделей - логистической регрессии и случайного леса. Подбор гиперпараметров будем осуществлять в цикле"
   ]
  },
  {
   "cell_type": "markdown",
   "metadata": {},
   "source": [
    "### Модель Random Forest"
   ]
  },
  {
   "cell_type": "code",
   "execution_count": 40,
   "metadata": {
    "scrolled": true
   },
   "outputs": [
    {
     "name": "stdout",
     "output_type": "stream",
     "text": [
      "Максимальное количество деревьев 23\n",
      "Максимальная глубина дерева 20\n",
      "F1 мера для модели случайного леса на валидационной выборке = 0.593437945791726\n"
     ]
    }
   ],
   "source": [
    "#Обучим перебором двух гиперпараметров - глубина дерева и количество деревьев (перебор циклом)\n",
    "rf_best_model = None\n",
    "rf_best_depth = 0\n",
    "rf_best_f1 = 0\n",
    "rf_best_est = 0\n",
    "\n",
    "for est in range(2, 26):\n",
    "    for depth in range (1, 26):\n",
    "        \n",
    "        rf_model = RandomForestClassifier(random_state=12345, \n",
    "                                       n_estimators=est,\n",
    "                                       max_depth=depth) \n",
    "        # обучим модель на тренировочной выборке\n",
    "        rf_model.fit(features_train,target_train)\n",
    "        # оценим качество модели на тренировочной выборке\n",
    "        rf_accuracy = rf_model.score(features_valid, target_valid)\n",
    "        \n",
    "        rf_predicted_valid = rf_model.predict(features_valid)\n",
    "        rf_f1=f1_score(target_valid,rf_predicted_valid)\n",
    "        if rf_best_f1 < rf_f1:\n",
    "            rf_best_model = rf_model\n",
    "            rf_best_f1 = rf_f1\n",
    "            rf_best_depth = depth\n",
    "            rf_best_est = est\n",
    "\n",
    "print('Максимальное количество деревьев', rf_best_est)\n",
    "print('Максимальная глубина дерева', rf_best_depth)\n",
    "print('F1 мера для модели случайного леса на валидационной выборке =', rf_best_f1)"
   ]
  },
  {
   "cell_type": "markdown",
   "metadata": {},
   "source": [
    "Считаем значение ROC-AUC для модели по оценке F1 на валидационной выборке"
   ]
  },
  {
   "cell_type": "code",
   "execution_count": 43,
   "metadata": {
    "scrolled": true
   },
   "outputs": [
    {
     "name": "stdout",
     "output_type": "stream",
     "text": [
      "ROC-AUC для модели случайного леса на валидационной выборке = 0.8237921835965618\n"
     ]
    }
   ],
   "source": [
    "rf_probabilities_valid=rf_best_model.predict_proba(features_valid)\n",
    "rf_probabilities_one_valid = rf_probabilities_valid[:, 1]\n",
    "rf_roc_auc_score=roc_auc_score(target_valid,rf_probabilities_one_valid)\n",
    "print('ROC-AUC для модели случайного леса на валидационной выборке =',rf_roc_auc_score)"
   ]
  },
  {
   "cell_type": "markdown",
   "metadata": {},
   "source": [
    "### Модель Логистической регресси"
   ]
  },
  {
   "cell_type": "code",
   "execution_count": 37,
   "metadata": {},
   "outputs": [
    {
     "name": "stdout",
     "output_type": "stream",
     "text": [
      "F1 мера для модели Logistic Regression  леса на валидационной выборке = 0.3259005145797599\n",
      "ROC-AUC для модели Logistic Regression на валидационной выборке = 0.7577078254768055\n"
     ]
    }
   ],
   "source": [
    "lr_best_model = None\n",
    "\n",
    "lr_best_f1 = 0\n",
    "penalty_list = ['l1','l2']\n",
    "weight=None\n",
    "\n",
    "for penalty_ in penalty_list:\n",
    "    for c_i in np.arange(0.1, 2, 0.1):\n",
    "        lr_model = LogisticRegression( random_state=12345, \n",
    "                                         penalty=penalty_, \n",
    "                                         C=c_i, \n",
    "                                         solver='liblinear',\n",
    "                                        class_weight=weight)\n",
    "        lr_model.fit(features_train, target_train)\n",
    "        lr_prediction_valid = lr_model.predict(features_valid)\n",
    "        lr_f1 = f1_score(target_valid, lr_prediction_valid)\n",
    "        if lr_best_f1 < lr_f1:\n",
    "            lr_best_model = lr_model\n",
    "            lr_best_f1= lr_f1\n",
    "lr_probabilities_valid = lr_best_model.predict_proba(features_valid)\n",
    "lr_probabilities_one_valid = lr_probabilities_valid[:, 1]\n",
    "lr_roc_auc_score=roc_auc_score(target_valid,lr_probabilities_one_valid)\n",
    "\n",
    "\n",
    "print('F1 мера для модели Logistic Regression  леса на валидационной выборке =', lr_best_f1)\n",
    "print('ROC-AUC для модели Logistic Regression на валидационной выборке =',lr_roc_auc_score)"
   ]
  },
  {
   "cell_type": "code",
   "execution_count": 44,
   "metadata": {},
   "outputs": [
    {
     "data": {
      "text/html": [
       "<div>\n",
       "<style scoped>\n",
       "    .dataframe tbody tr th:only-of-type {\n",
       "        vertical-align: middle;\n",
       "    }\n",
       "\n",
       "    .dataframe tbody tr th {\n",
       "        vertical-align: top;\n",
       "    }\n",
       "\n",
       "    .dataframe thead th {\n",
       "        text-align: right;\n",
       "    }\n",
       "</style>\n",
       "<table border=\"1\" class=\"dataframe\">\n",
       "  <thead>\n",
       "    <tr style=\"text-align: right;\">\n",
       "      <th></th>\n",
       "      <th>F1_score</th>\n",
       "      <th>ROC-AUC</th>\n",
       "    </tr>\n",
       "  </thead>\n",
       "  <tbody>\n",
       "    <tr>\n",
       "      <th>LR</th>\n",
       "      <td>0.593438</td>\n",
       "      <td>0.757708</td>\n",
       "    </tr>\n",
       "    <tr>\n",
       "      <th>RF</th>\n",
       "      <td>0.325901</td>\n",
       "      <td>0.823792</td>\n",
       "    </tr>\n",
       "  </tbody>\n",
       "</table>\n",
       "</div>"
      ],
      "text/plain": [
       "    F1_score   ROC-AUC\n",
       "LR  0.593438  0.757708\n",
       "RF  0.325901  0.823792"
      ]
     },
     "execution_count": 44,
     "metadata": {},
     "output_type": "execute_result"
    }
   ],
   "source": [
    "result_f1 = [rf_best_f1, lr_best_f1]\n",
    "result_roc_auc = [lr_roc_auc_score, rf_roc_auc_score]\n",
    "\n",
    "index_list = ['LR', 'RF']\n",
    "columns_name  = ['F1_score', 'ROC-AUC']\n",
    "result_base_model = pd.DataFrame(list(zip(result_f1, result_roc_auc)), \n",
    "                                 index=index_list, \n",
    "                                 columns=columns_name)\n",
    "result_base_model"
   ]
  },
  {
   "cell_type": "markdown",
   "metadata": {},
   "source": [
    "На несбалансированных данных лучшие результаты демонстирует модель случайного леса, а худшие логистическая регрессия. Метрика ROC-AUC для модели случайного леса на уровне 0.82 показывает, что модель отвечает лучше, чем случайным образом. В целом модель случайного леса демонстрирует необходимый уровень F1 на несбалансированных данных.\n",
    "Следующим шагом поработаем с устранением дисбаланса, все модели будут сразу проверены на тестовой выборке."
   ]
  },
  {
   "cell_type": "markdown",
   "metadata": {},
   "source": [
    "### Общий вывод по результатам исследования задачи"
   ]
  },
  {
   "cell_type": "markdown",
   "metadata": {},
   "source": [
    "По результатам исследования задачи можно сделать следующие выводы:\n",
    "- в данных не наблюдается аномальных значений и выбросов, но есть около 10% пропусков по одному из признаков;\n",
    "- все факторы были изучены, в том числе путем статистических тестов;\n",
    "- чтобы не терять 10% данных из выборки был удален признак с пропусками (по результатам исследовательсого анализа установлено, что он не влияет на факт ухода клиента из банка)\n",
    "- в выборке наблюдается сильный дисбаланс в пользу клиентов, которые остались в банке (около 80%);\n",
    "- на несбалансированных данных для валидационной выборки необходимого значения F1 меры достичь не удалось, при этом даже на не сбалансированных данных модель случайного леса показала не плохой уровень F1 меры и ROC-AUC."
   ]
  },
  {
   "cell_type": "markdown",
   "metadata": {},
   "source": [
    "## Борьба с дисбалансом"
   ]
  },
  {
   "cell_type": "markdown",
   "metadata": {},
   "source": [
    "Рассмотрим несколько методов работы с дисбалансом:\n",
    "- взвешивание классов\n",
    "- сокращение размера обучающей выборки, путем применения функции RandomUnderSampler библиотеки imblearn и исключением части объектов (преобладающего класса) техникой Downsampling.\n",
    "- увеличением размера обучающей выборки, путем применения метода SMOTE и техники Upsampling."
   ]
  },
  {
   "cell_type": "markdown",
   "metadata": {},
   "source": [
    "### Взвешивание классов"
   ]
  },
  {
   "cell_type": "code",
   "execution_count": 47,
   "metadata": {},
   "outputs": [
    {
     "name": "stdout",
     "output_type": "stream",
     "text": [
      "F1 мера для модели Logistic Regression  леса на валидационной выборке = 0.4918032786885246\n",
      "ROC-AUC для модели Logistic Regression на валидационной выборке = 0.7638142016344158\n"
     ]
    }
   ],
   "source": [
    "# Получаем лучшую оценку F1 меры на валидационной выборке и модели логистической регрессии\n",
    "bw_lr_best_model = None\n",
    "\n",
    "bw_lr_best_f1 = 0\n",
    "penalty_list = ['l1','l2']\n",
    "\n",
    "for penalty_ in penalty_list:\n",
    "    for c_i in np.arange(0.1, 2, 0.1):\n",
    "        bw_lr_model = LogisticRegression( random_state=12345, \n",
    "                                         penalty=penalty_, \n",
    "                                         C=c_i, \n",
    "                                         solver='liblinear',\n",
    "                                        class_weight='balanced')\n",
    "        bw_lr_model.fit(features_train, target_train)\n",
    "        bw_lr_prediction_valid = bw_lr_model.predict(features_valid)\n",
    "        bw_lr_f1=f1_score(target_valid,bw_lr_prediction_valid)\n",
    "        \n",
    "        if bw_lr_best_f1 < bw_lr_f1:\n",
    "            bw_lr_best_model = bw_lr_model\n",
    "            bw_lr_best_f1 = bw_lr_f1\n",
    "\n",
    "bw_lr_probabilities_valid = bw_lr_best_model.predict_proba(features_valid)\n",
    "bw_lr_probabilities_one_valid = bw_lr_probabilities_valid[:, 1]\n",
    "bw_lr_auc_roc=roc_auc_score(target_valid,bw_lr_probabilities_one_valid)\n",
    "\n",
    "print('F1 мера для модели Logistic Regression  леса на валидационной выборке =', bw_lr_best_f1)\n",
    "print('ROC-AUC для модели Logistic Regression на валидационной выборке =',bw_lr_auc_roc)"
   ]
  },
  {
   "cell_type": "code",
   "execution_count": 49,
   "metadata": {},
   "outputs": [
    {
     "name": "stdout",
     "output_type": "stream",
     "text": [
      "F1 мера для модели случайного леса на валидационной выборке = 0.6335135135135135\n",
      "ROC-AUC для модели случайного леса на валидационной выборке = 0.8528118365100201\n"
     ]
    }
   ],
   "source": [
    "#Обучим перебором двух гиперпараметров - глубина дерева и количество деревьев (перебор циклом)\n",
    "bw_rf_best_model = None\n",
    "bw_rf_best_depth = 0\n",
    "bw_rf_best_est = 0\n",
    "bw_best_f1 = 0\n",
    "for est in range(2, 26):\n",
    "    for depth in range (1, 26):\n",
    "        bw_rf_model = RandomForestClassifier(random_state=12345, \n",
    "                                       n_estimators=est,\n",
    "                                       max_depth=depth,\n",
    "                                       class_weight='balanced') \n",
    "        bw_rf_model.fit(features_train, target_train)\n",
    "        bw_rf_predicted_valid = bw_rf_model.predict(features_valid)\n",
    "        bw_rf_f1=f1_score(target_valid,bw_rf_predicted_valid)\n",
    "        if bw_rf_f1 > bw_best_f1:\n",
    "            bw_best_f1 = bw_rf_f1 \n",
    "            bw_rf_best_model = bw_rf_model\n",
    "            bw_rf_best_depth = depth\n",
    "            bw_rf_best_est = est\n",
    "\n",
    "bw_rf_probabilities_valid=bw_rf_best_model.predict_proba(features_valid)\n",
    "bw_rf_probabilities_one_valid = bw_rf_probabilities_valid[:, 1]\n",
    "bw_rf_auc_roc=roc_auc_score(target_valid,bw_rf_probabilities_one_valid)\n",
    "\n",
    "print('F1 мера для модели случайного леса на валидационной выборке =', bw_best_f1)\n",
    "print('ROC-AUC для модели случайного леса на валидационной выборке =',bw_rf_auc_roc)"
   ]
  },
  {
   "cell_type": "markdown",
   "metadata": {},
   "source": [
    "#### Обобщение результатов и вывод"
   ]
  },
  {
   "cell_type": "code",
   "execution_count": 50,
   "metadata": {},
   "outputs": [
    {
     "data": {
      "text/html": [
       "<div>\n",
       "<style scoped>\n",
       "    .dataframe tbody tr th:only-of-type {\n",
       "        vertical-align: middle;\n",
       "    }\n",
       "\n",
       "    .dataframe tbody tr th {\n",
       "        vertical-align: top;\n",
       "    }\n",
       "\n",
       "    .dataframe thead th {\n",
       "        text-align: right;\n",
       "    }\n",
       "</style>\n",
       "<table border=\"1\" class=\"dataframe\">\n",
       "  <thead>\n",
       "    <tr style=\"text-align: right;\">\n",
       "      <th></th>\n",
       "      <th>F1_score</th>\n",
       "      <th>ROC-AUC</th>\n",
       "    </tr>\n",
       "  </thead>\n",
       "  <tbody>\n",
       "    <tr>\n",
       "      <th>LR Balanced class weight</th>\n",
       "      <td>0.491803</td>\n",
       "      <td>0.763814</td>\n",
       "    </tr>\n",
       "    <tr>\n",
       "      <th>RF Balanced class weight</th>\n",
       "      <td>0.633514</td>\n",
       "      <td>0.852812</td>\n",
       "    </tr>\n",
       "  </tbody>\n",
       "</table>\n",
       "</div>"
      ],
      "text/plain": [
       "                          F1_score   ROC-AUC\n",
       "LR Balanced class weight  0.491803  0.763814\n",
       "RF Balanced class weight  0.633514  0.852812"
      ]
     },
     "execution_count": 50,
     "metadata": {},
     "output_type": "execute_result"
    }
   ],
   "source": [
    "result_f1 = [bw_lr_best_f1, bw_best_f1]\n",
    "result_roc_auc = [bw_lr_auc_roc, bw_rf_auc_roc]\n",
    "\n",
    "index_list = ['LR Balanced class weight', 'RF Balanced class weight']\n",
    "columns_name  = ['F1_score', 'ROC-AUC']\n",
    "result_bw_model = pd.DataFrame(list(zip(result_f1, result_roc_auc)), \n",
    "                                 index=index_list, \n",
    "                                 columns=columns_name)\n",
    "result_bw_model"
   ]
  },
  {
   "cell_type": "markdown",
   "metadata": {},
   "source": [
    "При взвешивании классов лучшие результаты снова показывает случайны лес. Важно отметить, что модель случайного леса выдала довольно высокие значения как F1 меры, так и ROC-AUC. Возможны мы нашли лидера. Проверим другие методы."
   ]
  },
  {
   "cell_type": "markdown",
   "metadata": {},
   "source": [
    "### Random Under Sampler (Under sampling)"
   ]
  },
  {
   "cell_type": "markdown",
   "metadata": {},
   "source": [
    "#### Уменьшение обучающей выборки"
   ]
  },
  {
   "cell_type": "code",
   "execution_count": 54,
   "metadata": {},
   "outputs": [],
   "source": [
    "features_train_rus, target_tarin_rus = RandomUnderSampler(random_state=12345).fit_resample(features_train, target_train)"
   ]
  },
  {
   "cell_type": "code",
   "execution_count": 55,
   "metadata": {},
   "outputs": [
    {
     "name": "stdout",
     "output_type": "stream",
     "text": [
      "Размер выборки после применения Random Under Sampler составялет: 2392\n"
     ]
    }
   ],
   "source": [
    "print('Размер выборки после применения Random Under Sampler составялет:',features_train_rus.shape[0])"
   ]
  },
  {
   "cell_type": "code",
   "execution_count": 56,
   "metadata": {},
   "outputs": [
    {
     "name": "stdout",
     "output_type": "stream",
     "text": [
      "Количество объектов класса 0 составялет: 1196\n",
      "Количество объектов класса 1 составялет: 1196\n"
     ]
    }
   ],
   "source": [
    "print ('Количество объектов класса 0 составялет:', features_train_rus[target_tarin_rus == 0].shape[0])\n",
    "print ('Количество объектов класса 1 составялет:', features_train_rus[target_tarin_rus == 1].shape[0])"
   ]
  },
  {
   "cell_type": "code",
   "execution_count": 57,
   "metadata": {},
   "outputs": [
    {
     "name": "stdout",
     "output_type": "stream",
     "text": [
      "F1 мера для модели Logistic Regression  леса на валидационной выборке = 0.4995648389904265\n",
      "ROC-AUC для модели Logistic Regression на валидационной выборке = 0.7672968624296058\n"
     ]
    }
   ],
   "source": [
    "# Получаем лучшую оценку F1 меры на валидационной выборке и модели логистической регрессии\n",
    "rus_lr_best_model = None\n",
    "penalty_list = ['l1','l2']\n",
    "rus_lr_best_f1 = 0\n",
    "for penalty_ in penalty_list:\n",
    "    for c_i in np.arange(0.1, 2, 0.1):\n",
    "        rus_lr_model = LogisticRegression( random_state=12345, \n",
    "                                         penalty=penalty_, \n",
    "                                         C=c_i, \n",
    "                                         solver='liblinear'\n",
    "                                        )\n",
    "        rus_lr_model.fit(features_train_rus, target_tarin_rus)\n",
    "        rus_lr_prediction_valid = rus_lr_model.predict(features_valid)\n",
    "        rus_lr_f1=f1_score(target_valid,rus_lr_prediction_valid)\n",
    "        if rus_lr_f1 > rus_lr_best_f1:\n",
    "            rus_lr_best_f1 = rus_lr_f1\n",
    "            rus_lr_best_model = rus_lr_model\n",
    "            \n",
    "rus_lr_probabilities_valid = rus_lr_best_model.predict_proba(features_valid)\n",
    "rus_lr_probabilities_one_valid = rus_lr_probabilities_valid[:, 1]\n",
    "rus_lr_auc_roc=roc_auc_score(target_valid,rus_lr_probabilities_one_valid)\n",
    "\n",
    "print('F1 мера для модели Logistic Regression  леса на валидационной выборке =', rus_lr_best_f1)\n",
    "print('ROC-AUC для модели Logistic Regression на валидационной выборке =',rus_lr_auc_roc)"
   ]
  },
  {
   "cell_type": "code",
   "execution_count": 58,
   "metadata": {
    "scrolled": true
   },
   "outputs": [
    {
     "name": "stdout",
     "output_type": "stream",
     "text": [
      "F1 мера для модели случайного леса на валидационной выборке = 0.6051080550098231\n",
      "ROC-AUC для модели случайного леса на валидационной выборке = 0.8427252765864782\n"
     ]
    }
   ],
   "source": [
    "# Получаем лучшую оценку F1 меры на валидационной выборке и модели случайный лес\n",
    "rus_rf_best_model = None\n",
    "rus_rf_best_depth = 0\n",
    "rus_rf_best_est = 0\n",
    "rus_rf_best_f1 = 0\n",
    "\n",
    "for est in range(2, 26):\n",
    "    for depth in range (1, 26):\n",
    "        rus_rf_model = RandomForestClassifier(random_state=12345, \n",
    "                                       n_estimators=est,\n",
    "                                       max_depth=depth) \n",
    "        rus_rf_model.fit(features_train_rus, target_tarin_rus)\n",
    "        rus_rf_predicted_valid = rus_rf_model.predict(features_valid) \n",
    "        rus_rf_f1 = f1_score(target_valid, rus_rf_predicted_valid) \n",
    "        if rus_rf_best_f1 < rus_rf_f1:\n",
    "            rus_rf_best_model = rus_rf_model\n",
    "            rus_rf_best_f1 = rus_rf_f1\n",
    "            \n",
    "rus_rf_probabilities_valid=rus_rf_best_model.predict_proba(features_valid)\n",
    "rus_rf_probabilities_one_valid = rus_rf_probabilities_valid[:, 1]\n",
    "rus_rf_auc_roc=roc_auc_score(target_valid,rus_rf_probabilities_one_valid)\n",
    "\n",
    "print('F1 мера для модели случайного леса на валидационной выборке =', rus_rf_best_f1)\n",
    "print('ROC-AUC для модели случайного леса на валидационной выборке =',rus_rf_auc_roc)"
   ]
  },
  {
   "cell_type": "markdown",
   "metadata": {},
   "source": [
    "#### Обобщение результатов и вывод"
   ]
  },
  {
   "cell_type": "code",
   "execution_count": 59,
   "metadata": {},
   "outputs": [
    {
     "data": {
      "text/html": [
       "<div>\n",
       "<style scoped>\n",
       "    .dataframe tbody tr th:only-of-type {\n",
       "        vertical-align: middle;\n",
       "    }\n",
       "\n",
       "    .dataframe tbody tr th {\n",
       "        vertical-align: top;\n",
       "    }\n",
       "\n",
       "    .dataframe thead th {\n",
       "        text-align: right;\n",
       "    }\n",
       "</style>\n",
       "<table border=\"1\" class=\"dataframe\">\n",
       "  <thead>\n",
       "    <tr style=\"text-align: right;\">\n",
       "      <th></th>\n",
       "      <th>F1_score</th>\n",
       "      <th>ROC-AUC</th>\n",
       "    </tr>\n",
       "  </thead>\n",
       "  <tbody>\n",
       "    <tr>\n",
       "      <th>LR Random Under Sampler</th>\n",
       "      <td>0.605108</td>\n",
       "      <td>0.767297</td>\n",
       "    </tr>\n",
       "    <tr>\n",
       "      <th>RF Random Under Sampler</th>\n",
       "      <td>0.605108</td>\n",
       "      <td>0.842725</td>\n",
       "    </tr>\n",
       "  </tbody>\n",
       "</table>\n",
       "</div>"
      ],
      "text/plain": [
       "                         F1_score   ROC-AUC\n",
       "LR Random Under Sampler  0.605108  0.767297\n",
       "RF Random Under Sampler  0.605108  0.842725"
      ]
     },
     "execution_count": 59,
     "metadata": {},
     "output_type": "execute_result"
    }
   ],
   "source": [
    "result_f1 = [rus_rf_best_f1, rus_rf_best_f1]\n",
    "result_roc_auc = [rus_lr_auc_roc, rus_rf_auc_roc]\n",
    "\n",
    "index_list = ['LR Random Under Sampler', 'RF Random Under Sampler']\n",
    "columns_name  = ['F1_score', 'ROC-AUC']\n",
    "result_rus_model = pd.DataFrame(list(zip(result_f1, result_roc_auc)), \n",
    "                                 index=index_list, \n",
    "                                 columns=columns_name)\n",
    "result_rus_model"
   ]
  },
  {
   "cell_type": "markdown",
   "metadata": {},
   "source": [
    "Случайный лес снова демонстрирует свое превосходство над логистической регрессией. Значение F1 и ROC-AUC меры хуже, чем при взвешивании классов, но лучше, чем базовые модели."
   ]
  },
  {
   "cell_type": "markdown",
   "metadata": {},
   "source": [
    "### Downsampling"
   ]
  },
  {
   "cell_type": "markdown",
   "metadata": {},
   "source": [
    "#### Уменьшение обучающей выборки"
   ]
  },
  {
   "cell_type": "code",
   "execution_count": 60,
   "metadata": {},
   "outputs": [],
   "source": [
    "def downsample(features, target, fraction):\n",
    "    \n",
    "    features_zeros = features[target == 0]\n",
    "    features_ones = features[target == 1]\n",
    "    target_zeros = target[target == 0]\n",
    "    target_ones = target[target == 1]\n",
    "    \n",
    "    features_downsampled = pd.concat([features_zeros.sample(frac=fraction, random_state=12345)] + [features_ones])\n",
    "    target_downsampled = pd.concat([target_zeros.sample(frac=fraction, random_state=12345)] + [target_ones])    \n",
    "    \n",
    "    features_downsampled, target_downsampled = shuffle(features_downsampled, target_downsampled, random_state=12345)    \n",
    "    return features_downsampled, target_downsampled"
   ]
  },
  {
   "cell_type": "code",
   "execution_count": 61,
   "metadata": {},
   "outputs": [],
   "source": [
    "features_train_downsampled, target_train_downsampled = downsample(features_train, target_train, 0.25)"
   ]
  },
  {
   "cell_type": "code",
   "execution_count": 62,
   "metadata": {},
   "outputs": [
    {
     "name": "stdout",
     "output_type": "stream",
     "text": [
      "Размер выборки после применения downsampling составялет: 2397\n"
     ]
    }
   ],
   "source": [
    "print('Размер выборки после применения downsampling составялет:',features_train_downsampled.shape[0])"
   ]
  },
  {
   "cell_type": "code",
   "execution_count": null,
   "metadata": {},
   "outputs": [],
   "source": [
    "target_train_downsampled.value_counts(normalize=True)"
   ]
  },
  {
   "cell_type": "markdown",
   "metadata": {},
   "source": [
    "Соотношение практически 50 на 50. Перейдем к обучению моделей."
   ]
  },
  {
   "cell_type": "markdown",
   "metadata": {},
   "source": [
    "#### Обучение и тестирование логистической регрессии"
   ]
  },
  {
   "cell_type": "code",
   "execution_count": 63,
   "metadata": {},
   "outputs": [
    {
     "name": "stdout",
     "output_type": "stream",
     "text": [
      "F1 мера для модели Logistic Regression  леса на валидационной выборке = 0.4986922406277245\n",
      "ROC-AUC для модели Logistic Regression на валидационной выборке = 0.7673830594184576\n"
     ]
    }
   ],
   "source": [
    "# Получаем лучшую оценку F1 меры на валидационной выборке и модели логистической регрессии\n",
    "ds_lr_best_model = None\n",
    "\n",
    "ds_lr_best_f1 = 0\n",
    "penalty_list = ['l1','l2']\n",
    "\n",
    "for penalty_ in penalty_list:\n",
    "    for c_i in np.arange(0.1, 2, 0.1):\n",
    "        ds_lr_model = LogisticRegression( random_state=12345, \n",
    "                                         penalty=penalty_, \n",
    "                                         C=c_i, \n",
    "                                         solver='liblinear'\n",
    "                                        )\n",
    "        ds_lr_model.fit(features_train_downsampled, target_train_downsampled)\n",
    "        ds_lr_prediction_valid = ds_lr_model.predict(features_valid)\n",
    "        ds_lr_accuracy = accuracy_score(target_valid, ds_lr_prediction_valid)\n",
    "        ds_lr_f1=f1_score(target_valid,ds_lr_prediction_valid)\n",
    "        if ds_lr_best_f1 < ds_lr_f1:\n",
    "            ds_lr_best_model = ds_lr_model\n",
    "            ds_lr_best_f1 = ds_lr_f1\n",
    "\n",
    "ds_lr_probabilities_valid = ds_lr_best_model.predict_proba(features_valid)\n",
    "ds_lr_probabilities_one_valid = ds_lr_probabilities_valid[:, 1]\n",
    "ds_lr_auc_roc=roc_auc_score(target_valid,ds_lr_probabilities_one_valid)\n",
    "\n",
    "print('F1 мера для модели Logistic Regression  леса на валидационной выборке =', ds_lr_best_f1)\n",
    "print('ROC-AUC для модели Logistic Regression на валидационной выборке =',ds_lr_auc_roc)"
   ]
  },
  {
   "cell_type": "markdown",
   "metadata": {},
   "source": [
    "#### Обучение и тестирование случайного леса"
   ]
  },
  {
   "cell_type": "code",
   "execution_count": 64,
   "metadata": {},
   "outputs": [
    {
     "name": "stdout",
     "output_type": "stream",
     "text": [
      "F1 мера для модели случайного леса на валидационной выборке = 0.6059443911792906\n",
      "ROC-AUC для модели случайного леса на валидационной выборке = 0.8503824424294848\n"
     ]
    }
   ],
   "source": [
    "#Обучим перебором двух гиперпараметров - глубина дерева и количество деревьев (перебор циклом)\n",
    "ds_rf_best_model = None\n",
    "ds_rf_best_depth = 0\n",
    "ds_rf_best_f1 = 0\n",
    "ds_rf_best_est = 0\n",
    "\n",
    "for est in range(2, 26):\n",
    "    for depth in range (1, 26):\n",
    "        # обучим модель с заданным количеством деревьев\n",
    "        ds_rf_model = RandomForestClassifier(random_state=12345, \n",
    "                                       n_estimators=est,\n",
    "                                       max_depth=depth) \n",
    "        # обучим модель на тренировочной выборке\n",
    "        ds_rf_model.fit(features_train_downsampled, target_train_downsampled)\n",
    "        ds_rf_prediction_valid = ds_rf_model.predict(features_valid) # посчитайте качество модели на валидационной выборке\n",
    "        ds_rf_f1 = f1_score(target_valid,ds_rf_prediction_valid)     \n",
    "\n",
    "        if ds_rf_best_f1 < ds_rf_f1:\n",
    "            ds_rf_best_model = ds_rf_model\n",
    "            ds_rf_best_f1 = ds_rf_f1\n",
    "            ds_rf_best_depth = depth\n",
    "            ds_rf_best_est = est\n",
    "\n",
    "ds_rf_probabilities_valid=ds_rf_best_model.predict_proba(features_valid)\n",
    "ds_rf_probabilities_one_valid = ds_rf_probabilities_valid[:, 1]\n",
    "ds_rf_auc_roc=roc_auc_score(target_valid,ds_rf_probabilities_one_valid)\n",
    "\n",
    "print('F1 мера для модели случайного леса на валидационной выборке =', ds_rf_best_f1)\n",
    "print('ROC-AUC для модели случайного леса на валидационной выборке =',ds_rf_auc_roc)"
   ]
  },
  {
   "cell_type": "markdown",
   "metadata": {},
   "source": [
    "#### Обобщение результатов и вывод"
   ]
  },
  {
   "cell_type": "code",
   "execution_count": 65,
   "metadata": {},
   "outputs": [
    {
     "data": {
      "text/html": [
       "<div>\n",
       "<style scoped>\n",
       "    .dataframe tbody tr th:only-of-type {\n",
       "        vertical-align: middle;\n",
       "    }\n",
       "\n",
       "    .dataframe tbody tr th {\n",
       "        vertical-align: top;\n",
       "    }\n",
       "\n",
       "    .dataframe thead th {\n",
       "        text-align: right;\n",
       "    }\n",
       "</style>\n",
       "<table border=\"1\" class=\"dataframe\">\n",
       "  <thead>\n",
       "    <tr style=\"text-align: right;\">\n",
       "      <th></th>\n",
       "      <th>F1_score</th>\n",
       "      <th>ROC-AUC</th>\n",
       "    </tr>\n",
       "  </thead>\n",
       "  <tbody>\n",
       "    <tr>\n",
       "      <th>LR Downsampling</th>\n",
       "      <td>0.498692</td>\n",
       "      <td>0.767383</td>\n",
       "    </tr>\n",
       "    <tr>\n",
       "      <th>RF Downsampling</th>\n",
       "      <td>0.605944</td>\n",
       "      <td>0.850382</td>\n",
       "    </tr>\n",
       "  </tbody>\n",
       "</table>\n",
       "</div>"
      ],
      "text/plain": [
       "                 F1_score   ROC-AUC\n",
       "LR Downsampling  0.498692  0.767383\n",
       "RF Downsampling  0.605944  0.850382"
      ]
     },
     "execution_count": 65,
     "metadata": {},
     "output_type": "execute_result"
    }
   ],
   "source": [
    "result_f1 = [ds_lr_best_f1, ds_rf_best_f1]\n",
    "result_roc_auc = [ds_lr_auc_roc, ds_rf_auc_roc]\n",
    "\n",
    "index_list = ['LR Downsampling', 'RF Downsampling']\n",
    "columns_name  = ['F1_score', 'ROC-AUC']\n",
    "result_ds_model = pd.DataFrame(list(zip(result_f1, result_roc_auc)), \n",
    "                                 index=index_list, \n",
    "                                 columns=columns_name)\n",
    "result_ds_model"
   ]
  },
  {
   "cell_type": "markdown",
   "metadata": {},
   "source": [
    "Победа у случайного леса. При этом результаты применения техники сокращения размерности сопоставимы с методом Random Under Sampler (т.е. хуже, чем при взвешивании классов)."
   ]
  },
  {
   "cell_type": "markdown",
   "metadata": {},
   "source": [
    "### Upsampling"
   ]
  },
  {
   "cell_type": "markdown",
   "metadata": {},
   "source": [
    "#### Увеличение обучающей выборки"
   ]
  },
  {
   "cell_type": "code",
   "execution_count": 68,
   "metadata": {},
   "outputs": [],
   "source": [
    "def upsample(features, target, repeat):\n",
    "    \n",
    "    features_zeros = features[target == 0]\n",
    "    features_ones = features[target == 1]\n",
    "    target_zeros = target[target == 0]\n",
    "    target_ones = target[target == 1]\n",
    "    \n",
    "    features_upsampled = pd.concat([features_zeros] + [features_ones] * repeat)\n",
    "    target_upsampled = pd.concat([target_zeros] + [target_ones] * repeat)    \n",
    "    \n",
    "    features_upsampled, target_upsampled = shuffle(features_upsampled, target_upsampled, random_state=12345)   \n",
    "    \n",
    "    return features_upsampled, target_upsampled"
   ]
  },
  {
   "cell_type": "code",
   "execution_count": 69,
   "metadata": {},
   "outputs": [],
   "source": [
    "features_tarin_upsampled, target_train_upsampled = upsample(features_train, target_train, 4)"
   ]
  },
  {
   "cell_type": "code",
   "execution_count": 70,
   "metadata": {},
   "outputs": [
    {
     "name": "stdout",
     "output_type": "stream",
     "text": [
      "Размер выборки после применения upsampling составялет: 9588\n"
     ]
    }
   ],
   "source": [
    "print('Размер выборки после применения upsampling составялет:',features_tarin_upsampled.shape[0])"
   ]
  },
  {
   "cell_type": "code",
   "execution_count": 71,
   "metadata": {
    "scrolled": true
   },
   "outputs": [
    {
     "name": "stdout",
     "output_type": "stream",
     "text": [
      "Количество объектов класса 0 составялет: 4804\n",
      "Количество объектов класса 1 составялет: 4784\n"
     ]
    }
   ],
   "source": [
    "print ('Количество объектов класса 0 составялет:', features_tarin_upsampled[target_train_upsampled == 0].shape[0])\n",
    "print ('Количество объектов класса 1 составялет:', features_tarin_upsampled[target_train_upsampled == 1].shape[0])"
   ]
  },
  {
   "cell_type": "markdown",
   "metadata": {},
   "source": [
    "Отлично, в результате примненения upsampling соотношение между классами примерно одинаковое. Перейдем к обучению моделей."
   ]
  },
  {
   "cell_type": "markdown",
   "metadata": {},
   "source": [
    "#### Обучение и тестирование логистической регрессии"
   ]
  },
  {
   "cell_type": "code",
   "execution_count": 80,
   "metadata": {},
   "outputs": [
    {
     "name": "stdout",
     "output_type": "stream",
     "text": [
      "F1 мера для модели Logistic Regression  леса на валидационной выборке = 0.4922279792746113\n",
      "ROC-AUC для модели Logistic Regression на валидационной выборке = 0.7640546458664764\n"
     ]
    }
   ],
   "source": [
    "# Получаем лучшую оценку F1 меры на валидационной выборке и модели логистической регрессии\n",
    "us_lr_best_model = None\n",
    "\n",
    "us_lr_best_f1 = 0\n",
    "penalty_list = ['l1','l2']\n",
    "\n",
    "for penalty_ in penalty_list:\n",
    "    for c_i in np.arange(0.1, 2, 0.1):\n",
    "        us_lr_model = LogisticRegression( random_state=12345, \n",
    "                                         penalty=penalty_, \n",
    "                                         C=c_i, \n",
    "                                         solver='liblinear'\n",
    "                                        )\n",
    "        us_lr_model.fit(features_tarin_upsampled, target_train_upsampled)\n",
    "        us_lr_prediction_valid = us_lr_model.predict(features_valid)\n",
    "        us_lr_f1 = f1_score(target_valid, us_lr_prediction_valid)\n",
    "        if us_lr_best_f1 < us_lr_f1:\n",
    "            us_lr_best_model = us_lr_model\n",
    "            us_lr_best_f1 = us_lr_f1\n",
    "\n",
    "us_lr_probabilities_valid = us_lr_best_model.predict_proba(features_valid)\n",
    "us_lr_probabilities_one_valid = us_lr_probabilities_valid[:, 1]\n",
    "us_lr_auc_roc=roc_auc_score(target_valid,us_lr_probabilities_one_valid)\n",
    "\n",
    "print('F1 мера для модели Logistic Regression  леса на валидационной выборке =', us_lr_best_f1)\n",
    "print('ROC-AUC для модели Logistic Regression на валидационной выборке =',us_lr_auc_roc)"
   ]
  },
  {
   "cell_type": "markdown",
   "metadata": {},
   "source": [
    "#### Обучение и тестирование случайного леса"
   ]
  },
  {
   "cell_type": "code",
   "execution_count": 73,
   "metadata": {},
   "outputs": [
    {
     "name": "stdout",
     "output_type": "stream",
     "text": [
      "F1 мера для модели случайного леса на валидационной выборке = 0.4892703862660944\n",
      "ROC-AUC для модели случайного леса на валидационной выборке = 0.6355379599441081\n"
     ]
    }
   ],
   "source": [
    "#Обучим перебором двух гиперпараметров - глубина дерева и количество деревьев (перебор циклом)\n",
    "us_rf_best_model = None\n",
    "us_rf_best_depth = 0\n",
    "us_rf_best_f1 = 0\n",
    "us_rf_best_est = 0\n",
    "\n",
    "for est in range(2, 26):\n",
    "    for depth in range (1, 26):\n",
    "        # обучим модель с заданным количеством деревьев\n",
    "        us_rf_model = RandomForestClassifier(random_state=12345, \n",
    "                                       n_estimators=est,\n",
    "                                       max_depth=depth) \n",
    "        # обучим модель на тренировочной выборке\n",
    "        us_rf_model.fit(features_tarin_upsampled, target_train_upsampled)\n",
    "        us_rf_prediction_valid = ds_lr_model.predict(features_valid)\n",
    "        us_rf_accuracy = us_rf_model.score(features_valid, target_valid)     \n",
    "        us_rf_f1= f1_score(target_valid,us_rf_prediction_valid) # посчитайте качество модели на валидационной выборке\n",
    "        if us_rf_best_f1 < us_rf_f1:\n",
    "            us_rf_best_model = us_rf_model\n",
    "            us_rf_best_f1 = us_rf_f1\n",
    "            us_rf_best_depth = depth\n",
    "            us_rf_best_est = est\n",
    "\n",
    "us_rf_probabilities_valid=us_rf_best_model.predict_proba(features_valid)\n",
    "us_rf_probabilities_one_valid = us_rf_probabilities_valid[:, 1]\n",
    "us_rf_auc_roc=roc_auc_score(target_valid,us_rf_probabilities_one_valid)\n",
    "\n",
    "print('F1 мера для модели случайного леса на валидационной выборке =', us_rf_best_f1)\n",
    "print('ROC-AUC для модели случайного леса на валидационной выборке =',us_rf_auc_roc)"
   ]
  },
  {
   "cell_type": "markdown",
   "metadata": {},
   "source": [
    "#### Обобщение результатов и вывод"
   ]
  },
  {
   "cell_type": "code",
   "execution_count": 82,
   "metadata": {},
   "outputs": [
    {
     "data": {
      "text/html": [
       "<div>\n",
       "<style scoped>\n",
       "    .dataframe tbody tr th:only-of-type {\n",
       "        vertical-align: middle;\n",
       "    }\n",
       "\n",
       "    .dataframe tbody tr th {\n",
       "        vertical-align: top;\n",
       "    }\n",
       "\n",
       "    .dataframe thead th {\n",
       "        text-align: right;\n",
       "    }\n",
       "</style>\n",
       "<table border=\"1\" class=\"dataframe\">\n",
       "  <thead>\n",
       "    <tr style=\"text-align: right;\">\n",
       "      <th></th>\n",
       "      <th>F1_score</th>\n",
       "      <th>ROC-AUC</th>\n",
       "    </tr>\n",
       "  </thead>\n",
       "  <tbody>\n",
       "    <tr>\n",
       "      <th>LR Upsampling</th>\n",
       "      <td>0.492228</td>\n",
       "      <td>0.764055</td>\n",
       "    </tr>\n",
       "    <tr>\n",
       "      <th>RF Upsampling</th>\n",
       "      <td>0.489270</td>\n",
       "      <td>0.635538</td>\n",
       "    </tr>\n",
       "  </tbody>\n",
       "</table>\n",
       "</div>"
      ],
      "text/plain": [
       "               F1_score   ROC-AUC\n",
       "LR Upsampling  0.492228  0.764055\n",
       "RF Upsampling  0.489270  0.635538"
      ]
     },
     "execution_count": 82,
     "metadata": {},
     "output_type": "execute_result"
    }
   ],
   "source": [
    "result_f1 = [us_lr_best_f1, us_rf_best_f1]\n",
    "result_roc_auc = [us_lr_auc_roc, us_rf_auc_roc]\n",
    "\n",
    "index_list = ['LR Upsampling', 'RF Upsampling']\n",
    "columns_name  = ['F1_score', 'ROC-AUC']\n",
    "result_us_model = pd.DataFrame(list(zip(result_f1, result_roc_auc)), \n",
    "                                 index=index_list, \n",
    "                                 columns=columns_name)\n",
    "result_us_model"
   ]
  },
  {
   "cell_type": "markdown",
   "metadata": {},
   "source": [
    "В результате применения методики увеличения размера обучающей выборки результаты тестирования на валидационной выборке показали значения F1 меры выше, чем при сокращении размера обучащей выборки, но хуже, чем при взвешивании классов. Значения ROC-AUC находятся на не плохом уровне."
   ]
  },
  {
   "cell_type": "markdown",
   "metadata": {},
   "source": [
    "### Общий вывод по результатам борьбы с дисбалансом"
   ]
  },
  {
   "cell_type": "code",
   "execution_count": 83,
   "metadata": {},
   "outputs": [
    {
     "data": {
      "text/html": [
       "<div>\n",
       "<style scoped>\n",
       "    .dataframe tbody tr th:only-of-type {\n",
       "        vertical-align: middle;\n",
       "    }\n",
       "\n",
       "    .dataframe tbody tr th {\n",
       "        vertical-align: top;\n",
       "    }\n",
       "\n",
       "    .dataframe thead th {\n",
       "        text-align: right;\n",
       "    }\n",
       "</style>\n",
       "<table border=\"1\" class=\"dataframe\">\n",
       "  <thead>\n",
       "    <tr style=\"text-align: right;\">\n",
       "      <th></th>\n",
       "      <th>F1_score</th>\n",
       "      <th>ROC-AUC</th>\n",
       "    </tr>\n",
       "  </thead>\n",
       "  <tbody>\n",
       "    <tr>\n",
       "      <th>RF Balanced class weight</th>\n",
       "      <td>0.633514</td>\n",
       "      <td>0.852812</td>\n",
       "    </tr>\n",
       "    <tr>\n",
       "      <th>RF Downsampling</th>\n",
       "      <td>0.605944</td>\n",
       "      <td>0.850382</td>\n",
       "    </tr>\n",
       "    <tr>\n",
       "      <th>LR Random Under Sampler</th>\n",
       "      <td>0.605108</td>\n",
       "      <td>0.767297</td>\n",
       "    </tr>\n",
       "    <tr>\n",
       "      <th>RF Random Under Sampler</th>\n",
       "      <td>0.605108</td>\n",
       "      <td>0.842725</td>\n",
       "    </tr>\n",
       "    <tr>\n",
       "      <th>LR</th>\n",
       "      <td>0.593438</td>\n",
       "      <td>0.757708</td>\n",
       "    </tr>\n",
       "    <tr>\n",
       "      <th>LR Downsampling</th>\n",
       "      <td>0.498692</td>\n",
       "      <td>0.767383</td>\n",
       "    </tr>\n",
       "    <tr>\n",
       "      <th>LR Upsampling</th>\n",
       "      <td>0.492228</td>\n",
       "      <td>0.764055</td>\n",
       "    </tr>\n",
       "    <tr>\n",
       "      <th>LR Balanced class weight</th>\n",
       "      <td>0.491803</td>\n",
       "      <td>0.763814</td>\n",
       "    </tr>\n",
       "    <tr>\n",
       "      <th>RF Upsampling</th>\n",
       "      <td>0.489270</td>\n",
       "      <td>0.635538</td>\n",
       "    </tr>\n",
       "    <tr>\n",
       "      <th>RF</th>\n",
       "      <td>0.325901</td>\n",
       "      <td>0.823792</td>\n",
       "    </tr>\n",
       "  </tbody>\n",
       "</table>\n",
       "</div>"
      ],
      "text/plain": [
       "                          F1_score   ROC-AUC\n",
       "RF Balanced class weight  0.633514  0.852812\n",
       "RF Downsampling           0.605944  0.850382\n",
       "LR Random Under Sampler   0.605108  0.767297\n",
       "RF Random Under Sampler   0.605108  0.842725\n",
       "LR                        0.593438  0.757708\n",
       "LR Downsampling           0.498692  0.767383\n",
       "LR Upsampling             0.492228  0.764055\n",
       "LR Balanced class weight  0.491803  0.763814\n",
       "RF Upsampling             0.489270  0.635538\n",
       "RF                        0.325901  0.823792"
      ]
     },
     "execution_count": 83,
     "metadata": {},
     "output_type": "execute_result"
    }
   ],
   "source": [
    "result = (pd.concat([result_base_model, result_bw_model, result_us_model, \\\n",
    "                     result_rus_model, result_ds_model])\n",
    "          .sort_values(by='F1_score', ascending=False)\n",
    "         )\n",
    "result"
   ]
  },
  {
   "cell_type": "markdown",
   "metadata": {},
   "source": [
    "Как видно из таблицы выше максимальное значение F1 меры и ROC-AUC у модели случайного леса при балансировке обучающей выборки. Попробуем изменить порог классификации. Оптимальный порог будем подбирать путем максимизации F1 меры."
   ]
  },
  {
   "cell_type": "code",
   "execution_count": 84,
   "metadata": {},
   "outputs": [],
   "source": [
    "# Напишем функцию которая на вход прнимает массимы из признаков и целевых значений, \n",
    "# модель и ее наименование (для красивого вывода на экран)\n",
    "# Функция будет печать лушчий найденный порог классификации для F1 меры\n",
    "\n",
    "def get_optinal_threshold(features, target, model, model_name):\n",
    "    \n",
    "    probabilities_one_test = model.predict_proba(features)[:, 1]\n",
    "\n",
    "    best_f1_score = 0\n",
    "    best_threshold = 0\n",
    "    best_predicted_test = 0\n",
    "\n",
    "    for threshold in np.arange(0.1, 1, 0.01):\n",
    "\n",
    "        predicted = probabilities_one_test > threshold \n",
    "        f1 = f1_score(target, predicted)\n",
    "\n",
    "        if f1 > best_f1_score:\n",
    "            best_f1_score = f1\n",
    "            best_threshold = threshold\n",
    "            \n",
    "    print('Оптимальный порог классификации при котором F1 принимает максимальное значение для модели', model_name)\n",
    "    print('Порог = {:.2f}, значение F1 = {:.4f}'\n",
    "          .format(best_threshold, best_f1_score))\n",
    "    print('--------------------------------------------------------------------------------------------')\n",
    "    \n",
    "    return best_f1_score, best_threshold"
   ]
  },
  {
   "cell_type": "code",
   "execution_count": 85,
   "metadata": {
    "scrolled": true
   },
   "outputs": [
    {
     "name": "stdout",
     "output_type": "stream",
     "text": [
      "Оптимальный порог классификации при котором F1 принимает максимальное значение для модели RF\n",
      "Порог = 0.45, значение F1 = 0.5975\n",
      "--------------------------------------------------------------------------------------------\n",
      "Оптимальный порог классификации при котором F1 принимает максимальное значение для модели LR\n",
      "Порог = 0.26, значение F1 = 0.5010\n",
      "--------------------------------------------------------------------------------------------\n",
      "Оптимальный порог классификации при котором F1 принимает максимальное значение для модели LR BW\n",
      "Порог = 0.62, значение F1 = 0.5033\n",
      "--------------------------------------------------------------------------------------------\n",
      "Оптимальный порог классификации при котором F1 принимает максимальное значение для модели RF BW\n",
      "Порог = 0.50, значение F1 = 0.6335\n",
      "--------------------------------------------------------------------------------------------\n",
      "Оптимальный порог классификации при котором F1 принимает максимальное значение для модели LR RUS\n",
      "Порог = 0.60, значение F1 = 0.5105\n",
      "--------------------------------------------------------------------------------------------\n",
      "Оптимальный порог классификации при котором F1 принимает максимальное значение для модели RF RUS\n",
      "Порог = 0.54, значение F1 = 0.6185\n",
      "--------------------------------------------------------------------------------------------\n",
      "Оптимальный порог классификации при котором F1 принимает максимальное значение для модели LR DS\n",
      "Порог = 0.60, значение F1 = 0.5127\n",
      "--------------------------------------------------------------------------------------------\n",
      "Оптимальный порог классификации при котором F1 принимает максимальное значение для модели RF DS\n",
      "Порог = 0.60, значение F1 = 0.6260\n",
      "--------------------------------------------------------------------------------------------\n",
      "Оптимальный порог классификации при котором F1 принимает максимальное значение для модели LR US\n",
      "Порог = 0.62, значение F1 = 0.5022\n",
      "--------------------------------------------------------------------------------------------\n",
      "Оптимальный порог классификации при котором F1 принимает максимальное значение для модели RF US\n",
      "Порог = 0.45, значение F1 = 0.4020\n",
      "--------------------------------------------------------------------------------------------\n"
     ]
    }
   ],
   "source": [
    "models = [rf_best_model, lr_best_model, bw_lr_best_model, bw_rf_best_model, rus_lr_best_model, rus_rf_best_model, ds_lr_best_model, ds_rf_best_model, us_lr_best_model, us_rf_best_model]\n",
    "models_name = ['RF','LR' , 'LR BW', 'RF BW', 'LR RUS', 'RF RUS', 'LR DS', 'RF DS', 'LR US', 'RF US']\n",
    "\n",
    "for i in range(len(models)):\n",
    "        get_optinal_threshold(features_valid, target_valid, models[i], models_name[i])"
   ]
  },
  {
   "cell_type": "markdown",
   "metadata": {},
   "source": [
    "И снова победила модель случайного леса с балансировкой классов, при этом оптимальынй порог соответствует порогу по умолчанию (0.5)"
   ]
  },
  {
   "cell_type": "markdown",
   "metadata": {},
   "source": [
    "Было рассмотренно несколько методов борьбы с дисбалансом, каждый из них улучшал результаты по сравнениию с оценкой на не сбалансированных данных. При этом  методики балансирования классов и повышения размероности дали резульаты лучше, чем сокращение размерности. Также отметим, что модель случайного леса в каждом случае показывала свое превосходство над логистической регрессией. По результатам данного этапа отобрана лучшая модель (по максимальному значению F1 меры, которая будет проверена на тестовой выборке)."
   ]
  },
  {
   "cell_type": "markdown",
   "metadata": {},
   "source": [
    "## Тестирование модели"
   ]
  },
  {
   "cell_type": "markdown",
   "metadata": {},
   "source": [
    "На предыдущем этапе была установлена модель, котоаря показывает макимальное значение F1 меры на валидационной выборе и это модель случайного леса с балансировкой классов для борьбы с дисбалансом. Проверим эту модель на тестовых данных."
   ]
  },
  {
   "cell_type": "code",
   "execution_count": 88,
   "metadata": {},
   "outputs": [],
   "source": [
    "best_model = bw_rf_best_model"
   ]
  },
  {
   "cell_type": "code",
   "execution_count": 89,
   "metadata": {},
   "outputs": [
    {
     "name": "stdout",
     "output_type": "stream",
     "text": [
      "F1 мера для модели случайного леса на тестовой выборке = 0.5978\n"
     ]
    }
   ],
   "source": [
    "prediction = best_model.predict(features_test)\n",
    "f1_score_best_model = f1_score(target_test, prediction)\n",
    "\n",
    "print('F1 мера для модели случайного леса на тестовой выборке = {:.4f}'.format(f1_score_best_model))"
   ]
  },
  {
   "cell_type": "markdown",
   "metadata": {},
   "source": [
    "Получается, что у нашей модели значение F1 меры на тестовых данных составляет 0.598, что удовлетворяет критериям задачи. Следующим шагом построим ROC кривую и выполним оценку того отвечала ли наша модель лучше, чем случайный классификатор."
   ]
  },
  {
   "cell_type": "code",
   "execution_count": 90,
   "metadata": {},
   "outputs": [
    {
     "data": {
      "image/png": "[encoded data removed]",
      "text/plain": [
       "<Figure size 1152x576 with 1 Axes>"
      ]
     },
     "metadata": {},
     "output_type": "display_data"
    }
   ],
   "source": [
    "sns.set_style(\"white\")\n",
    "plt.figure(figsize=(16, 8))\n",
    "proba_one_test = best_model.predict_proba(features_test)[:,1]\n",
    "fpr, tpr, thresholds = roc_curve(target_test, proba_one_test)\n",
    "plt.plot(fpr, tpr)\n",
    "plt.xlim([0.0, 1.0])\n",
    "plt.ylim([0.0, 1.0])\n",
    "plt.xlabel('False Positive Rate')\n",
    "plt.ylabel('True Positive Rate')\n",
    "plt.title('ROC-кривая')\n",
    "plt.plot([0, 1], [0, 1], linestyle='--')\n",
    "plt.legend(['Случайный лес при увеличении выборки','Случайная модель'], loc= 'upper left') \n",
    "plt.show() "
   ]
  },
  {
   "cell_type": "code",
   "execution_count": 91,
   "metadata": {},
   "outputs": [
    {
     "name": "stdout",
     "output_type": "stream",
     "text": [
      "ROC-AUC для модели случайного леса на тестовой выборке = 0.8441\n"
     ]
    }
   ],
   "source": [
    "roc_auc_best_model = roc_auc_score(target_test, best_model.predict_proba(features_test)[:, 1])\n",
    "print('ROC-AUC для модели случайного леса на тестовой выборке = {:.4f}'.format(roc_auc_best_model))"
   ]
  },
  {
   "cell_type": "markdown",
   "metadata": {},
   "source": [
    "ROC-AUC для модели случайного леса на тестовой выборке = 0.8441"
   ]
  },
  {
   "cell_type": "markdown",
   "metadata": {},
   "source": [
    "Значение ROC-AUC находится на достаточно высоком уровене (0.8441) и показывает, что модель прогнозировала не случайно и в большинстве случаев отвечала верно. Это собственно и прослеживается на графике. Следующим шагом построим матрицу ошибок и выполним оценку точности и полноты."
   ]
  },
  {
   "cell_type": "code",
   "execution_count": 92,
   "metadata": {
    "scrolled": false
   },
   "outputs": [
    {
     "data": {
      "image/png": "[encoded data removed]",
      "text/plain": [
       "<Figure size 720x576 with 1 Axes>"
      ]
     },
     "metadata": {},
     "output_type": "display_data"
    }
   ],
   "source": [
    "plt.figure(figsize=(10, 8))\n",
    "sns.heatmap(confusion_matrix(target_test, prediction), annot=True, fmt='3.0f', cmap='YlGnBu', cbar=False)\n",
    "plt.title('Матрица ошибок', y=1.05, size=15)\n",
    "plt.show()"
   ]
  },
  {
   "cell_type": "code",
   "execution_count": 93,
   "metadata": {},
   "outputs": [
    {
     "name": "stdout",
     "output_type": "stream",
     "text": [
      "Точность (Рrecision)= 0.5483, Полнота (Recall) = 0.6572\n"
     ]
    }
   ],
   "source": [
    "precision = precision_score(target_test, prediction)\n",
    "recall = recall_score(target_test, prediction)\n",
    "print('Точность (Рrecision)= {:.4f}, Полнота (Recall) = {:.4f}'.format(precision, recall))"
   ]
  },
  {
   "cell_type": "markdown",
   "metadata": {},
   "source": [
    "Построим график для понимания важности факторов"
   ]
  },
  {
   "cell_type": "code",
   "execution_count": 94,
   "metadata": {},
   "outputs": [
    {
     "data": {
      "image/png": "[encoded data removed]",
      "text/plain": [
       "<Figure size 864x432 with 1 Axes>"
      ]
     },
     "metadata": {},
     "output_type": "display_data"
    }
   ],
   "source": [
    "feature_importance = best_model.feature_importances_\n",
    "sorted_idx = np.argsort(feature_importance)\n",
    "pos = np.arange(sorted_idx.shape[0])\n",
    "fig = plt.figure(figsize=(12, 6))\n",
    "plt.barh(pos, feature_importance[sorted_idx])\n",
    "plt.yticks(pos, np.array(features.columns)[sorted_idx])\n",
    "plt.title(\"Feature Importance \")\n",
    "plt.show()"
   ]
  },
  {
   "cell_type": "code",
   "execution_count": null,
   "metadata": {
    "scrolled": true
   },
   "outputs": [],
   "source": [
    "precision = precision_score(target_test, prediction)\n",
    "recall = recall_score(target_test, prediction)\n",
    "print('Точность (Рrecision)= {:.4f}, Полнота (Recall) = {:.4f}'.format(precision, recall))"
   ]
  },
  {
   "cell_type": "markdown",
   "metadata": {},
   "source": [
    "Анализируя матрицу ошибок и значение точности и полноты можно придти к выводу, что модель лучше оценивает клиентов, которые покидают банк, чем клиентов, которые остаются."
   ]
  },
  {
   "cell_type": "markdown",
   "metadata": {},
   "source": [
    "## Общий вывод"
   ]
  },
  {
   "cell_type": "markdown",
   "metadata": {},
   "source": [
    "1) По результатам исследования задачи можно сделать были установлены признаки, котоыре не влияют на факт ухода клиента из банка. Темне-менее часть признаков оставлена, так как не исключается возможность, что в совокупности с другими признаками эти признаки могут повлиять на итоговое решение.\n",
    "\n",
    "2) Учитывая, что в выборке присутстовал сильный дисбаланс (80/ 20) результаты тестирования моделей не дали должного уровня F1 меры (по условиям задачи не менее 0.59)\n",
    "\n",
    "3) Были рассмотрено несколько методов борьбы с дисбалансом, лушчими оказались метод взвешивания классов и увеличение размера обучающей выборки.\n",
    "\n",
    "4) По результатам тестирования моделей установлено, что случайный лес дает результат намного выше, чем логистическая регрессия.\n",
    "\n",
    "5) Наибольшее значение F1 меры и ROC-AUC на валидационной выборке показла модель случайного леса с взаешиванием классов. После чего был проверен оптимальный порог классификации и установлено, что для лучшией модели порог по умолчанию и явялется оптимальным при максимизации F1 меры\n",
    "\n",
    "6) Лучшая найденная модель на валидационной выборке была проверена на тестовой и показала значение F1 меры на уровне 0.5978. В целом показатель ROC-AUC у моделей находится на довольно не плохом уровне и показывает, что модель прогнозировали не случайно и в большинстве случаев отвечали верно. \n",
    "\n",
    "7) Дополнительно проанализирована матрица ошибок и значение точности и полноты. было установлено, что модель лучше оценивает клиентов котоыре покидают банк, чем клиентов, котоыре остаются (Точность = 0.5483, Полнота = 0.6572).\n",
    "\n",
    "8) Также проведена оценка важности признаков - тройка лидеров это возраст, количество проудктов и баланс. Тройка наименее значимых факторов проживание в Испании, наличие кредитной карты и мужской пол.\n"
   ]
  },
  {
   "cell_type": "markdown",
   "metadata": {},
   "source": [
    "## Чек-лист готовности проекта"
   ]
  },
  {
   "cell_type": "markdown",
   "metadata": {},
   "source": [
    "Поставьте 'x' в выполненных пунктах. Далее нажмите Shift+Enter."
   ]
  },
  {
   "cell_type": "markdown",
   "metadata": {},
   "source": [
    "- [x]  Jupyter Notebook открыт\n",
    "- [x]  Весь код выполняется без ошибок\n",
    "- [x]  Ячейки с кодом расположены в порядке исполнения\n",
    "- [x]  Выполнен шаг 1: данные подготовлены\n",
    "- [x]  Выполнен шаг 2: задача исследована\n",
    "    - [x]  Исследован баланс классов\n",
    "    - [x]  Изучены модели без учёта дисбаланса\n",
    "    - [x]  Написаны выводы по результатам исследования\n",
    "- [x]  Выполнен шаг 3: учтён дисбаланс\n",
    "    - [x]  Применено несколько способов борьбы с дисбалансом\n",
    "    - [x]  Написаны выводы по результатам исследования\n",
    "- [x]  Выполнен шаг 4: проведено тестирование\n",
    "- [x]  Удалось достичь *F1*-меры не менее 0.59\n",
    "- [x]  Исследована метрика *AUC-ROC*"
   ]
  }
 ],
 "metadata": {
  "ExecuteTimeLog": [
   {
    "duration": 3682,
    "start_time": "2023-08-07T08:18:51.677Z"
   },
   {
    "duration": 5,
    "start_time": "2023-08-07T08:19:17.223Z"
   },
   {
    "duration": 185,
    "start_time": "2023-08-07T08:19:41.439Z"
   },
   {
    "duration": 35,
    "start_time": "2023-08-07T08:20:01.047Z"
   },
   {
    "duration": 30,
    "start_time": "2023-08-07T08:22:10.336Z"
   },
   {
    "duration": 7,
    "start_time": "2023-08-07T08:23:06.680Z"
   },
   {
    "duration": 13,
    "start_time": "2023-08-07T08:25:16.280Z"
   },
   {
    "duration": 5,
    "start_time": "2023-08-07T08:25:58.087Z"
   },
   {
    "duration": 16,
    "start_time": "2023-08-07T08:26:08.395Z"
   },
   {
    "duration": 90,
    "start_time": "2023-08-07T08:26:15.488Z"
   },
   {
    "duration": 11,
    "start_time": "2023-08-07T08:27:29.085Z"
   },
   {
    "duration": 16,
    "start_time": "2023-08-07T08:29:17.719Z"
   },
   {
    "duration": 10,
    "start_time": "2023-08-07T08:31:43.677Z"
   },
   {
    "duration": 11,
    "start_time": "2023-08-07T08:32:27.616Z"
   },
   {
    "duration": 10,
    "start_time": "2023-08-07T08:33:32.786Z"
   },
   {
    "duration": 10,
    "start_time": "2023-08-07T08:34:09.486Z"
   },
   {
    "duration": 2369,
    "start_time": "2023-08-07T08:35:14.927Z"
   },
   {
    "duration": 2366,
    "start_time": "2023-08-07T08:38:21.693Z"
   },
   {
    "duration": 1513,
    "start_time": "2023-08-07T08:40:14.981Z"
   },
   {
    "duration": 2475,
    "start_time": "2023-08-07T08:42:10.209Z"
   },
   {
    "duration": 926,
    "start_time": "2023-08-07T08:46:23.465Z"
   },
   {
    "duration": 12,
    "start_time": "2023-08-07T08:51:05.523Z"
   },
   {
    "duration": 1928,
    "start_time": "2023-08-07T08:52:09.209Z"
   },
   {
    "duration": 3,
    "start_time": "2023-08-07T08:58:59.379Z"
   },
   {
    "duration": 5,
    "start_time": "2023-08-07T08:59:09.599Z"
   },
   {
    "duration": 19,
    "start_time": "2023-08-07T09:01:34.052Z"
   },
   {
    "duration": 17,
    "start_time": "2023-08-07T09:01:46.000Z"
   },
   {
    "duration": 7,
    "start_time": "2023-08-07T09:02:31.357Z"
   },
   {
    "duration": 7,
    "start_time": "2023-08-07T09:02:37.078Z"
   },
   {
    "duration": 7,
    "start_time": "2023-08-07T09:03:30.488Z"
   },
   {
    "duration": 5,
    "start_time": "2023-08-07T09:03:41.977Z"
   },
   {
    "duration": 51,
    "start_time": "2023-08-07T09:17:48.836Z"
   },
   {
    "duration": 5,
    "start_time": "2023-08-07T09:19:26.016Z"
   },
   {
    "duration": 72,
    "start_time": "2023-08-07T09:19:26.025Z"
   },
   {
    "duration": 65,
    "start_time": "2023-08-07T09:19:26.099Z"
   },
   {
    "duration": 20,
    "start_time": "2023-08-07T09:19:26.169Z"
   },
   {
    "duration": 7,
    "start_time": "2023-08-07T09:19:26.190Z"
   },
   {
    "duration": 19,
    "start_time": "2023-08-07T09:19:26.256Z"
   },
   {
    "duration": 5,
    "start_time": "2023-08-07T09:19:26.277Z"
   },
   {
    "duration": 79,
    "start_time": "2023-08-07T09:19:26.284Z"
   },
   {
    "duration": 100,
    "start_time": "2023-08-07T09:19:26.364Z"
   },
   {
    "duration": 9,
    "start_time": "2023-08-07T09:19:26.469Z"
   },
   {
    "duration": 24,
    "start_time": "2023-08-07T09:19:26.480Z"
   },
   {
    "duration": 67,
    "start_time": "2023-08-07T09:19:26.505Z"
   },
   {
    "duration": 8,
    "start_time": "2023-08-07T09:19:26.574Z"
   },
   {
    "duration": 81,
    "start_time": "2023-08-07T09:19:26.583Z"
   },
   {
    "duration": 13,
    "start_time": "2023-08-07T09:19:26.667Z"
   },
   {
    "duration": 1895,
    "start_time": "2023-08-07T09:19:26.682Z"
   },
   {
    "duration": 2007,
    "start_time": "2023-08-07T09:19:28.579Z"
   },
   {
    "duration": 1487,
    "start_time": "2023-08-07T09:19:30.588Z"
   },
   {
    "duration": 1883,
    "start_time": "2023-08-07T09:19:32.077Z"
   },
   {
    "duration": 813,
    "start_time": "2023-08-07T09:19:33.961Z"
   },
   {
    "duration": 9,
    "start_time": "2023-08-07T09:19:34.776Z"
   },
   {
    "duration": 1777,
    "start_time": "2023-08-07T09:19:34.787Z"
   },
   {
    "duration": 6,
    "start_time": "2023-08-07T09:19:36.571Z"
   },
   {
    "duration": 8,
    "start_time": "2023-08-07T09:19:36.579Z"
   },
   {
    "duration": 84,
    "start_time": "2023-08-07T09:19:36.588Z"
   },
   {
    "duration": 17,
    "start_time": "2023-08-07T09:19:36.674Z"
   },
   {
    "duration": 70,
    "start_time": "2023-08-07T09:19:36.692Z"
   },
   {
    "duration": 7,
    "start_time": "2023-08-07T09:19:36.771Z"
   },
   {
    "duration": 28,
    "start_time": "2023-08-07T09:19:36.780Z"
   },
   {
    "duration": 64,
    "start_time": "2023-08-07T09:19:49.199Z"
   },
   {
    "duration": 12,
    "start_time": "2023-08-07T09:23:24.147Z"
   },
   {
    "duration": 66,
    "start_time": "2023-08-07T09:23:38.125Z"
   },
   {
    "duration": 54,
    "start_time": "2023-08-07T09:23:40.622Z"
   },
   {
    "duration": 74,
    "start_time": "2023-08-07T09:23:54.089Z"
   },
   {
    "duration": 7,
    "start_time": "2023-08-07T09:24:00.595Z"
   },
   {
    "duration": 13,
    "start_time": "2023-08-07T09:24:02.244Z"
   },
   {
    "duration": 5,
    "start_time": "2023-08-07T09:24:04.093Z"
   },
   {
    "duration": 50,
    "start_time": "2023-08-07T09:24:06.751Z"
   },
   {
    "duration": 37,
    "start_time": "2023-08-07T09:28:18.654Z"
   },
   {
    "duration": 7,
    "start_time": "2023-08-07T09:28:28.551Z"
   },
   {
    "duration": 18,
    "start_time": "2023-08-07T09:28:32.653Z"
   },
   {
    "duration": 178,
    "start_time": "2023-08-07T09:29:54.211Z"
   },
   {
    "duration": 25,
    "start_time": "2023-08-07T09:30:03.603Z"
   },
   {
    "duration": 7805,
    "start_time": "2023-08-07T09:34:29.279Z"
   },
   {
    "duration": 28,
    "start_time": "2023-08-07T09:34:38.102Z"
   },
   {
    "duration": 2180,
    "start_time": "2023-08-07T09:34:42.433Z"
   },
   {
    "duration": 5,
    "start_time": "2023-08-07T09:34:44.615Z"
   },
   {
    "duration": 76,
    "start_time": "2023-08-07T09:34:44.622Z"
   },
   {
    "duration": 14,
    "start_time": "2023-08-07T09:34:44.700Z"
   },
   {
    "duration": 28,
    "start_time": "2023-08-07T09:34:44.716Z"
   },
   {
    "duration": 11,
    "start_time": "2023-08-07T09:34:44.746Z"
   },
   {
    "duration": 21,
    "start_time": "2023-08-07T09:34:44.766Z"
   },
   {
    "duration": 16,
    "start_time": "2023-08-07T09:34:44.789Z"
   },
   {
    "duration": 30,
    "start_time": "2023-08-07T09:34:44.807Z"
   },
   {
    "duration": 41,
    "start_time": "2023-08-07T09:34:44.840Z"
   },
   {
    "duration": 6,
    "start_time": "2023-08-07T09:34:44.883Z"
   },
   {
    "duration": 17,
    "start_time": "2023-08-07T09:34:44.890Z"
   },
   {
    "duration": 13,
    "start_time": "2023-08-07T09:34:44.908Z"
   },
   {
    "duration": 7,
    "start_time": "2023-08-07T09:34:44.923Z"
   },
   {
    "duration": 27,
    "start_time": "2023-08-07T09:34:44.932Z"
   },
   {
    "duration": 15,
    "start_time": "2023-08-07T09:34:44.962Z"
   },
   {
    "duration": 837,
    "start_time": "2023-08-07T09:34:44.978Z"
   },
   {
    "duration": 799,
    "start_time": "2023-08-07T09:34:45.817Z"
   },
   {
    "duration": 768,
    "start_time": "2023-08-07T09:34:46.618Z"
   },
   {
    "duration": 886,
    "start_time": "2023-08-07T09:34:47.388Z"
   },
   {
    "duration": 351,
    "start_time": "2023-08-07T09:34:48.276Z"
   },
   {
    "duration": 10,
    "start_time": "2023-08-07T09:34:48.630Z"
   },
   {
    "duration": 1008,
    "start_time": "2023-08-07T09:34:48.641Z"
   },
   {
    "duration": 10,
    "start_time": "2023-08-07T09:34:49.651Z"
   },
   {
    "duration": 13,
    "start_time": "2023-08-07T09:34:49.664Z"
   },
   {
    "duration": 18,
    "start_time": "2023-08-07T09:34:49.679Z"
   },
   {
    "duration": 19,
    "start_time": "2023-08-07T09:34:49.698Z"
   },
   {
    "duration": 6,
    "start_time": "2023-08-07T09:34:49.720Z"
   },
   {
    "duration": 12,
    "start_time": "2023-08-07T09:34:49.727Z"
   },
   {
    "duration": 30,
    "start_time": "2023-08-07T09:34:49.740Z"
   },
   {
    "duration": 6,
    "start_time": "2023-08-07T09:34:49.773Z"
   },
   {
    "duration": 29,
    "start_time": "2023-08-07T09:34:49.780Z"
   },
   {
    "duration": 26,
    "start_time": "2023-08-07T09:36:55.881Z"
   },
   {
    "duration": 6976,
    "start_time": "2023-08-14T04:40:21.847Z"
   },
   {
    "duration": 1482,
    "start_time": "2023-08-14T04:40:28.825Z"
   },
   {
    "duration": 162,
    "start_time": "2023-08-14T04:40:30.309Z"
   },
   {
    "duration": 18,
    "start_time": "2023-08-14T04:40:30.473Z"
   },
   {
    "duration": 38,
    "start_time": "2023-08-14T04:40:30.492Z"
   },
   {
    "duration": 34,
    "start_time": "2023-08-14T04:40:30.532Z"
   },
   {
    "duration": 51,
    "start_time": "2023-08-14T04:40:30.568Z"
   },
   {
    "duration": 36,
    "start_time": "2023-08-14T04:40:30.621Z"
   },
   {
    "duration": 43,
    "start_time": "2023-08-14T04:40:30.658Z"
   },
   {
    "duration": 68,
    "start_time": "2023-08-14T04:40:30.704Z"
   },
   {
    "duration": 7,
    "start_time": "2023-08-14T04:40:30.774Z"
   },
   {
    "duration": 92,
    "start_time": "2023-08-14T04:40:30.782Z"
   },
   {
    "duration": 43,
    "start_time": "2023-08-14T04:40:30.876Z"
   },
   {
    "duration": 41,
    "start_time": "2023-08-14T04:40:30.921Z"
   },
   {
    "duration": 43,
    "start_time": "2023-08-14T04:40:30.963Z"
   },
   {
    "duration": 18,
    "start_time": "2023-08-14T04:40:31.007Z"
   },
   {
    "duration": 832,
    "start_time": "2023-08-14T04:40:31.027Z"
   },
   {
    "duration": 849,
    "start_time": "2023-08-14T04:40:31.861Z"
   },
   {
    "duration": 581,
    "start_time": "2023-08-14T04:40:32.712Z"
   },
   {
    "duration": 787,
    "start_time": "2023-08-14T04:40:33.295Z"
   },
   {
    "duration": 314,
    "start_time": "2023-08-14T04:40:34.085Z"
   },
   {
    "duration": 9,
    "start_time": "2023-08-14T04:40:34.400Z"
   },
   {
    "duration": 1006,
    "start_time": "2023-08-14T04:40:34.411Z"
   },
   {
    "duration": 3,
    "start_time": "2023-08-14T04:40:35.418Z"
   },
   {
    "duration": 14,
    "start_time": "2023-08-14T04:40:35.423Z"
   },
   {
    "duration": 13,
    "start_time": "2023-08-14T04:40:35.439Z"
   },
   {
    "duration": 11,
    "start_time": "2023-08-14T04:40:35.453Z"
   },
   {
    "duration": 13,
    "start_time": "2023-08-14T04:40:35.467Z"
   },
   {
    "duration": 5,
    "start_time": "2023-08-14T04:40:35.482Z"
   },
   {
    "duration": 6,
    "start_time": "2023-08-14T04:40:35.489Z"
   },
   {
    "duration": 5,
    "start_time": "2023-08-14T04:40:35.496Z"
   },
   {
    "duration": 27,
    "start_time": "2023-08-14T04:40:35.503Z"
   },
   {
    "duration": 40,
    "start_time": "2023-08-14T04:40:35.532Z"
   },
   {
    "duration": 59204,
    "start_time": "2023-08-14T04:53:49.790Z"
   },
   {
    "duration": 67377,
    "start_time": "2023-08-14T06:17:31.573Z"
   },
   {
    "duration": 66264,
    "start_time": "2023-08-14T06:20:59.661Z"
   },
   {
    "duration": 63557,
    "start_time": "2023-08-14T06:22:57.202Z"
   },
   {
    "duration": 11,
    "start_time": "2023-08-14T06:25:11.088Z"
   },
   {
    "duration": 6,
    "start_time": "2023-08-14T06:25:25.313Z"
   },
   {
    "duration": 7,
    "start_time": "2023-08-14T06:38:01.300Z"
   },
   {
    "duration": 139,
    "start_time": "2023-08-14T06:39:05.925Z"
   },
   {
    "duration": 2162,
    "start_time": "2023-08-14T06:42:09.362Z"
   },
   {
    "duration": 7,
    "start_time": "2023-08-14T06:42:11.527Z"
   },
   {
    "duration": 65,
    "start_time": "2023-08-14T06:42:11.536Z"
   },
   {
    "duration": 14,
    "start_time": "2023-08-14T06:42:11.604Z"
   },
   {
    "duration": 50,
    "start_time": "2023-08-14T06:42:11.620Z"
   },
   {
    "duration": 9,
    "start_time": "2023-08-14T06:42:11.673Z"
   },
   {
    "duration": 23,
    "start_time": "2023-08-14T06:42:11.684Z"
   },
   {
    "duration": 6,
    "start_time": "2023-08-14T06:42:11.709Z"
   },
   {
    "duration": 23,
    "start_time": "2023-08-14T06:42:11.717Z"
   },
   {
    "duration": 56,
    "start_time": "2023-08-14T06:42:11.743Z"
   },
   {
    "duration": 12,
    "start_time": "2023-08-14T06:42:11.800Z"
   },
   {
    "duration": 16,
    "start_time": "2023-08-14T06:42:11.814Z"
   },
   {
    "duration": 9,
    "start_time": "2023-08-14T06:42:11.831Z"
   },
   {
    "duration": 21,
    "start_time": "2023-08-14T06:42:11.841Z"
   },
   {
    "duration": 14,
    "start_time": "2023-08-14T06:42:11.866Z"
   },
   {
    "duration": 13,
    "start_time": "2023-08-14T06:42:11.882Z"
   },
   {
    "duration": 829,
    "start_time": "2023-08-14T06:42:11.897Z"
   },
   {
    "duration": 961,
    "start_time": "2023-08-14T06:42:12.728Z"
   },
   {
    "duration": 774,
    "start_time": "2023-08-14T06:42:13.692Z"
   },
   {
    "duration": 928,
    "start_time": "2023-08-14T06:42:14.468Z"
   },
   {
    "duration": 494,
    "start_time": "2023-08-14T06:42:15.398Z"
   },
   {
    "duration": 10,
    "start_time": "2023-08-14T06:42:15.893Z"
   },
   {
    "duration": 967,
    "start_time": "2023-08-14T06:42:15.905Z"
   },
   {
    "duration": 4,
    "start_time": "2023-08-14T06:42:16.874Z"
   },
   {
    "duration": 14,
    "start_time": "2023-08-14T06:42:16.880Z"
   },
   {
    "duration": 42,
    "start_time": "2023-08-14T06:42:16.897Z"
   },
   {
    "duration": 37,
    "start_time": "2023-08-14T06:42:16.942Z"
   },
   {
    "duration": 14,
    "start_time": "2023-08-14T06:42:16.982Z"
   },
   {
    "duration": 20,
    "start_time": "2023-08-14T06:42:16.998Z"
   },
   {
    "duration": 21,
    "start_time": "2023-08-14T06:42:17.019Z"
   },
   {
    "duration": 8,
    "start_time": "2023-08-14T06:42:17.042Z"
   },
   {
    "duration": 45,
    "start_time": "2023-08-14T06:42:17.052Z"
   },
   {
    "duration": 33,
    "start_time": "2023-08-14T06:42:17.099Z"
   },
   {
    "duration": 66187,
    "start_time": "2023-08-14T06:42:17.134Z"
   },
   {
    "duration": 7,
    "start_time": "2023-08-14T06:43:23.322Z"
   },
   {
    "duration": 757,
    "start_time": "2023-08-14T06:43:54.106Z"
   },
   {
    "duration": 6,
    "start_time": "2023-08-14T06:43:59.379Z"
   },
   {
    "duration": 1360,
    "start_time": "2023-08-14T06:44:02.202Z"
   },
   {
    "duration": 118,
    "start_time": "2023-08-14T06:53:23.533Z"
   },
   {
    "duration": 13,
    "start_time": "2023-08-14T06:55:48.342Z"
   },
   {
    "duration": 13,
    "start_time": "2023-08-14T06:57:36.481Z"
   },
   {
    "duration": 2257,
    "start_time": "2023-08-14T09:46:02.780Z"
   },
   {
    "duration": 6,
    "start_time": "2023-08-14T09:46:05.040Z"
   },
   {
    "duration": 65,
    "start_time": "2023-08-14T09:46:05.047Z"
   },
   {
    "duration": 14,
    "start_time": "2023-08-14T09:46:05.114Z"
   },
   {
    "duration": 61,
    "start_time": "2023-08-14T09:46:05.130Z"
   },
   {
    "duration": 165,
    "start_time": "2023-08-14T09:46:05.193Z"
   },
   {
    "duration": 50,
    "start_time": "2023-08-14T09:46:05.360Z"
   },
   {
    "duration": 8,
    "start_time": "2023-08-14T09:46:05.412Z"
   },
   {
    "duration": 18,
    "start_time": "2023-08-14T09:46:05.421Z"
   },
   {
    "duration": 66,
    "start_time": "2023-08-14T09:46:05.441Z"
   },
   {
    "duration": 9,
    "start_time": "2023-08-14T09:46:05.509Z"
   },
   {
    "duration": 22,
    "start_time": "2023-08-14T09:46:05.520Z"
   },
   {
    "duration": 40,
    "start_time": "2023-08-14T09:46:05.544Z"
   },
   {
    "duration": 27,
    "start_time": "2023-08-14T09:46:05.587Z"
   },
   {
    "duration": 35,
    "start_time": "2023-08-14T09:46:05.616Z"
   },
   {
    "duration": 42,
    "start_time": "2023-08-14T09:46:05.653Z"
   },
   {
    "duration": 995,
    "start_time": "2023-08-14T09:46:05.697Z"
   },
   {
    "duration": 811,
    "start_time": "2023-08-14T09:46:06.693Z"
   },
   {
    "duration": 636,
    "start_time": "2023-08-14T09:46:07.506Z"
   },
   {
    "duration": 993,
    "start_time": "2023-08-14T09:46:08.144Z"
   },
   {
    "duration": 323,
    "start_time": "2023-08-14T09:46:09.139Z"
   },
   {
    "duration": 10,
    "start_time": "2023-08-14T09:46:09.465Z"
   },
   {
    "duration": 894,
    "start_time": "2023-08-14T09:46:09.476Z"
   },
   {
    "duration": 4,
    "start_time": "2023-08-14T09:46:10.372Z"
   },
   {
    "duration": 17,
    "start_time": "2023-08-14T09:46:10.377Z"
   },
   {
    "duration": 37,
    "start_time": "2023-08-14T09:46:10.395Z"
   },
   {
    "duration": 23,
    "start_time": "2023-08-14T09:46:10.433Z"
   },
   {
    "duration": 38,
    "start_time": "2023-08-14T09:46:10.458Z"
   },
   {
    "duration": 14,
    "start_time": "2023-08-14T09:46:10.498Z"
   },
   {
    "duration": 26,
    "start_time": "2023-08-14T09:46:10.513Z"
   },
   {
    "duration": 46,
    "start_time": "2023-08-14T09:46:10.541Z"
   },
   {
    "duration": 44,
    "start_time": "2023-08-14T09:46:10.588Z"
   },
   {
    "duration": 25,
    "start_time": "2023-08-14T09:46:10.634Z"
   },
   {
    "duration": 63251,
    "start_time": "2023-08-14T09:46:10.661Z"
   },
   {
    "duration": 6,
    "start_time": "2023-08-14T09:47:13.914Z"
   },
   {
    "duration": 6,
    "start_time": "2023-08-14T09:47:18.576Z"
   },
   {
    "duration": 13,
    "start_time": "2023-08-14T09:47:22.123Z"
   },
   {
    "duration": 4982,
    "start_time": "2023-08-14T09:48:28.180Z"
   },
   {
    "duration": 62763,
    "start_time": "2023-08-14T09:52:46.358Z"
   },
   {
    "duration": 6,
    "start_time": "2023-08-14T09:53:49.123Z"
   },
   {
    "duration": 4628,
    "start_time": "2023-08-14T09:53:49.131Z"
   },
   {
    "duration": 5000,
    "start_time": "2023-08-14T09:54:47.971Z"
   },
   {
    "duration": 5009,
    "start_time": "2023-08-14T09:55:52.356Z"
   },
   {
    "duration": 5,
    "start_time": "2023-08-14T10:04:02.809Z"
   },
   {
    "duration": 4777,
    "start_time": "2023-08-14T10:04:15.884Z"
   },
   {
    "duration": 2185,
    "start_time": "2023-08-14T10:04:32.257Z"
   },
   {
    "duration": 7,
    "start_time": "2023-08-14T10:04:34.444Z"
   },
   {
    "duration": 88,
    "start_time": "2023-08-14T10:04:34.452Z"
   },
   {
    "duration": 15,
    "start_time": "2023-08-14T10:04:34.542Z"
   },
   {
    "duration": 23,
    "start_time": "2023-08-14T10:04:34.560Z"
   },
   {
    "duration": 7,
    "start_time": "2023-08-14T10:04:34.586Z"
   },
   {
    "duration": 15,
    "start_time": "2023-08-14T10:04:34.596Z"
   },
   {
    "duration": 5,
    "start_time": "2023-08-14T10:04:34.613Z"
   },
   {
    "duration": 24,
    "start_time": "2023-08-14T10:04:34.620Z"
   },
   {
    "duration": 39,
    "start_time": "2023-08-14T10:04:34.660Z"
   },
   {
    "duration": 7,
    "start_time": "2023-08-14T10:04:34.701Z"
   },
   {
    "duration": 12,
    "start_time": "2023-08-14T10:04:34.709Z"
   },
   {
    "duration": 36,
    "start_time": "2023-08-14T10:04:34.723Z"
   },
   {
    "duration": 9,
    "start_time": "2023-08-14T10:04:34.762Z"
   },
   {
    "duration": 8,
    "start_time": "2023-08-14T10:04:34.773Z"
   },
   {
    "duration": 8,
    "start_time": "2023-08-14T10:04:34.783Z"
   },
   {
    "duration": 980,
    "start_time": "2023-08-14T10:04:34.792Z"
   },
   {
    "duration": 763,
    "start_time": "2023-08-14T10:04:35.773Z"
   },
   {
    "duration": 607,
    "start_time": "2023-08-14T10:04:36.537Z"
   },
   {
    "duration": 970,
    "start_time": "2023-08-14T10:04:37.147Z"
   },
   {
    "duration": 310,
    "start_time": "2023-08-14T10:04:38.119Z"
   },
   {
    "duration": 8,
    "start_time": "2023-08-14T10:04:38.432Z"
   },
   {
    "duration": 891,
    "start_time": "2023-08-14T10:04:38.442Z"
   },
   {
    "duration": 3,
    "start_time": "2023-08-14T10:04:39.335Z"
   },
   {
    "duration": 9,
    "start_time": "2023-08-14T10:04:39.340Z"
   },
   {
    "duration": 12,
    "start_time": "2023-08-14T10:04:39.359Z"
   },
   {
    "duration": 14,
    "start_time": "2023-08-14T10:04:39.373Z"
   },
   {
    "duration": 15,
    "start_time": "2023-08-14T10:04:39.389Z"
   },
   {
    "duration": 15,
    "start_time": "2023-08-14T10:04:39.406Z"
   },
   {
    "duration": 21,
    "start_time": "2023-08-14T10:04:39.422Z"
   },
   {
    "duration": 21,
    "start_time": "2023-08-14T10:04:39.445Z"
   },
   {
    "duration": 29,
    "start_time": "2023-08-14T10:04:39.467Z"
   },
   {
    "duration": 27,
    "start_time": "2023-08-14T10:04:39.498Z"
   },
   {
    "duration": 62314,
    "start_time": "2023-08-14T10:04:39.526Z"
   },
   {
    "duration": 5,
    "start_time": "2023-08-14T10:05:41.842Z"
   },
   {
    "duration": 5002,
    "start_time": "2023-08-14T10:05:41.858Z"
   },
   {
    "duration": 5434,
    "start_time": "2023-08-14T10:07:17.032Z"
   },
   {
    "duration": 5809,
    "start_time": "2023-08-14T10:11:08.559Z"
   },
   {
    "duration": 4618,
    "start_time": "2023-08-14T10:13:00.542Z"
   },
   {
    "duration": 8,
    "start_time": "2023-08-14T10:14:52.758Z"
   },
   {
    "duration": 16,
    "start_time": "2023-08-14T10:16:13.777Z"
   },
   {
    "duration": 63795,
    "start_time": "2023-08-14T10:16:31.622Z"
   },
   {
    "duration": 5041,
    "start_time": "2023-08-14T10:17:35.419Z"
   },
   {
    "duration": 15,
    "start_time": "2023-08-14T10:34:04.697Z"
   },
   {
    "duration": 5628,
    "start_time": "2023-08-14T10:34:21.738Z"
   },
   {
    "duration": 10,
    "start_time": "2023-08-14T10:35:16.187Z"
   },
   {
    "duration": 63080,
    "start_time": "2023-08-14T10:51:34.379Z"
   },
   {
    "duration": 6,
    "start_time": "2023-08-14T10:52:37.461Z"
   },
   {
    "duration": 13,
    "start_time": "2023-08-14T10:52:51.326Z"
   },
   {
    "duration": 7410,
    "start_time": "2023-08-14T14:45:10.598Z"
   },
   {
    "duration": 1602,
    "start_time": "2023-08-14T14:45:18.011Z"
   },
   {
    "duration": 84,
    "start_time": "2023-08-14T14:45:19.615Z"
   },
   {
    "duration": 18,
    "start_time": "2023-08-14T14:45:19.701Z"
   },
   {
    "duration": 23,
    "start_time": "2023-08-14T14:45:19.722Z"
   },
   {
    "duration": 8,
    "start_time": "2023-08-14T14:45:19.747Z"
   },
   {
    "duration": 37,
    "start_time": "2023-08-14T14:45:19.757Z"
   },
   {
    "duration": 6,
    "start_time": "2023-08-14T14:45:19.796Z"
   },
   {
    "duration": 35,
    "start_time": "2023-08-14T14:45:19.804Z"
   },
   {
    "duration": 69,
    "start_time": "2023-08-14T14:45:19.842Z"
   },
   {
    "duration": 9,
    "start_time": "2023-08-14T14:45:19.914Z"
   },
   {
    "duration": 29,
    "start_time": "2023-08-14T14:45:19.925Z"
   },
   {
    "duration": 23,
    "start_time": "2023-08-14T14:45:19.956Z"
   },
   {
    "duration": 15,
    "start_time": "2023-08-14T14:45:19.982Z"
   },
   {
    "duration": 10,
    "start_time": "2023-08-14T14:45:20.000Z"
   },
   {
    "duration": 19,
    "start_time": "2023-08-14T14:45:20.012Z"
   },
   {
    "duration": 922,
    "start_time": "2023-08-14T14:45:20.033Z"
   },
   {
    "duration": 842,
    "start_time": "2023-08-14T14:45:20.958Z"
   },
   {
    "duration": 626,
    "start_time": "2023-08-14T14:45:21.802Z"
   },
   {
    "duration": 883,
    "start_time": "2023-08-14T14:45:22.430Z"
   },
   {
    "duration": 322,
    "start_time": "2023-08-14T14:45:23.315Z"
   },
   {
    "duration": 9,
    "start_time": "2023-08-14T14:45:23.639Z"
   },
   {
    "duration": 1142,
    "start_time": "2023-08-14T14:45:23.649Z"
   },
   {
    "duration": 3,
    "start_time": "2023-08-14T14:45:24.793Z"
   },
   {
    "duration": 23,
    "start_time": "2023-08-14T14:45:24.798Z"
   },
   {
    "duration": 30,
    "start_time": "2023-08-14T14:45:24.823Z"
   },
   {
    "duration": 43,
    "start_time": "2023-08-14T14:45:24.854Z"
   },
   {
    "duration": 28,
    "start_time": "2023-08-14T14:45:24.899Z"
   },
   {
    "duration": 21,
    "start_time": "2023-08-14T14:45:24.929Z"
   },
   {
    "duration": 38,
    "start_time": "2023-08-14T14:45:24.952Z"
   },
   {
    "duration": 21,
    "start_time": "2023-08-14T14:45:24.992Z"
   },
   {
    "duration": 39,
    "start_time": "2023-08-14T14:45:25.015Z"
   },
   {
    "duration": 32,
    "start_time": "2023-08-14T14:45:25.056Z"
   },
   {
    "duration": 66012,
    "start_time": "2023-08-14T14:45:25.090Z"
   },
   {
    "duration": 6,
    "start_time": "2023-08-14T14:46:31.103Z"
   },
   {
    "duration": 166,
    "start_time": "2023-08-14T14:46:31.111Z"
   },
   {
    "duration": 0,
    "start_time": "2023-08-14T14:46:31.279Z"
   },
   {
    "duration": 68,
    "start_time": "2023-08-14T14:47:41.729Z"
   },
   {
    "duration": 32,
    "start_time": "2023-08-14T14:48:38.866Z"
   },
   {
    "duration": 10,
    "start_time": "2023-08-14T14:49:01.608Z"
   },
   {
    "duration": 62973,
    "start_time": "2023-08-14T14:49:11.605Z"
   },
   {
    "duration": 5,
    "start_time": "2023-08-14T14:50:14.580Z"
   },
   {
    "duration": 103,
    "start_time": "2023-08-14T14:50:14.594Z"
   },
   {
    "duration": 6,
    "start_time": "2023-08-14T14:50:22.596Z"
   },
   {
    "duration": 92,
    "start_time": "2023-08-14T14:50:32.405Z"
   },
   {
    "duration": 6117,
    "start_time": "2023-08-14T15:00:02.680Z"
   },
   {
    "duration": 10,
    "start_time": "2023-08-14T15:00:18.064Z"
   },
   {
    "duration": 12,
    "start_time": "2023-08-14T15:14:22.101Z"
   },
   {
    "duration": 12,
    "start_time": "2023-08-14T15:14:43.276Z"
   },
   {
    "duration": 11,
    "start_time": "2023-08-14T15:22:33.523Z"
   },
   {
    "duration": 63,
    "start_time": "2023-08-14T15:23:00.934Z"
   },
   {
    "duration": 12,
    "start_time": "2023-08-14T15:23:36.890Z"
   },
   {
    "duration": 19,
    "start_time": "2023-08-14T15:23:46.380Z"
   },
   {
    "duration": 59,
    "start_time": "2023-08-14T15:24:19.171Z"
   },
   {
    "duration": 10,
    "start_time": "2023-08-14T15:24:28.439Z"
   },
   {
    "duration": 6550,
    "start_time": "2023-08-14T15:25:25.948Z"
   },
   {
    "duration": 6789,
    "start_time": "2023-08-14T15:28:49.816Z"
   },
   {
    "duration": 138,
    "start_time": "2023-08-14T15:32:53.073Z"
   },
   {
    "duration": 9,
    "start_time": "2023-08-14T15:33:22.911Z"
   },
   {
    "duration": 78,
    "start_time": "2023-08-14T15:34:37.787Z"
   },
   {
    "duration": 170,
    "start_time": "2023-08-14T15:35:08.875Z"
   },
   {
    "duration": 141,
    "start_time": "2023-08-14T15:35:41.791Z"
   },
   {
    "duration": 10,
    "start_time": "2023-08-14T15:36:00.871Z"
   },
   {
    "duration": 9,
    "start_time": "2023-08-14T15:37:02.063Z"
   },
   {
    "duration": 53,
    "start_time": "2023-08-14T15:41:23.133Z"
   },
   {
    "duration": 8,
    "start_time": "2023-08-14T15:41:32.972Z"
   },
   {
    "duration": 5,
    "start_time": "2023-08-14T15:41:51.012Z"
   },
   {
    "duration": 15,
    "start_time": "2023-08-14T15:42:18.810Z"
   },
   {
    "duration": 4,
    "start_time": "2023-08-14T15:43:11.113Z"
   },
   {
    "duration": 5,
    "start_time": "2023-08-14T15:43:19.231Z"
   },
   {
    "duration": 4260,
    "start_time": "2023-08-14T15:50:31.145Z"
   },
   {
    "duration": 12,
    "start_time": "2023-08-14T15:52:00.982Z"
   },
   {
    "duration": 4269,
    "start_time": "2023-08-14T15:52:24.530Z"
   },
   {
    "duration": 107,
    "start_time": "2023-08-14T15:54:07.280Z"
   },
   {
    "duration": 93,
    "start_time": "2023-08-14T15:54:44.108Z"
   },
   {
    "duration": 91,
    "start_time": "2023-08-14T15:55:09.954Z"
   },
   {
    "duration": 91,
    "start_time": "2023-08-14T15:55:20.298Z"
   },
   {
    "duration": 100,
    "start_time": "2023-08-14T15:55:34.569Z"
   },
   {
    "duration": 101,
    "start_time": "2023-08-14T15:55:41.520Z"
   },
   {
    "duration": 106,
    "start_time": "2023-08-14T15:56:05.189Z"
   },
   {
    "duration": 101,
    "start_time": "2023-08-14T15:57:09.153Z"
   },
   {
    "duration": 107,
    "start_time": "2023-08-14T15:57:24.517Z"
   },
   {
    "duration": 97,
    "start_time": "2023-08-14T15:57:40.098Z"
   },
   {
    "duration": 142,
    "start_time": "2023-08-14T15:58:48.889Z"
   },
   {
    "duration": 101,
    "start_time": "2023-08-14T15:59:08.128Z"
   },
   {
    "duration": 106,
    "start_time": "2023-08-14T16:00:55.266Z"
   },
   {
    "duration": 99,
    "start_time": "2023-08-14T16:02:46.774Z"
   },
   {
    "duration": 9,
    "start_time": "2023-08-14T16:03:43.196Z"
   },
   {
    "duration": 98,
    "start_time": "2023-08-14T16:03:58.858Z"
   },
   {
    "duration": 4564,
    "start_time": "2023-08-14T16:04:13.538Z"
   },
   {
    "duration": 96,
    "start_time": "2023-08-14T16:04:18.105Z"
   },
   {
    "duration": 5,
    "start_time": "2023-08-14T16:07:49.536Z"
   },
   {
    "duration": 9,
    "start_time": "2023-08-14T16:07:58.977Z"
   },
   {
    "duration": 4,
    "start_time": "2023-08-14T16:08:06.704Z"
   },
   {
    "duration": 7,
    "start_time": "2023-08-14T16:08:13.055Z"
   },
   {
    "duration": 14,
    "start_time": "2023-08-14T16:12:17.375Z"
   },
   {
    "duration": 39,
    "start_time": "2023-08-14T16:12:38.357Z"
   },
   {
    "duration": 4300,
    "start_time": "2023-08-14T16:13:20.597Z"
   },
   {
    "duration": 4151,
    "start_time": "2023-08-14T16:13:51.448Z"
   },
   {
    "duration": 4109,
    "start_time": "2023-08-14T16:14:14.187Z"
   },
   {
    "duration": 11,
    "start_time": "2023-08-14T16:18:57.962Z"
   },
   {
    "duration": 38024,
    "start_time": "2023-08-14T16:20:10.408Z"
   },
   {
    "duration": 36808,
    "start_time": "2023-08-14T16:21:07.855Z"
   },
   {
    "duration": 8,
    "start_time": "2023-08-14T16:21:44.665Z"
   },
   {
    "duration": 4,
    "start_time": "2023-08-14T16:23:34.005Z"
   },
   {
    "duration": 10,
    "start_time": "2023-08-14T16:23:42.983Z"
   },
   {
    "duration": 4,
    "start_time": "2023-08-14T16:23:50.175Z"
   },
   {
    "duration": 7,
    "start_time": "2023-08-14T16:24:01.744Z"
   },
   {
    "duration": 5793,
    "start_time": "2023-08-14T16:26:34.815Z"
   },
   {
    "duration": 38022,
    "start_time": "2023-08-14T16:28:03.996Z"
   },
   {
    "duration": 8,
    "start_time": "2023-08-14T16:28:42.021Z"
   },
   {
    "duration": 11,
    "start_time": "2023-08-14T16:30:48.107Z"
   },
   {
    "duration": 36388,
    "start_time": "2023-08-14T16:34:36.167Z"
   },
   {
    "duration": 37640,
    "start_time": "2023-08-14T16:35:56.967Z"
   },
   {
    "duration": 37990,
    "start_time": "2023-08-14T16:37:22.959Z"
   },
   {
    "duration": 13,
    "start_time": "2023-08-14T16:38:10.415Z"
   },
   {
    "duration": 10,
    "start_time": "2023-08-14T16:38:17.775Z"
   },
   {
    "duration": 63753,
    "start_time": "2023-08-14T16:39:41.195Z"
   },
   {
    "duration": 9,
    "start_time": "2023-08-14T16:40:50.884Z"
   },
   {
    "duration": 62412,
    "start_time": "2023-08-14T16:42:07.446Z"
   },
   {
    "duration": 9,
    "start_time": "2023-08-14T16:43:20.321Z"
   },
   {
    "duration": 13,
    "start_time": "2023-08-14T16:43:35.346Z"
   },
   {
    "duration": 7247,
    "start_time": "2023-08-14T16:47:01.949Z"
   },
   {
    "duration": 10,
    "start_time": "2023-08-14T16:47:16.813Z"
   },
   {
    "duration": 4431,
    "start_time": "2023-08-14T16:48:39.365Z"
   },
   {
    "duration": 10,
    "start_time": "2023-08-14T16:48:50.643Z"
   },
   {
    "duration": 10,
    "start_time": "2023-08-14T16:49:43.570Z"
   },
   {
    "duration": 10,
    "start_time": "2023-08-14T16:49:46.803Z"
   },
   {
    "duration": 10,
    "start_time": "2023-08-14T16:50:08.015Z"
   },
   {
    "duration": 12,
    "start_time": "2023-08-14T16:50:25.383Z"
   },
   {
    "duration": 9,
    "start_time": "2023-08-14T16:50:35.064Z"
   },
   {
    "duration": 9,
    "start_time": "2023-08-14T16:51:03.045Z"
   },
   {
    "duration": 6670,
    "start_time": "2023-08-14T16:52:07.226Z"
   },
   {
    "duration": 9,
    "start_time": "2023-08-14T16:52:16.324Z"
   },
   {
    "duration": 10,
    "start_time": "2023-08-14T16:52:26.113Z"
   },
   {
    "duration": 79532,
    "start_time": "2023-08-14T16:54:43.946Z"
   },
   {
    "duration": 9,
    "start_time": "2023-08-14T16:56:09.835Z"
   },
   {
    "duration": 10,
    "start_time": "2023-08-14T16:56:16.214Z"
   },
   {
    "duration": 79736,
    "start_time": "2023-08-14T16:56:41.355Z"
   },
   {
    "duration": 10,
    "start_time": "2023-08-14T16:58:01.094Z"
   },
   {
    "duration": 67,
    "start_time": "2023-08-14T16:58:01.106Z"
   },
   {
    "duration": 5,
    "start_time": "2023-08-14T17:01:07.525Z"
   },
   {
    "duration": 11,
    "start_time": "2023-08-14T17:01:51.333Z"
   },
   {
    "duration": 14,
    "start_time": "2023-08-14T17:04:08.294Z"
   },
   {
    "duration": 6639,
    "start_time": "2023-08-14T17:05:55.357Z"
   },
   {
    "duration": 9,
    "start_time": "2023-08-14T17:06:05.086Z"
   },
   {
    "duration": 80,
    "start_time": "2023-08-14T17:08:22.417Z"
   },
   {
    "duration": 4129,
    "start_time": "2023-08-14T17:08:36.566Z"
   },
   {
    "duration": 8,
    "start_time": "2023-08-14T17:08:41.056Z"
   },
   {
    "duration": 90,
    "start_time": "2023-08-14T17:09:53.307Z"
   },
   {
    "duration": 9,
    "start_time": "2023-08-14T17:09:57.396Z"
   },
   {
    "duration": 2992,
    "start_time": "2023-08-14T17:11:16.306Z"
   },
   {
    "duration": 3,
    "start_time": "2023-08-14T17:14:52.784Z"
   },
   {
    "duration": 22,
    "start_time": "2023-08-14T17:15:00.921Z"
   },
   {
    "duration": 75,
    "start_time": "2023-08-14T17:16:18.405Z"
   },
   {
    "duration": 269,
    "start_time": "2023-08-14T17:16:32.336Z"
   },
   {
    "duration": 226,
    "start_time": "2023-08-14T17:16:58.836Z"
   },
   {
    "duration": 29,
    "start_time": "2023-08-14T17:17:09.674Z"
   },
   {
    "duration": 59,
    "start_time": "2023-08-14T17:17:39.935Z"
   },
   {
    "duration": 198,
    "start_time": "2023-08-14T17:17:54.013Z"
   },
   {
    "duration": 9,
    "start_time": "2023-08-14T17:18:07.123Z"
   },
   {
    "duration": 172,
    "start_time": "2023-08-14T17:18:56.084Z"
   },
   {
    "duration": 92,
    "start_time": "2023-08-14T17:21:50.874Z"
   },
   {
    "duration": 9,
    "start_time": "2023-08-14T17:21:59.812Z"
   },
   {
    "duration": 91,
    "start_time": "2023-08-14T17:22:11.187Z"
   },
   {
    "duration": 63470,
    "start_time": "2023-08-14T17:23:24.548Z"
   },
   {
    "duration": 6339,
    "start_time": "2023-08-14T17:24:34.067Z"
   },
   {
    "duration": 63927,
    "start_time": "2023-08-14T17:24:43.408Z"
   },
   {
    "duration": 5,
    "start_time": "2023-08-14T17:25:47.337Z"
   },
   {
    "duration": 3031,
    "start_time": "2023-08-14T17:27:00.764Z"
   },
   {
    "duration": 4,
    "start_time": "2023-08-14T17:29:35.443Z"
   },
   {
    "duration": 15,
    "start_time": "2023-08-14T17:29:38.134Z"
   },
   {
    "duration": 2,
    "start_time": "2023-08-14T17:30:52.083Z"
   },
   {
    "duration": 18,
    "start_time": "2023-08-14T17:30:54.789Z"
   },
   {
    "duration": 4688,
    "start_time": "2023-08-14T17:37:38.416Z"
   },
   {
    "duration": 4388,
    "start_time": "2023-08-14T17:38:06.708Z"
   },
   {
    "duration": 24,
    "start_time": "2023-08-14T17:42:16.388Z"
   },
   {
    "duration": 23,
    "start_time": "2023-08-14T17:43:19.688Z"
   },
   {
    "duration": 23,
    "start_time": "2023-08-14T17:44:37.228Z"
   },
   {
    "duration": 4785,
    "start_time": "2023-08-14T17:44:49.711Z"
   },
   {
    "duration": 5113,
    "start_time": "2023-08-14T17:45:12.984Z"
   },
   {
    "duration": 21,
    "start_time": "2023-08-14T17:45:24.525Z"
   },
   {
    "duration": 20,
    "start_time": "2023-08-14T17:47:28.215Z"
   },
   {
    "duration": 6553,
    "start_time": "2023-08-14T17:47:35.448Z"
   },
   {
    "duration": 6481,
    "start_time": "2023-08-14T17:47:45.415Z"
   },
   {
    "duration": 10064,
    "start_time": "2023-08-15T01:33:33.304Z"
   },
   {
    "duration": 1521,
    "start_time": "2023-08-15T01:33:43.370Z"
   },
   {
    "duration": 91,
    "start_time": "2023-08-15T01:33:44.893Z"
   },
   {
    "duration": 16,
    "start_time": "2023-08-15T01:33:44.985Z"
   },
   {
    "duration": 47,
    "start_time": "2023-08-15T01:33:45.003Z"
   },
   {
    "duration": 31,
    "start_time": "2023-08-15T01:33:45.052Z"
   },
   {
    "duration": 20,
    "start_time": "2023-08-15T01:33:45.085Z"
   },
   {
    "duration": 10,
    "start_time": "2023-08-15T01:33:45.106Z"
   },
   {
    "duration": 35,
    "start_time": "2023-08-15T01:33:45.117Z"
   },
   {
    "duration": 40,
    "start_time": "2023-08-15T01:33:45.155Z"
   },
   {
    "duration": 6,
    "start_time": "2023-08-15T01:33:45.197Z"
   },
   {
    "duration": 17,
    "start_time": "2023-08-15T01:33:45.205Z"
   },
   {
    "duration": 8,
    "start_time": "2023-08-15T01:33:45.224Z"
   },
   {
    "duration": 20,
    "start_time": "2023-08-15T01:33:45.233Z"
   },
   {
    "duration": 14,
    "start_time": "2023-08-15T01:33:45.255Z"
   },
   {
    "duration": 25,
    "start_time": "2023-08-15T01:33:45.271Z"
   },
   {
    "duration": 763,
    "start_time": "2023-08-15T01:33:45.297Z"
   },
   {
    "duration": 871,
    "start_time": "2023-08-15T01:33:46.062Z"
   },
   {
    "duration": 563,
    "start_time": "2023-08-15T01:33:46.934Z"
   },
   {
    "duration": 751,
    "start_time": "2023-08-15T01:33:47.499Z"
   },
   {
    "duration": 392,
    "start_time": "2023-08-15T01:33:48.252Z"
   },
   {
    "duration": 8,
    "start_time": "2023-08-15T01:33:48.646Z"
   },
   {
    "duration": 903,
    "start_time": "2023-08-15T01:33:48.656Z"
   },
   {
    "duration": 3,
    "start_time": "2023-08-15T01:33:49.560Z"
   },
   {
    "duration": 9,
    "start_time": "2023-08-15T01:33:49.565Z"
   },
   {
    "duration": 13,
    "start_time": "2023-08-15T01:33:49.575Z"
   },
   {
    "duration": 9,
    "start_time": "2023-08-15T01:33:49.590Z"
   },
   {
    "duration": 4,
    "start_time": "2023-08-15T01:33:49.603Z"
   },
   {
    "duration": 6,
    "start_time": "2023-08-15T01:33:49.609Z"
   },
   {
    "duration": 17,
    "start_time": "2023-08-15T01:33:49.617Z"
   },
   {
    "duration": 9,
    "start_time": "2023-08-15T01:33:49.636Z"
   },
   {
    "duration": 26,
    "start_time": "2023-08-15T01:33:49.647Z"
   },
   {
    "duration": 34,
    "start_time": "2023-08-15T01:33:49.675Z"
   },
   {
    "duration": 60542,
    "start_time": "2023-08-15T01:33:49.711Z"
   },
   {
    "duration": 6,
    "start_time": "2023-08-15T01:34:50.254Z"
   },
   {
    "duration": 5837,
    "start_time": "2023-08-15T01:34:50.261Z"
   },
   {
    "duration": 99,
    "start_time": "2023-08-15T01:34:56.100Z"
   },
   {
    "duration": 6596,
    "start_time": "2023-08-15T01:34:56.200Z"
   },
   {
    "duration": 229,
    "start_time": "2023-08-15T01:35:02.801Z"
   },
   {
    "duration": 0,
    "start_time": "2023-08-15T01:35:03.031Z"
   },
   {
    "duration": 0,
    "start_time": "2023-08-15T01:35:03.033Z"
   },
   {
    "duration": 0,
    "start_time": "2023-08-15T01:35:03.034Z"
   },
   {
    "duration": 0,
    "start_time": "2023-08-15T01:35:03.035Z"
   },
   {
    "duration": 0,
    "start_time": "2023-08-15T01:35:03.036Z"
   },
   {
    "duration": 0,
    "start_time": "2023-08-15T01:35:03.037Z"
   },
   {
    "duration": 0,
    "start_time": "2023-08-15T01:35:03.038Z"
   },
   {
    "duration": 0,
    "start_time": "2023-08-15T01:35:03.039Z"
   },
   {
    "duration": 0,
    "start_time": "2023-08-15T01:35:03.040Z"
   },
   {
    "duration": 0,
    "start_time": "2023-08-15T01:35:03.041Z"
   },
   {
    "duration": 0,
    "start_time": "2023-08-15T01:35:03.042Z"
   },
   {
    "duration": 0,
    "start_time": "2023-08-15T01:35:03.043Z"
   },
   {
    "duration": 0,
    "start_time": "2023-08-15T01:35:03.044Z"
   },
   {
    "duration": 0,
    "start_time": "2023-08-15T01:35:03.045Z"
   },
   {
    "duration": 0,
    "start_time": "2023-08-15T01:35:03.047Z"
   },
   {
    "duration": 0,
    "start_time": "2023-08-15T01:35:03.048Z"
   },
   {
    "duration": 0,
    "start_time": "2023-08-15T01:35:03.049Z"
   },
   {
    "duration": 0,
    "start_time": "2023-08-15T01:35:03.050Z"
   },
   {
    "duration": 0,
    "start_time": "2023-08-15T01:35:03.051Z"
   },
   {
    "duration": 0,
    "start_time": "2023-08-15T01:35:03.052Z"
   },
   {
    "duration": 0,
    "start_time": "2023-08-15T01:35:03.053Z"
   },
   {
    "duration": 0,
    "start_time": "2023-08-15T01:35:03.095Z"
   },
   {
    "duration": 0,
    "start_time": "2023-08-15T01:35:03.096Z"
   },
   {
    "duration": 0,
    "start_time": "2023-08-15T01:35:03.097Z"
   },
   {
    "duration": 0,
    "start_time": "2023-08-15T01:35:03.098Z"
   },
   {
    "duration": 0,
    "start_time": "2023-08-15T01:35:03.099Z"
   },
   {
    "duration": 0,
    "start_time": "2023-08-15T01:35:03.100Z"
   },
   {
    "duration": 0,
    "start_time": "2023-08-15T01:35:03.101Z"
   },
   {
    "duration": 0,
    "start_time": "2023-08-15T01:35:03.102Z"
   },
   {
    "duration": 1,
    "start_time": "2023-08-15T01:35:03.102Z"
   },
   {
    "duration": 12,
    "start_time": "2023-08-15T01:35:35.935Z"
   },
   {
    "duration": 2163,
    "start_time": "2023-08-15T01:36:06.756Z"
   },
   {
    "duration": 6,
    "start_time": "2023-08-15T01:36:08.921Z"
   },
   {
    "duration": 50,
    "start_time": "2023-08-15T01:36:08.928Z"
   },
   {
    "duration": 19,
    "start_time": "2023-08-15T01:36:08.981Z"
   },
   {
    "duration": 37,
    "start_time": "2023-08-15T01:36:09.002Z"
   },
   {
    "duration": 7,
    "start_time": "2023-08-15T01:36:09.041Z"
   },
   {
    "duration": 24,
    "start_time": "2023-08-15T01:36:09.050Z"
   },
   {
    "duration": 5,
    "start_time": "2023-08-15T01:36:09.075Z"
   },
   {
    "duration": 13,
    "start_time": "2023-08-15T01:36:09.082Z"
   },
   {
    "duration": 34,
    "start_time": "2023-08-15T01:36:09.098Z"
   },
   {
    "duration": 5,
    "start_time": "2023-08-15T01:36:09.134Z"
   },
   {
    "duration": 15,
    "start_time": "2023-08-15T01:36:09.140Z"
   },
   {
    "duration": 14,
    "start_time": "2023-08-15T01:36:09.156Z"
   },
   {
    "duration": 23,
    "start_time": "2023-08-15T01:36:09.172Z"
   },
   {
    "duration": 8,
    "start_time": "2023-08-15T01:36:09.196Z"
   },
   {
    "duration": 10,
    "start_time": "2023-08-15T01:36:09.205Z"
   },
   {
    "duration": 894,
    "start_time": "2023-08-15T01:36:09.217Z"
   },
   {
    "duration": 729,
    "start_time": "2023-08-15T01:36:10.113Z"
   },
   {
    "duration": 605,
    "start_time": "2023-08-15T01:36:10.844Z"
   },
   {
    "duration": 966,
    "start_time": "2023-08-15T01:36:11.451Z"
   },
   {
    "duration": 331,
    "start_time": "2023-08-15T01:36:12.419Z"
   },
   {
    "duration": 10,
    "start_time": "2023-08-15T01:36:12.752Z"
   },
   {
    "duration": 941,
    "start_time": "2023-08-15T01:36:12.764Z"
   },
   {
    "duration": 4,
    "start_time": "2023-08-15T01:36:13.707Z"
   },
   {
    "duration": 8,
    "start_time": "2023-08-15T01:36:13.712Z"
   },
   {
    "duration": 12,
    "start_time": "2023-08-15T01:36:13.722Z"
   },
   {
    "duration": 10,
    "start_time": "2023-08-15T01:36:13.736Z"
   },
   {
    "duration": 6,
    "start_time": "2023-08-15T01:36:13.749Z"
   },
   {
    "duration": 13,
    "start_time": "2023-08-15T01:36:13.756Z"
   },
   {
    "duration": 28,
    "start_time": "2023-08-15T01:36:13.770Z"
   },
   {
    "duration": 10,
    "start_time": "2023-08-15T01:36:13.799Z"
   },
   {
    "duration": 28,
    "start_time": "2023-08-15T01:36:13.811Z"
   },
   {
    "duration": 27,
    "start_time": "2023-08-15T01:36:13.841Z"
   },
   {
    "duration": 62060,
    "start_time": "2023-08-15T01:36:13.869Z"
   },
   {
    "duration": 8,
    "start_time": "2023-08-15T01:37:15.931Z"
   },
   {
    "duration": 5957,
    "start_time": "2023-08-15T01:37:15.940Z"
   },
   {
    "duration": 97,
    "start_time": "2023-08-15T01:37:21.899Z"
   },
   {
    "duration": 6800,
    "start_time": "2023-08-15T01:37:21.998Z"
   },
   {
    "duration": 5236,
    "start_time": "2023-08-15T01:40:31.162Z"
   },
   {
    "duration": 5793,
    "start_time": "2023-08-15T01:41:08.621Z"
   },
   {
    "duration": 58839,
    "start_time": "2023-08-15T01:41:45.606Z"
   },
   {
    "duration": 9,
    "start_time": "2023-08-15T01:49:03.204Z"
   },
   {
    "duration": 58101,
    "start_time": "2023-08-15T01:49:51.060Z"
   },
   {
    "duration": 12,
    "start_time": "2023-08-15T01:50:49.163Z"
   },
   {
    "duration": 9,
    "start_time": "2023-08-15T01:51:11.831Z"
   },
   {
    "duration": 8,
    "start_time": "2023-08-15T01:51:13.766Z"
   },
   {
    "duration": 3,
    "start_time": "2023-08-15T01:51:15.429Z"
   },
   {
    "duration": 6,
    "start_time": "2023-08-15T01:51:17.548Z"
   },
   {
    "duration": 4,
    "start_time": "2023-08-15T01:51:28.460Z"
   },
   {
    "duration": 8,
    "start_time": "2023-08-15T01:51:31.251Z"
   },
   {
    "duration": 4794,
    "start_time": "2023-08-15T01:51:58.709Z"
   },
   {
    "duration": 11,
    "start_time": "2023-08-15T01:57:34.368Z"
   },
   {
    "duration": 21,
    "start_time": "2023-08-15T01:57:46.487Z"
   },
   {
    "duration": 25,
    "start_time": "2023-08-15T01:58:13.908Z"
   },
   {
    "duration": 32173,
    "start_time": "2023-08-15T01:58:35.388Z"
   },
   {
    "duration": 34189,
    "start_time": "2023-08-15T02:01:36.028Z"
   },
   {
    "duration": 9,
    "start_time": "2023-08-15T02:02:10.219Z"
   },
   {
    "duration": 15,
    "start_time": "2023-08-15T02:02:10.230Z"
   },
   {
    "duration": 61,
    "start_time": "2023-08-15T02:02:10.247Z"
   },
   {
    "duration": 13,
    "start_time": "2023-08-15T02:02:10.310Z"
   },
   {
    "duration": 17,
    "start_time": "2023-08-15T02:02:10.325Z"
   },
   {
    "duration": 6540,
    "start_time": "2023-08-15T02:03:40.857Z"
   },
   {
    "duration": 6600,
    "start_time": "2023-08-15T02:04:21.801Z"
   },
   {
    "duration": 7282,
    "start_time": "2023-08-15T02:05:28.922Z"
   },
   {
    "duration": 6842,
    "start_time": "2023-08-15T02:07:35.052Z"
   },
   {
    "duration": 16,
    "start_time": "2023-08-15T02:07:46.747Z"
   },
   {
    "duration": 23,
    "start_time": "2023-08-15T02:10:44.699Z"
   },
   {
    "duration": 63696,
    "start_time": "2023-08-15T02:10:58.227Z"
   },
   {
    "duration": 17,
    "start_time": "2023-08-15T02:12:01.925Z"
   },
   {
    "duration": 24,
    "start_time": "2023-08-15T02:12:16.811Z"
   },
   {
    "duration": 20,
    "start_time": "2023-08-15T02:13:39.048Z"
   },
   {
    "duration": 6929,
    "start_time": "2023-08-15T02:13:48.767Z"
   },
   {
    "duration": 10,
    "start_time": "2023-08-15T02:14:02.023Z"
   },
   {
    "duration": 7271,
    "start_time": "2023-08-15T02:15:14.225Z"
   },
   {
    "duration": 6404,
    "start_time": "2023-08-15T02:15:30.492Z"
   },
   {
    "duration": 56991,
    "start_time": "2023-08-15T02:16:30.322Z"
   },
   {
    "duration": 11,
    "start_time": "2023-08-15T02:17:46.611Z"
   },
   {
    "duration": 11,
    "start_time": "2023-08-15T02:18:25.324Z"
   },
   {
    "duration": 9,
    "start_time": "2023-08-15T02:18:41.811Z"
   },
   {
    "duration": 9,
    "start_time": "2023-08-15T02:19:22.881Z"
   },
   {
    "duration": 9,
    "start_time": "2023-08-15T02:20:31.285Z"
   },
   {
    "duration": 4,
    "start_time": "2023-08-15T02:20:34.019Z"
   },
   {
    "duration": 10,
    "start_time": "2023-08-15T02:20:35.931Z"
   },
   {
    "duration": 3,
    "start_time": "2023-08-15T02:20:37.489Z"
   },
   {
    "duration": 7,
    "start_time": "2023-08-15T02:20:39.931Z"
   },
   {
    "duration": 5066,
    "start_time": "2023-08-15T02:21:50.431Z"
   },
   {
    "duration": 6066,
    "start_time": "2023-08-15T02:22:10.032Z"
   },
   {
    "duration": 5199,
    "start_time": "2023-08-15T02:22:34.198Z"
   },
   {
    "duration": 4038,
    "start_time": "2023-08-15T02:22:54.167Z"
   },
   {
    "duration": 4667,
    "start_time": "2023-08-15T02:23:45.132Z"
   },
   {
    "duration": 25,
    "start_time": "2023-08-15T02:26:04.650Z"
   },
   {
    "duration": 25,
    "start_time": "2023-08-15T02:26:26.050Z"
   },
   {
    "duration": 31891,
    "start_time": "2023-08-15T02:26:59.091Z"
   },
   {
    "duration": 8,
    "start_time": "2023-08-15T02:29:08.060Z"
   },
   {
    "duration": 4,
    "start_time": "2023-08-15T02:29:14.373Z"
   },
   {
    "duration": 11,
    "start_time": "2023-08-15T02:29:16.100Z"
   },
   {
    "duration": 3,
    "start_time": "2023-08-15T02:29:17.820Z"
   },
   {
    "duration": 7,
    "start_time": "2023-08-15T02:29:19.677Z"
   },
   {
    "duration": 7293,
    "start_time": "2023-08-15T02:30:24.405Z"
   },
   {
    "duration": 7396,
    "start_time": "2023-08-15T02:30:52.799Z"
   },
   {
    "duration": 12,
    "start_time": "2023-08-15T02:31:33.767Z"
   },
   {
    "duration": 169622,
    "start_time": "2023-08-15T02:34:08.480Z"
   },
   {
    "duration": 9,
    "start_time": "2023-08-15T02:36:58.104Z"
   },
   {
    "duration": 9,
    "start_time": "2023-08-15T02:45:35.679Z"
   },
   {
    "duration": 5,
    "start_time": "2023-08-15T02:46:15.735Z"
   },
   {
    "duration": 1207,
    "start_time": "2023-08-15T02:46:23.509Z"
   },
   {
    "duration": 1164,
    "start_time": "2023-08-15T02:48:21.544Z"
   },
   {
    "duration": 4,
    "start_time": "2023-08-15T02:48:23.942Z"
   },
   {
    "duration": 9,
    "start_time": "2023-08-15T02:50:11.459Z"
   },
   {
    "duration": 3,
    "start_time": "2023-08-15T02:50:13.148Z"
   },
   {
    "duration": 6,
    "start_time": "2023-08-15T02:50:14.691Z"
   },
   {
    "duration": 4060,
    "start_time": "2023-08-15T02:52:02.244Z"
   },
   {
    "duration": 4668,
    "start_time": "2023-08-15T02:52:28.228Z"
   },
   {
    "duration": 31652,
    "start_time": "2023-08-15T02:53:44.938Z"
   },
   {
    "duration": 10,
    "start_time": "2023-08-15T02:54:20.015Z"
   },
   {
    "duration": 5051,
    "start_time": "2023-08-15T02:54:45.543Z"
   },
   {
    "duration": 32245,
    "start_time": "2023-08-15T02:54:57.741Z"
   },
   {
    "duration": 8,
    "start_time": "2023-08-15T02:55:35.720Z"
   },
   {
    "duration": 3038,
    "start_time": "2023-08-15T02:55:44.167Z"
   },
   {
    "duration": 2,
    "start_time": "2023-08-15T02:57:29.940Z"
   },
   {
    "duration": 13,
    "start_time": "2023-08-15T02:57:32.456Z"
   },
   {
    "duration": 230,
    "start_time": "2023-08-15T02:57:58.106Z"
   },
   {
    "duration": 12,
    "start_time": "2023-08-15T02:58:01.123Z"
   },
   {
    "duration": 188,
    "start_time": "2023-08-15T02:58:06.162Z"
   },
   {
    "duration": 9,
    "start_time": "2023-08-15T02:58:09.258Z"
   },
   {
    "duration": 194,
    "start_time": "2023-08-15T02:58:12.362Z"
   },
   {
    "duration": 9,
    "start_time": "2023-08-15T02:58:25.834Z"
   },
   {
    "duration": 8115,
    "start_time": "2023-08-15T04:26:06.045Z"
   },
   {
    "duration": 2000,
    "start_time": "2023-08-15T04:26:14.163Z"
   },
   {
    "duration": 88,
    "start_time": "2023-08-15T04:26:16.166Z"
   },
   {
    "duration": 19,
    "start_time": "2023-08-15T04:26:16.257Z"
   },
   {
    "duration": 14,
    "start_time": "2023-08-15T04:26:16.278Z"
   },
   {
    "duration": 7,
    "start_time": "2023-08-15T04:26:16.294Z"
   },
   {
    "duration": 15,
    "start_time": "2023-08-15T04:26:16.303Z"
   },
   {
    "duration": 5,
    "start_time": "2023-08-15T04:26:16.320Z"
   },
   {
    "duration": 48,
    "start_time": "2023-08-15T04:26:16.326Z"
   },
   {
    "duration": 41,
    "start_time": "2023-08-15T04:26:16.377Z"
   },
   {
    "duration": 8,
    "start_time": "2023-08-15T04:26:16.420Z"
   },
   {
    "duration": 33,
    "start_time": "2023-08-15T04:26:16.429Z"
   },
   {
    "duration": 9,
    "start_time": "2023-08-15T04:26:16.464Z"
   },
   {
    "duration": 9,
    "start_time": "2023-08-15T04:26:16.474Z"
   },
   {
    "duration": 8,
    "start_time": "2023-08-15T04:26:16.484Z"
   },
   {
    "duration": 17,
    "start_time": "2023-08-15T04:26:16.493Z"
   },
   {
    "duration": 859,
    "start_time": "2023-08-15T04:26:16.512Z"
   },
   {
    "duration": 964,
    "start_time": "2023-08-15T04:26:17.373Z"
   },
   {
    "duration": 661,
    "start_time": "2023-08-15T04:26:18.340Z"
   },
   {
    "duration": 893,
    "start_time": "2023-08-15T04:26:19.003Z"
   },
   {
    "duration": 487,
    "start_time": "2023-08-15T04:26:19.897Z"
   },
   {
    "duration": 10,
    "start_time": "2023-08-15T04:26:20.386Z"
   },
   {
    "duration": 992,
    "start_time": "2023-08-15T04:26:20.398Z"
   },
   {
    "duration": 3,
    "start_time": "2023-08-15T04:26:21.392Z"
   },
   {
    "duration": 7,
    "start_time": "2023-08-15T04:26:21.397Z"
   },
   {
    "duration": 15,
    "start_time": "2023-08-15T04:26:21.406Z"
   },
   {
    "duration": 17,
    "start_time": "2023-08-15T04:26:21.423Z"
   },
   {
    "duration": 7,
    "start_time": "2023-08-15T04:26:21.444Z"
   },
   {
    "duration": 7,
    "start_time": "2023-08-15T04:26:21.452Z"
   },
   {
    "duration": 9,
    "start_time": "2023-08-15T04:26:21.461Z"
   },
   {
    "duration": 6,
    "start_time": "2023-08-15T04:26:21.472Z"
   },
   {
    "duration": 30,
    "start_time": "2023-08-15T04:26:21.480Z"
   },
   {
    "duration": 28,
    "start_time": "2023-08-15T04:26:21.512Z"
   },
   {
    "duration": 65206,
    "start_time": "2023-08-15T04:26:21.558Z"
   },
   {
    "duration": 0,
    "start_time": "2023-08-15T04:27:26.766Z"
   },
   {
    "duration": 0,
    "start_time": "2023-08-15T04:27:26.767Z"
   },
   {
    "duration": 0,
    "start_time": "2023-08-15T04:27:26.768Z"
   },
   {
    "duration": 0,
    "start_time": "2023-08-15T04:27:26.769Z"
   },
   {
    "duration": 0,
    "start_time": "2023-08-15T04:27:26.770Z"
   },
   {
    "duration": 0,
    "start_time": "2023-08-15T04:27:26.771Z"
   },
   {
    "duration": 0,
    "start_time": "2023-08-15T04:27:26.772Z"
   },
   {
    "duration": 0,
    "start_time": "2023-08-15T04:27:26.773Z"
   },
   {
    "duration": 0,
    "start_time": "2023-08-15T04:27:26.774Z"
   },
   {
    "duration": 0,
    "start_time": "2023-08-15T04:27:26.775Z"
   },
   {
    "duration": 0,
    "start_time": "2023-08-15T04:27:26.777Z"
   },
   {
    "duration": 0,
    "start_time": "2023-08-15T04:27:26.778Z"
   },
   {
    "duration": 0,
    "start_time": "2023-08-15T04:27:26.779Z"
   },
   {
    "duration": 0,
    "start_time": "2023-08-15T04:27:26.780Z"
   },
   {
    "duration": 0,
    "start_time": "2023-08-15T04:27:26.781Z"
   },
   {
    "duration": 0,
    "start_time": "2023-08-15T04:27:26.782Z"
   },
   {
    "duration": 0,
    "start_time": "2023-08-15T04:27:26.783Z"
   },
   {
    "duration": 0,
    "start_time": "2023-08-15T04:27:26.784Z"
   },
   {
    "duration": 0,
    "start_time": "2023-08-15T04:27:26.785Z"
   },
   {
    "duration": 0,
    "start_time": "2023-08-15T04:27:26.787Z"
   },
   {
    "duration": 0,
    "start_time": "2023-08-15T04:27:26.788Z"
   },
   {
    "duration": 0,
    "start_time": "2023-08-15T04:27:26.789Z"
   },
   {
    "duration": 0,
    "start_time": "2023-08-15T04:27:26.790Z"
   },
   {
    "duration": 0,
    "start_time": "2023-08-15T04:27:26.791Z"
   },
   {
    "duration": 0,
    "start_time": "2023-08-15T04:27:26.792Z"
   },
   {
    "duration": 0,
    "start_time": "2023-08-15T04:27:26.793Z"
   },
   {
    "duration": 0,
    "start_time": "2023-08-15T04:27:26.794Z"
   },
   {
    "duration": 0,
    "start_time": "2023-08-15T04:27:26.795Z"
   },
   {
    "duration": 0,
    "start_time": "2023-08-15T04:27:26.797Z"
   },
   {
    "duration": 0,
    "start_time": "2023-08-15T04:27:26.798Z"
   },
   {
    "duration": 0,
    "start_time": "2023-08-15T04:27:26.798Z"
   },
   {
    "duration": 0,
    "start_time": "2023-08-15T04:27:26.799Z"
   },
   {
    "duration": 0,
    "start_time": "2023-08-15T04:27:26.800Z"
   },
   {
    "duration": 0,
    "start_time": "2023-08-15T04:27:26.859Z"
   },
   {
    "duration": 0,
    "start_time": "2023-08-15T04:27:26.860Z"
   },
   {
    "duration": 0,
    "start_time": "2023-08-15T04:27:26.862Z"
   },
   {
    "duration": 0,
    "start_time": "2023-08-15T04:27:26.863Z"
   },
   {
    "duration": 7562,
    "start_time": "2023-08-15T06:34:59.920Z"
   },
   {
    "duration": 1571,
    "start_time": "2023-08-15T06:35:07.485Z"
   },
   {
    "duration": 80,
    "start_time": "2023-08-15T06:35:09.058Z"
   },
   {
    "duration": 22,
    "start_time": "2023-08-15T06:35:09.140Z"
   },
   {
    "duration": 32,
    "start_time": "2023-08-15T06:35:09.164Z"
   },
   {
    "duration": 12,
    "start_time": "2023-08-15T06:35:09.198Z"
   },
   {
    "duration": 36,
    "start_time": "2023-08-15T06:35:09.212Z"
   },
   {
    "duration": 14,
    "start_time": "2023-08-15T06:35:09.250Z"
   },
   {
    "duration": 22,
    "start_time": "2023-08-15T06:35:09.266Z"
   },
   {
    "duration": 47,
    "start_time": "2023-08-15T06:35:09.291Z"
   },
   {
    "duration": 7,
    "start_time": "2023-08-15T06:35:09.340Z"
   },
   {
    "duration": 30,
    "start_time": "2023-08-15T06:35:09.348Z"
   },
   {
    "duration": 19,
    "start_time": "2023-08-15T06:35:09.380Z"
   },
   {
    "duration": 10,
    "start_time": "2023-08-15T06:35:09.400Z"
   },
   {
    "duration": 20,
    "start_time": "2023-08-15T06:35:09.411Z"
   },
   {
    "duration": 19,
    "start_time": "2023-08-15T06:35:09.432Z"
   },
   {
    "duration": 770,
    "start_time": "2023-08-15T06:35:09.453Z"
   },
   {
    "duration": 839,
    "start_time": "2023-08-15T06:35:10.225Z"
   },
   {
    "duration": 604,
    "start_time": "2023-08-15T06:35:11.065Z"
   },
   {
    "duration": 824,
    "start_time": "2023-08-15T06:35:11.671Z"
   },
   {
    "duration": 441,
    "start_time": "2023-08-15T06:35:12.496Z"
   },
   {
    "duration": 10,
    "start_time": "2023-08-15T06:35:12.939Z"
   },
   {
    "duration": 973,
    "start_time": "2023-08-15T06:35:12.950Z"
   },
   {
    "duration": 3,
    "start_time": "2023-08-15T06:35:13.925Z"
   },
   {
    "duration": 24,
    "start_time": "2023-08-15T06:35:13.930Z"
   },
   {
    "duration": 28,
    "start_time": "2023-08-15T06:35:13.957Z"
   },
   {
    "duration": 21,
    "start_time": "2023-08-15T06:35:13.987Z"
   },
   {
    "duration": 10,
    "start_time": "2023-08-15T06:35:14.012Z"
   },
   {
    "duration": 7,
    "start_time": "2023-08-15T06:35:14.024Z"
   },
   {
    "duration": 6,
    "start_time": "2023-08-15T06:35:14.033Z"
   },
   {
    "duration": 15,
    "start_time": "2023-08-15T06:35:14.041Z"
   },
   {
    "duration": 34,
    "start_time": "2023-08-15T06:35:14.057Z"
   },
   {
    "duration": 31,
    "start_time": "2023-08-15T06:35:14.092Z"
   },
   {
    "duration": 65656,
    "start_time": "2023-08-15T06:36:06.329Z"
   },
   {
    "duration": 170,
    "start_time": "2023-08-15T06:38:15.056Z"
   },
   {
    "duration": 6850,
    "start_time": "2023-08-15T06:47:23.051Z"
   },
   {
    "duration": 6174,
    "start_time": "2023-08-15T06:50:40.122Z"
   },
   {
    "duration": 122,
    "start_time": "2023-08-15T06:51:18.568Z"
   },
   {
    "duration": 34,
    "start_time": "2023-08-15T06:51:33.680Z"
   },
   {
    "duration": 64708,
    "start_time": "2023-08-15T06:51:50.452Z"
   },
   {
    "duration": 40,
    "start_time": "2023-08-15T06:52:55.163Z"
   },
   {
    "duration": 29,
    "start_time": "2023-08-15T06:53:46.300Z"
   },
   {
    "duration": 20,
    "start_time": "2023-08-15T06:53:59.856Z"
   },
   {
    "duration": 10,
    "start_time": "2023-08-15T06:54:10.112Z"
   },
   {
    "duration": 6455,
    "start_time": "2023-08-15T06:57:54.946Z"
   },
   {
    "duration": 6795,
    "start_time": "2023-08-15T06:58:24.601Z"
   },
   {
    "duration": 6980,
    "start_time": "2023-08-15T06:59:00.822Z"
   },
   {
    "duration": 11,
    "start_time": "2023-08-15T06:59:39.830Z"
   },
   {
    "duration": 62257,
    "start_time": "2023-08-15T07:00:52.967Z"
   },
   {
    "duration": 9,
    "start_time": "2023-08-15T07:01:55.226Z"
   },
   {
    "duration": 16,
    "start_time": "2023-08-15T07:01:56.649Z"
   },
   {
    "duration": 11,
    "start_time": "2023-08-15T07:02:06.494Z"
   },
   {
    "duration": 14,
    "start_time": "2023-08-15T07:02:08.047Z"
   },
   {
    "duration": 9,
    "start_time": "2023-08-15T07:02:09.672Z"
   },
   {
    "duration": 4,
    "start_time": "2023-08-15T07:02:11.358Z"
   },
   {
    "duration": 7,
    "start_time": "2023-08-15T07:02:12.888Z"
   },
   {
    "duration": 5669,
    "start_time": "2023-08-15T07:02:15.135Z"
   },
   {
    "duration": 34269,
    "start_time": "2023-08-15T07:03:17.321Z"
   },
   {
    "duration": 9,
    "start_time": "2023-08-15T07:03:51.595Z"
   },
   {
    "duration": 32,
    "start_time": "2023-08-15T07:03:51.606Z"
   },
   {
    "duration": 37,
    "start_time": "2023-08-15T07:03:51.640Z"
   },
   {
    "duration": 17,
    "start_time": "2023-08-15T07:03:51.678Z"
   },
   {
    "duration": 4703,
    "start_time": "2023-08-15T07:04:11.802Z"
   },
   {
    "duration": 35102,
    "start_time": "2023-08-15T07:04:55.483Z"
   },
   {
    "duration": 8,
    "start_time": "2023-08-15T07:05:30.587Z"
   },
   {
    "duration": 84,
    "start_time": "2023-08-15T07:05:30.597Z"
   },
   {
    "duration": 18,
    "start_time": "2023-08-15T07:06:24.163Z"
   },
   {
    "duration": 5,
    "start_time": "2023-08-15T07:06:30.586Z"
   },
   {
    "duration": 13,
    "start_time": "2023-08-15T07:06:32.123Z"
   },
   {
    "duration": 3,
    "start_time": "2023-08-15T07:06:33.828Z"
   },
   {
    "duration": 9,
    "start_time": "2023-08-15T07:06:35.607Z"
   },
   {
    "duration": 7322,
    "start_time": "2023-08-15T07:06:38.674Z"
   },
   {
    "duration": 174709,
    "start_time": "2023-08-15T07:06:45.998Z"
   },
   {
    "duration": 10,
    "start_time": "2023-08-15T07:09:40.710Z"
   },
   {
    "duration": 34,
    "start_time": "2023-08-15T07:09:40.723Z"
   },
   {
    "duration": 36,
    "start_time": "2023-08-15T07:09:40.759Z"
   },
   {
    "duration": 2986,
    "start_time": "2023-08-15T07:09:40.797Z"
   },
   {
    "duration": 11,
    "start_time": "2023-08-15T07:10:06.447Z"
   },
   {
    "duration": 9,
    "start_time": "2023-08-15T07:10:23.448Z"
   },
   {
    "duration": 7209,
    "start_time": "2023-08-15T07:11:57.587Z"
   },
   {
    "duration": 11,
    "start_time": "2023-08-15T07:12:17.492Z"
   },
   {
    "duration": 9,
    "start_time": "2023-08-15T07:12:27.645Z"
   },
   {
    "duration": 10,
    "start_time": "2023-08-15T07:12:31.357Z"
   },
   {
    "duration": 4,
    "start_time": "2023-08-15T07:12:41.717Z"
   },
   {
    "duration": 2979,
    "start_time": "2023-08-15T07:12:43.325Z"
   },
   {
    "duration": 3,
    "start_time": "2023-08-15T07:14:22.679Z"
   },
   {
    "duration": 12,
    "start_time": "2023-08-15T07:14:29.343Z"
   },
   {
    "duration": 2,
    "start_time": "2023-08-15T07:14:40.750Z"
   },
   {
    "duration": 14,
    "start_time": "2023-08-15T07:14:42.255Z"
   },
   {
    "duration": 217,
    "start_time": "2023-08-15T07:14:43.942Z"
   },
   {
    "duration": 12,
    "start_time": "2023-08-15T07:14:46.959Z"
   },
   {
    "duration": 227,
    "start_time": "2023-08-15T07:14:48.982Z"
   },
   {
    "duration": 10,
    "start_time": "2023-08-15T07:14:52.503Z"
   },
   {
    "duration": 211,
    "start_time": "2023-08-15T07:14:54.127Z"
   }
  ],
  "kernelspec": {
   "display_name": "Python 3 (ipykernel)",
   "language": "python",
   "name": "python3"
  },
  "language_info": {
   "codemirror_mode": {
    "name": "ipython",
    "version": 3
   },
   "file_extension": ".py",
   "mimetype": "text/x-python",
   "name": "python",
   "nbconvert_exporter": "python",
   "pygments_lexer": "ipython3",
   "version": "3.9.13"
  },
  "toc": {
   "base_numbering": 1,
   "nav_menu": {},
   "number_sections": true,
   "sideBar": true,
   "skip_h1_title": true,
   "title_cell": "Содержание",
   "title_sidebar": "Contents",
   "toc_cell": true,
   "toc_position": {
    "height": "calc(100% - 180px)",
    "left": "10px",
    "top": "150px",
    "width": "272px"
   },
   "toc_section_display": true,
   "toc_window_display": true
  }
 },
 "nbformat": 4,
 "nbformat_minor": 2
}
